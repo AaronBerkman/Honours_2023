{
  "nbformat": 4,
  "nbformat_minor": 5,
  "metadata": {
    "noteable-chatgpt": {
      "create_notebook": {
        "openai_conversation_id": "29a44b49-1150-5a8d-8473-b31829766904",
        "openai_ephemeral_user_id": "df0d96da-990e-52d7-8612-a7bfb8719fd7",
        "openai_subdivision1_iso_code": "ZA-GP"
      }
    },
    "kernel_info": {
      "name": "python3"
    },
    "noteable": {
      "last_transaction_id": "ae7ea142-032b-43d3-8402-883df5b1d99f"
    },
    "kernelspec": {
      "display_name": "Python 3.9",
      "language": "python",
      "name": "python3"
    },
    "selected_hardware_size": "small"
  },
  "cells": [
    {
      "id": "048d1e76-8268-4a31-b2b0-91640e82b92b",
      "cell_type": "code",
      "metadata": {
        "jupyter": {
          "outputs_hidden": false,
          "source_hidden": false
        },
        "noteable": {
          "cell_type": "code"
        }
      },
      "execution_count": null,
      "source": "",
      "outputs": []
    },
    {
      "id": "604891fb-09db-4ce8-8fb4-95ac953544df",
      "cell_type": "code",
      "metadata": {
        "noteable": {
          "cell_type": "code",
          "output_collection_id": "80f066fd-f366-4e70-899e-454d76cb8315"
        },
        "ExecuteTime": {
          "end_time": "2023-08-10T14:51:53.203303+00:00",
          "start_time": "2023-08-10T14:51:52.940984+00:00"
        },
        "datalink": {
          "2ec9ce9b-f164-4846-a353-9dcb60d20018": {
            "applied_filters": [],
            "dataframe_info": {
              "default_index_used": true,
              "orig_num_cols": 17,
              "orig_num_rows": 5,
              "orig_size_bytes": 720,
              "truncated_num_cols": 17,
              "truncated_num_rows": 5,
              "truncated_size_bytes": 720,
              "truncated_string_columns": []
            },
            "display_id": "2ec9ce9b-f164-4846-a353-9dcb60d20018",
            "dx_settings": {
              "ALLOW_NOTEABLE_ATTRS": true,
              "COLUMN_SAMPLING_METHOD": "outer",
              "DB_LOCATION": ":memory:",
              "DEV_MODE": false,
              "DISPLAY_MAX_COLUMNS": 100,
              "DISPLAY_MAX_ROWS": 50000,
              "DISPLAY_MODE": "simple",
              "ENABLE_ASSIGNMENT": true,
              "ENABLE_DATALINK": true,
              "FLATTEN_COLUMN_VALUES": true,
              "FLATTEN_INDEX_VALUES": false,
              "GENERATE_DEX_METADATA": false,
              "HTML_TABLE_SCHEMA": false,
              "LOG_LEVEL": 30,
              "MAX_RENDER_SIZE_BYTES": 104857600,
              "MAX_STRING_LENGTH": 250,
              "NUM_PAST_SAMPLES_TRACKED": 3,
              "RANDOM_STATE": 12648430,
              "RESET_INDEX_VALUES": false,
              "ROW_SAMPLING_METHOD": "random",
              "SAMPLING_FACTOR": 0.1,
              "SAMPLING_METHOD": "random",
              "STRINGIFY_COLUMN_VALUES": true,
              "STRINGIFY_INDEX_VALUES": false
            },
            "sample_history": [],
            "sampling_time": "2023-08-10T14:51:53.043605",
            "user_variable_name": null,
            "variable_name": "unk_dataframe_b30fabd7158a4fe7a9575ae70a3af681"
          }
        }
      },
      "execution_count": null,
      "source": "import pandas as pd\n\n# Load the dataset\nfile_path = '12 Abs SIR with metadata 1-85 updated.csv'\ndata = pd.read_csv(file_path)\n\n# Display the first few rows of the dataset\ndata.head()",
      "outputs": []
    },
    {
      "id": "1db00ca6-c24e-482a-bbb6-f986fc3451d7",
      "cell_type": "code",
      "metadata": {
        "noteable": {
          "cell_type": "code",
          "output_collection_id": "4353b59a-1910-40dc-99b3-07aa5e2c7189"
        },
        "ExecuteTime": {
          "end_time": "2023-08-10T14:52:44.666093+00:00",
          "start_time": "2023-08-10T14:52:44.463834+00:00"
        },
        "datalink": {
          "60bffaf6-50e6-420b-a48b-e5f7eebff22a": {
            "applied_filters": [],
            "dataframe_info": {
              "default_index_used": true,
              "orig_num_cols": 2,
              "orig_num_rows": 11,
              "orig_size_bytes": 264,
              "truncated_num_cols": 2,
              "truncated_num_rows": 11,
              "truncated_size_bytes": 264,
              "truncated_string_columns": []
            },
            "display_id": "60bffaf6-50e6-420b-a48b-e5f7eebff22a",
            "dx_settings": {
              "ALLOW_NOTEABLE_ATTRS": true,
              "COLUMN_SAMPLING_METHOD": "outer",
              "DB_LOCATION": ":memory:",
              "DEV_MODE": false,
              "DISPLAY_MAX_COLUMNS": 100,
              "DISPLAY_MAX_ROWS": 50000,
              "DISPLAY_MODE": "simple",
              "ENABLE_ASSIGNMENT": true,
              "ENABLE_DATALINK": true,
              "FLATTEN_COLUMN_VALUES": true,
              "FLATTEN_INDEX_VALUES": false,
              "GENERATE_DEX_METADATA": false,
              "HTML_TABLE_SCHEMA": false,
              "LOG_LEVEL": 30,
              "MAX_RENDER_SIZE_BYTES": 104857600,
              "MAX_STRING_LENGTH": 250,
              "NUM_PAST_SAMPLES_TRACKED": 3,
              "RANDOM_STATE": 12648430,
              "RESET_INDEX_VALUES": false,
              "ROW_SAMPLING_METHOD": "random",
              "SAMPLING_FACTOR": 0.1,
              "SAMPLING_METHOD": "random",
              "STRINGIFY_COLUMN_VALUES": true,
              "STRINGIFY_INDEX_VALUES": false
            },
            "sample_history": [],
            "sampling_time": "2023-08-10T14:52:44.509931",
            "user_variable_name": "success_rate_df",
            "variable_name": "success_rate_df"
          }
        }
      },
      "execution_count": null,
      "source": "# List of all antibiotics\nantibiotics_columns = data.columns[6:]\n\n# Calculate the success rate for each antibiotic (proportion of 'S')\nsuccess_rate = [data[antibiotic].value_counts(normalize=True).get('S', 0) for antibiotic in antibiotics_columns]\n\n# Create a DataFrame for visualization\nsuccess_rate_df = pd.DataFrame({'Antibiotic': antibiotics_columns, 'Success Rate': success_rate})\nsuccess_rate_df = success_rate_df.sort_values(by='Success Rate', ascending=False)\nsuccess_rate_df",
      "outputs": []
    },
    {
      "id": "df0548e0-4b3e-447a-9946-70e5231d63a5",
      "cell_type": "code",
      "metadata": {
        "noteable": {
          "cell_type": "code",
          "output_collection_id": "38815d0e-436f-48e3-8181-d545ca0d30a8"
        },
        "ExecuteTime": {
          "end_time": "2023-08-10T14:53:44.125274+00:00",
          "start_time": "2023-08-10T14:53:42.710842+00:00"
        }
      },
      "execution_count": null,
      "source": "import seaborn as sns\nimport matplotlib.pyplot as plt\n\n# Plot the success rate for all 12 antibiotics\nplt.figure(figsize=(10, 6))\nsns.barplot(x='Success Rate', y='Antibiotic', data=success_rate_df, palette='viridis')\nplt.title('Success Rate of Different Antibiotics')\nplt.xlabel('Success Rate')\nplt.ylabel('Antibiotic')\nplt.show()",
      "outputs": []
    },
    {
      "id": "af4a31e5-eaa4-4031-aeb2-ce261aef0eab",
      "cell_type": "code",
      "metadata": {
        "noteable": {
          "cell_type": "code",
          "output_collection_id": "8336e0e4-8ee8-4a1a-bfb3-dc8e9c691642"
        },
        "ExecuteTime": {
          "end_time": "2023-08-10T14:55:42.803909+00:00",
          "start_time": "2023-08-10T14:55:42.644801+00:00"
        }
      },
      "execution_count": null,
      "source": "# Display the column names to identify the specific column representing \"Amikacin 30\"\ndata.columns",
      "outputs": []
    },
    {
      "id": "8bd5c505-c45d-47c8-b4e9-008ac3c74d3a",
      "cell_type": "code",
      "metadata": {
        "noteable": {
          "cell_type": "code",
          "output_collection_id": "de9211ce-41e6-416a-a257-3d3273b1d3be"
        },
        "ExecuteTime": {
          "end_time": "2023-08-10T14:56:39.250182+00:00",
          "start_time": "2023-08-10T14:56:39.041625+00:00"
        },
        "datalink": {
          "22c8fcc0-9a3c-45cd-9888-60d5f1340679": {
            "applied_filters": [],
            "dataframe_info": {
              "default_index_used": true,
              "orig_num_cols": 2,
              "orig_num_rows": 12,
              "orig_size_bytes": 288,
              "truncated_num_cols": 2,
              "truncated_num_rows": 12,
              "truncated_size_bytes": 288,
              "truncated_string_columns": []
            },
            "display_id": "22c8fcc0-9a3c-45cd-9888-60d5f1340679",
            "dx_settings": {
              "ALLOW_NOTEABLE_ATTRS": true,
              "COLUMN_SAMPLING_METHOD": "outer",
              "DB_LOCATION": ":memory:",
              "DEV_MODE": false,
              "DISPLAY_MAX_COLUMNS": 100,
              "DISPLAY_MAX_ROWS": 50000,
              "DISPLAY_MODE": "simple",
              "ENABLE_ASSIGNMENT": true,
              "ENABLE_DATALINK": true,
              "FLATTEN_COLUMN_VALUES": true,
              "FLATTEN_INDEX_VALUES": false,
              "GENERATE_DEX_METADATA": false,
              "HTML_TABLE_SCHEMA": false,
              "LOG_LEVEL": 30,
              "MAX_RENDER_SIZE_BYTES": 104857600,
              "MAX_STRING_LENGTH": 250,
              "NUM_PAST_SAMPLES_TRACKED": 3,
              "RANDOM_STATE": 12648430,
              "RESET_INDEX_VALUES": false,
              "ROW_SAMPLING_METHOD": "random",
              "SAMPLING_FACTOR": 0.1,
              "SAMPLING_METHOD": "random",
              "STRINGIFY_COLUMN_VALUES": true,
              "STRINGIFY_INDEX_VALUES": false
            },
            "sample_history": [],
            "sampling_time": "2023-08-10T14:56:39.092636",
            "user_variable_name": "success_rate_df",
            "variable_name": "success_rate_df"
          }
        }
      },
      "execution_count": null,
      "source": "# List of all antibiotics, explicitly including \"Amikacin 30\"\nantibiotics_columns = data.columns[5:]\n\n# Calculate the success rate for each antibiotic (proportion of 'S')\nsuccess_rate = [data[antibiotic].value_counts(normalize=True).get('S', 0) for antibiotic in antibiotics_columns]\n\n# Create a DataFrame for visualization\nsuccess_rate_df = pd.DataFrame({'Antibiotic': antibiotics_columns, 'Success Rate': success_rate})\nsuccess_rate_df = success_rate_df.sort_values(by='Success Rate', ascending=False)\nsuccess_rate_df",
      "outputs": []
    },
    {
      "id": "b6257126-58a7-44b6-866f-5bef5553f2d0",
      "cell_type": "code",
      "metadata": {
        "noteable": {
          "cell_type": "code",
          "output_collection_id": "471e6cee-8d98-447f-aaee-2ccf1950bb82"
        },
        "ExecuteTime": {
          "end_time": "2023-08-10T14:57:37.433639+00:00",
          "start_time": "2023-08-10T14:57:36.853618+00:00"
        }
      },
      "execution_count": null,
      "source": "# Plot the success rate for all 12 antibiotics (including \"Amikacin 30\")\nplt.figure(figsize=(10, 6))\nsns.barplot(x='Success Rate', y='Antibiotic', data=success_rate_df, palette='viridis')\nplt.title('Success Rate of Different Antibiotics (Including Amikacin 30)')\nplt.xlabel('Success Rate')\nplt.ylabel('Antibiotic')\nplt.show()",
      "outputs": []
    },
    {
      "id": "26e9d0a3-66ec-4a2e-91d2-e74cb18d661e",
      "cell_type": "code",
      "metadata": {
        "noteable": {
          "cell_type": "code",
          "output_collection_id": "17e68c17-a61a-4e92-a420-228268f9fce2"
        },
        "ExecuteTime": {
          "end_time": "2023-08-10T15:04:11.940313+00:00",
          "start_time": "2023-08-10T15:04:11.363168+00:00"
        }
      },
      "execution_count": null,
      "source": "# Plot the success rate for all 12 antibiotics (including \"Amikacin 30\") with percentages on bars\nplt.figure(figsize=(10, 6))\nbarplot = sns.barplot(x='Success Rate', y='Antibiotic', data=success_rate_df, palette='viridis')\n\n# Add percentages to the bars\nfor p in barplot.patches:\n    width = p.get_width()\n    plt.text(width - 0.01, p.get_y() + p.get_height() / 2, '{:1.2f}%'.format(width * 100), ha='right')\n\n\n\nplt.xlabel('Success Rate')\nplt.ylabel('Antibiotic')\nplt.show()",
      "outputs": []
    },
    {
      "id": "a5f6f24d-589d-4558-8ed1-bdfd00386951",
      "cell_type": "code",
      "metadata": {
        "noteable": {
          "cell_type": "code",
          "output_collection_id": "2957ab98-dd91-430e-be61-800c48ee64bc"
        },
        "ExecuteTime": {
          "end_time": "2023-08-10T15:04:36.701314+00:00",
          "start_time": "2023-08-10T15:04:36.054592+00:00"
        },
        "scrolled": false
      },
      "execution_count": null,
      "source": "from wordcloud import WordCloud\n\n# Extract antibiotic names without dosages\nantibiotic_names_without_dosages = [name.split(' ')[0] for name in success_rate_df['Antibiotic']]\n\n# Create a dictionary with cleaned antibiotic names as keys and success rate as values\nantibiotics_success_rate_cleaned = {name: rate for name, rate in zip(antibiotic_names_without_dosages, success_rate_df['Success Rate'])}\n\n# Generate the word cloud with cleaned antibiotic names\nwordcloud_cleaned = WordCloud(width=800, height=400, background_color='white').generate_from_frequencies(antibiotics_success_rate_cleaned)\n\n# Display the word cloud\nplt.figure(figsize=(10, 5))\nplt.imshow(wordcloud_cleaned, interpolation='bilinear')\nplt.axis('off')\n\nplt.show()",
      "outputs": []
    },
    {
      "id": "deebae3d-f94c-4e98-b3ee-b4811eb8008f",
      "cell_type": "code",
      "metadata": {
        "noteable": {
          "cell_type": "code",
          "output_collection_id": "d063171b-7935-4f74-9db5-cdf3a02555aa"
        },
        "ExecuteTime": {
          "end_time": "2023-08-10T15:01:24.578689+00:00",
          "start_time": "2023-08-10T15:01:18.897786+00:00"
        }
      },
      "execution_count": null,
      "source": "!pip install -q wordcloud",
      "outputs": []
    },
    {
      "id": "b55fd77c-983f-42b3-b0fb-8eb30767cfdc",
      "cell_type": "code",
      "metadata": {
        "noteable": {
          "cell_type": "code",
          "output_collection_id": "1f28a12b-0cf4-4a94-99c5-a8545059951c"
        },
        "ExecuteTime": {
          "end_time": "2023-08-10T15:07:16.470358+00:00",
          "start_time": "2023-08-10T15:07:15.689922+00:00"
        }
      },
      "execution_count": null,
      "source": "# Load the dataset for strains with genome sequencing\nfile_path_strains = '12 antitbiotics - strains with genome sequencing .csv'\ndata_strains = pd.read_csv(file_path_strains)\n\n# Display the first few rows of the dataset\ndata_strains.head()",
      "outputs": []
    },
    {
      "id": "ba9246b8-4349-40fb-b9a4-198441302737",
      "cell_type": "code",
      "metadata": {
        "noteable": {
          "cell_type": "code",
          "output_collection_id": "dd734c45-608a-43db-8c47-f44cfa55447e"
        },
        "ExecuteTime": {
          "end_time": "2023-08-10T15:07:55.871856+00:00",
          "start_time": "2023-08-10T15:07:55.604530+00:00"
        },
        "datalink": {
          "da12e913-cc2f-4857-b3fe-580c3bac6026": {
            "applied_filters": [],
            "dataframe_info": {
              "default_index_used": true,
              "orig_num_cols": 14,
              "orig_num_rows": 5,
              "orig_size_bytes": 600,
              "truncated_num_cols": 14,
              "truncated_num_rows": 5,
              "truncated_size_bytes": 600,
              "truncated_string_columns": []
            },
            "display_id": "da12e913-cc2f-4857-b3fe-580c3bac6026",
            "dx_settings": {
              "ALLOW_NOTEABLE_ATTRS": true,
              "COLUMN_SAMPLING_METHOD": "outer",
              "DB_LOCATION": ":memory:",
              "DEV_MODE": false,
              "DISPLAY_MAX_COLUMNS": 100,
              "DISPLAY_MAX_ROWS": 50000,
              "DISPLAY_MODE": "simple",
              "ENABLE_ASSIGNMENT": true,
              "ENABLE_DATALINK": true,
              "FLATTEN_COLUMN_VALUES": true,
              "FLATTEN_INDEX_VALUES": false,
              "GENERATE_DEX_METADATA": false,
              "HTML_TABLE_SCHEMA": false,
              "LOG_LEVEL": 30,
              "MAX_RENDER_SIZE_BYTES": 104857600,
              "MAX_STRING_LENGTH": 250,
              "NUM_PAST_SAMPLES_TRACKED": 3,
              "RANDOM_STATE": 12648430,
              "RESET_INDEX_VALUES": false,
              "ROW_SAMPLING_METHOD": "random",
              "SAMPLING_FACTOR": 0.1,
              "SAMPLING_METHOD": "random",
              "STRINGIFY_COLUMN_VALUES": true,
              "STRINGIFY_INDEX_VALUES": false
            },
            "sample_history": [],
            "sampling_time": "2023-08-10T15:07:55.710075",
            "user_variable_name": null,
            "variable_name": "unk_dataframe_ecb025846f55426eab007b825975d3a2"
          }
        }
      },
      "execution_count": null,
      "source": "# Load the dataset for strains with genome sequencing using an alternative encoding (ISO-8859-1)\ndata_strains = pd.read_csv(file_path_strains, encoding='ISO-8859-1')\n\n# Display the first few rows of the dataset\ndata_strains.head()",
      "outputs": []
    },
    {
      "id": "dc9273af-c04d-464c-ab1a-069a59fec564",
      "cell_type": "code",
      "metadata": {
        "noteable": {
          "cell_type": "code",
          "output_collection_id": "3c39edd3-5840-4bb2-9cfc-85437fcc58b9"
        },
        "ExecuteTime": {
          "end_time": "2023-08-10T15:09:22.941442+00:00",
          "start_time": "2023-08-10T15:09:22.760173+00:00"
        }
      },
      "execution_count": null,
      "source": "# Define a mapping for resistance scores\nresistance_mapping = {'S': 0, 'I': 1, 'R': 2}\n\n# Apply the mapping to the antibiotic columns\nantibiotic_columns_strains = data_strains.columns[3:]\nfor col in antibiotic_columns_strains:\n    data_strains[col] = data_strains[col].map(resistance_mapping)\n\n# Calculate the average resistance score for each strain\ndata_strains['Average Resistance Score'] = data_strains[antibiotic_columns_strains].mean(axis=1)\n\n# Create a dictionary with strain names as keys and average resistance score as values\nstrain_resistance_dict = {strain: score for strain, score in zip(data_strains['Species'], data_strains['Average Resistance Score'])}\n\n# Generate the word cloud with strain names in italics\nwordcloud_strains = WordCloud(width=800, height=400, background_color='white', font_step=1, font_path=None, regexp=None, collocations=False, colormap='viridis', normalize_plurals=False, contour_width=0, contour_color='black', repeat=False, include_numbers=False, min_font_size=4, max_font_size=None, max_words=200, min_word_length=0, collocation_threshold=30, random_state=None, prefer_horizontal=0.9, mask=None, scale=1, color_func=None, mode='RGB', relative_scaling='auto', regexp=None, include_numbers=False, min_font_size=4, max_font_size=None, max_words=200, stopwords=None)\nwordcloud_strains.generate_from_frequencies(strain_resistance_dict)\n\n# Display the word cloud\nplt.figure(figsize=(10, 5))\nplt.imshow(wordcloud_strains, interpolation='bilinear')\nplt.axis('off')\nplt.title('Word Cloud of Strain Names (in Italics)')\nplt.show()",
      "outputs": []
    },
    {
      "id": "1c46996a-9699-4acb-8b00-1ef4efda419d",
      "cell_type": "code",
      "metadata": {
        "noteable": {
          "cell_type": "code",
          "output_collection_id": "24056004-6cf2-4df5-821a-cd8f0c8f800f"
        },
        "ExecuteTime": {
          "end_time": "2023-08-10T15:10:24.222995+00:00",
          "start_time": "2023-08-10T15:10:23.585014+00:00"
        }
      },
      "execution_count": null,
      "source": "# Generate the word cloud with strain names (removing repeated keyword arguments)\nwordcloud_strains = WordCloud(width=800, height=400, background_color='white', font_step=1, collocations=False, colormap='viridis', normalize_plurals=False, contour_width=0, contour_color='black', repeat=False, include_numbers=False, min_font_size=4, max_font_size=None, max_words=200, min_word_length=0, collocation_threshold=30, random_state=None, prefer_horizontal=0.9, mask=None, scale=1, color_func=None, mode='RGB', relative_scaling='auto', stopwords=None)\nwordcloud_strains.generate_from_frequencies(strain_resistance_dict)\n\n# Display the word cloud\nplt.figure(figsize=(10, 5))\nplt.imshow(wordcloud_strains, interpolation='bilinear')\nplt.axis('off')\nplt.title('Word Cloud of Strain Names')\nplt.show()",
      "outputs": []
    },
    {
      "id": "d435ddb8-e03c-4b3d-9724-dd0a7ef39799",
      "cell_type": "code",
      "metadata": {
        "noteable": {
          "cell_type": "code",
          "output_collection_id": "542c8143-e614-4520-9388-eacc11ebf788"
        },
        "ExecuteTime": {
          "end_time": "2023-08-10T15:13:36.232012+00:00",
          "start_time": "2023-08-10T15:13:36.008844+00:00"
        },
        "datalink": {
          "0b6040ad-f2a0-424a-aae3-06b6d6a37761": {
            "applied_filters": [],
            "dataframe_info": {
              "default_index_used": true,
              "orig_num_cols": 2,
              "orig_num_rows": 50,
              "orig_size_bytes": 1200,
              "truncated_num_cols": 2,
              "truncated_num_rows": 50,
              "truncated_size_bytes": 1200,
              "truncated_string_columns": []
            },
            "display_id": "0b6040ad-f2a0-424a-aae3-06b6d6a37761",
            "dx_settings": {
              "ALLOW_NOTEABLE_ATTRS": true,
              "COLUMN_SAMPLING_METHOD": "outer",
              "DB_LOCATION": ":memory:",
              "DEV_MODE": false,
              "DISPLAY_MAX_COLUMNS": 100,
              "DISPLAY_MAX_ROWS": 50000,
              "DISPLAY_MODE": "simple",
              "ENABLE_ASSIGNMENT": true,
              "ENABLE_DATALINK": true,
              "FLATTEN_COLUMN_VALUES": true,
              "FLATTEN_INDEX_VALUES": false,
              "GENERATE_DEX_METADATA": false,
              "HTML_TABLE_SCHEMA": false,
              "LOG_LEVEL": 30,
              "MAX_RENDER_SIZE_BYTES": 104857600,
              "MAX_STRING_LENGTH": 250,
              "NUM_PAST_SAMPLES_TRACKED": 3,
              "RANDOM_STATE": 12648430,
              "RESET_INDEX_VALUES": false,
              "ROW_SAMPLING_METHOD": "random",
              "SAMPLING_FACTOR": 0.1,
              "SAMPLING_METHOD": "random",
              "STRINGIFY_COLUMN_VALUES": true,
              "STRINGIFY_INDEX_VALUES": false
            },
            "sample_history": [],
            "sampling_time": "2023-08-10T15:13:36.073468",
            "user_variable_name": null,
            "variable_name": "unk_dataframe_bdb6fe23db3a4a0e9e3f0881d106b0dc"
          }
        }
      },
      "execution_count": null,
      "source": "# Display the strain names and average resistance scores\ndata_strains[['Species', 'Average Resistance Score']].sort_values(by='Average Resistance Score', ascending=False)",
      "outputs": []
    },
    {
      "id": "a68a084a-1967-464a-b6ba-cc427772ccfa",
      "cell_type": "code",
      "metadata": {
        "noteable": {
          "cell_type": "code",
          "output_collection_id": "e70ccf55-d6c5-4817-be3a-0087a115d8c6"
        },
        "ExecuteTime": {
          "end_time": "2023-08-10T15:14:56.943807+00:00",
          "start_time": "2023-08-10T15:14:56.308005+00:00"
        }
      },
      "execution_count": null,
      "source": "# Clean the strain names by removing unwanted characters (e.g., symbols)\ndata_strains['Species_Cleaned'] = data_strains['Species'].str.replace('[^a-zA-Z0-9\\s.]+', '')\n\n# Create a dictionary with cleaned strain names as keys and average resistance score as values\nstrain_resistance_dict_cleaned = {strain: score for strain, score in zip(data_strains['Species_Cleaned'], data_strains['Average Resistance Score'])}\n\n# Generate the word cloud with cleaned strain names\nwordcloud_strains_cleaned = WordCloud(width=800, height=400, background_color='white', collocations=False, colormap='viridis', normalize_plurals=False, contour_width=0, contour_color='black', repeat=False, include_numbers=False, min_font_size=4, max_font_size=None, max_words=200, min_word_length=0, collocation_threshold=30, random_state=None, prefer_horizontal=0.9, mask=None, scale=1, color_func=None, mode='RGB', relative_scaling='auto', stopwords=None)\nwordcloud_strains_cleaned.generate_from_frequencies(strain_resistance_dict_cleaned)\n\n# Display the word cloud\nplt.figure(figsize=(10, 5))\nplt.imshow(wordcloud_strains_cleaned, interpolation='bilinear')\nplt.axis('off')\nplt.title('Word Cloud of Cleaned Strain Names')\nplt.show()",
      "outputs": []
    },
    {
      "id": "8a32c5f2-0fd0-4821-be2c-cd2551decb42",
      "cell_type": "code",
      "metadata": {
        "noteable": {
          "cell_type": "code",
          "output_collection_id": "abb5768b-e1aa-4152-8a8f-7b014af0a3f8"
        },
        "ExecuteTime": {
          "end_time": "2023-08-10T15:17:09.110434+00:00",
          "start_time": "2023-08-10T15:17:08.518088+00:00"
        }
      },
      "execution_count": null,
      "source": "# Group the data by cleaned strain names and calculate the mean of the average resistance scores for each unique strain\nunique_strain_resistance = data_strains.groupby('Species_Cleaned')['Average Resistance Score'].mean().reset_index()\n\n# Create a dictionary with unique cleaned strain names as keys and mean average resistance score as values\nunique_strain_resistance_dict = {strain: score for strain, score in zip(unique_strain_resistance['Species_Cleaned'], unique_strain_resistance['Average Resistance Score'])}\n\n# Generate the word cloud with unique cleaned strain names\nwordcloud_unique_strains = WordCloud(width=800, height=400, background_color='white', collocations=False, colormap='viridis', normalize_plurals=False, contour_width=0, contour_color='black', repeat=False, include_numbers=False, min_font_size=4, max_font_size=None, max_words=200, min_word_length=0, collocation_threshold=30, random_state=None, prefer_horizontal=0.9, mask=None, scale=1, color_func=None, mode='RGB', relative_scaling='auto', stopwords=None)\nwordcloud_unique_strains.generate_from_frequencies(unique_strain_resistance_dict)\n\n# Display the word cloud\nplt.figure(figsize=(10, 5))\nplt.imshow(wordcloud_unique_strains, interpolation='bilinear')\nplt.axis('off')\n\nplt.show()",
      "outputs": []
    }
  ]
}