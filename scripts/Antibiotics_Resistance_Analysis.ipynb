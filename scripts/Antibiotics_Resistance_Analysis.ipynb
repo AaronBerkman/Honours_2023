{
  "nbformat": 4,
  "nbformat_minor": 5,
  "metadata": {
    "noteable-chatgpt": {
      "create_notebook": {
        "openai_conversation_id": "b7cf0ecb-cafe-5700-a87c-9c6507c7e64c",
        "openai_ephemeral_user_id": "df0d96da-990e-52d7-8612-a7bfb8719fd7",
        "openai_subdivision1_iso_code": "ZA-GP"
      }
    },
    "kernel_info": {
      "name": "python3"
    },
    "noteable": {
      "last_transaction_id": "db8de5e4-b825-46a6-a154-867ac801cd3e"
    },
    "kernelspec": {
      "display_name": "Python 3.9",
      "language": "python",
      "name": "python3"
    },
    "selected_hardware_size": "small"
  },
  "cells": [
    {
      "id": "099a5872-891c-45e9-9eb6-a928418e8ae9",
      "cell_type": "code",
      "metadata": {
        "noteable": {
          "cell_type": "code",
          "output_collection_id": "8d88bb29-b8db-4f17-8d60-e32a5742dae4"
        },
        "ExecuteTime": {
          "end_time": "2023-08-10T12:44:08.812147+00:00",
          "start_time": "2023-08-10T12:44:08.521235+00:00"
        }
      },
      "execution_count": null,
      "source": "import pandas as pd\nfile_path = '12 Abs SIR with metadata 1-85.csv'\ndata = pd.read_csv(file_path)\ndata.head()",
      "outputs": []
    },
    {
      "id": "a2d0fea7-de0f-4fa9-95cb-28851e694fda",
      "cell_type": "code",
      "metadata": {
        "noteable": {
          "cell_type": "code",
          "output_collection_id": "187bdf91-c222-4cd7-b171-1ba2bf372bb4"
        },
        "ExecuteTime": {
          "end_time": "2023-08-10T12:44:12.557273+00:00",
          "start_time": "2023-08-10T12:44:12.293864+00:00"
        },
        "datalink": {
          "7182a830-e0d5-487a-8652-8d3712ccb292": {
            "applied_filters": [],
            "dataframe_info": {
              "default_index_used": true,
              "orig_num_cols": 16,
              "orig_num_rows": 5,
              "orig_size_bytes": 680,
              "truncated_num_cols": 16,
              "truncated_num_rows": 5,
              "truncated_size_bytes": 680,
              "truncated_string_columns": []
            },
            "display_id": "7182a830-e0d5-487a-8652-8d3712ccb292",
            "dx_settings": {
              "ALLOW_NOTEABLE_ATTRS": true,
              "COLUMN_SAMPLING_METHOD": "outer",
              "DB_LOCATION": ":memory:",
              "DEV_MODE": false,
              "DISPLAY_MAX_COLUMNS": 100,
              "DISPLAY_MAX_ROWS": 50000,
              "DISPLAY_MODE": "simple",
              "ENABLE_ASSIGNMENT": true,
              "ENABLE_DATALINK": true,
              "FLATTEN_COLUMN_VALUES": true,
              "FLATTEN_INDEX_VALUES": false,
              "GENERATE_DEX_METADATA": false,
              "HTML_TABLE_SCHEMA": false,
              "LOG_LEVEL": 30,
              "MAX_RENDER_SIZE_BYTES": 104857600,
              "MAX_STRING_LENGTH": 250,
              "NUM_PAST_SAMPLES_TRACKED": 3,
              "RANDOM_STATE": 12648430,
              "RESET_INDEX_VALUES": false,
              "ROW_SAMPLING_METHOD": "random",
              "SAMPLING_FACTOR": 0.1,
              "SAMPLING_METHOD": "random",
              "STRINGIFY_COLUMN_VALUES": true,
              "STRINGIFY_INDEX_VALUES": false
            },
            "sample_history": [],
            "sampling_time": "2023-08-10T06:45:12.993400",
            "user_variable_name": null,
            "variable_name": "unk_dataframe_68f7e82bb437488d8fd892c2d985baee"
          },
          "a5bce37b-8ffa-49c9-881a-2e846570ca3a": {
            "applied_filters": [],
            "dataframe_info": {
              "default_index_used": true,
              "orig_num_cols": 16,
              "orig_num_rows": 5,
              "orig_size_bytes": 680,
              "truncated_num_cols": 16,
              "truncated_num_rows": 5,
              "truncated_size_bytes": 680,
              "truncated_string_columns": []
            },
            "display_id": "a5bce37b-8ffa-49c9-881a-2e846570ca3a",
            "dx_settings": {
              "ALLOW_NOTEABLE_ATTRS": true,
              "COLUMN_SAMPLING_METHOD": "outer",
              "DB_LOCATION": ":memory:",
              "DEV_MODE": false,
              "DISPLAY_MAX_COLUMNS": 100,
              "DISPLAY_MAX_ROWS": 50000,
              "DISPLAY_MODE": "simple",
              "ENABLE_ASSIGNMENT": true,
              "ENABLE_DATALINK": true,
              "FLATTEN_COLUMN_VALUES": true,
              "FLATTEN_INDEX_VALUES": false,
              "GENERATE_DEX_METADATA": false,
              "HTML_TABLE_SCHEMA": false,
              "LOG_LEVEL": 30,
              "MAX_RENDER_SIZE_BYTES": 104857600,
              "MAX_STRING_LENGTH": 250,
              "NUM_PAST_SAMPLES_TRACKED": 3,
              "RANDOM_STATE": 12648430,
              "RESET_INDEX_VALUES": false,
              "ROW_SAMPLING_METHOD": "random",
              "SAMPLING_FACTOR": 0.1,
              "SAMPLING_METHOD": "random",
              "STRINGIFY_COLUMN_VALUES": true,
              "STRINGIFY_INDEX_VALUES": false
            },
            "sample_history": [],
            "sampling_time": "2023-08-10T12:44:12.397255",
            "user_variable_name": null,
            "variable_name": "unk_dataframe_9686619be6ed4f729c1a47847c7c7577"
          }
        }
      },
      "execution_count": null,
      "source": "data = pd.read_csv(file_path, encoding='ISO-8859-1')\ndata.head()",
      "outputs": []
    },
    {
      "id": "83ecd0ca-c1d7-4e65-8076-0f27fc2bacec",
      "cell_type": "code",
      "metadata": {
        "noteable": {
          "cell_type": "code",
          "output_collection_id": "a39de8a5-cd46-4ea6-83c2-f1d207b60da5"
        },
        "ExecuteTime": {
          "end_time": "2023-08-10T12:44:16.652003+00:00",
          "start_time": "2023-08-10T12:44:16.449693+00:00"
        },
        "datalink": {
          "ec7e4114-0add-4da0-bda3-58a6c770e70a": {
            "applied_filters": [],
            "dataframe_info": {
              "default_index_used": true,
              "orig_num_cols": 2,
              "orig_num_rows": 5,
              "orig_size_bytes": 120,
              "truncated_num_cols": 2,
              "truncated_num_rows": 5,
              "truncated_size_bytes": 120,
              "truncated_string_columns": []
            },
            "display_id": "ec7e4114-0add-4da0-bda3-58a6c770e70a",
            "dx_settings": {
              "ALLOW_NOTEABLE_ATTRS": true,
              "COLUMN_SAMPLING_METHOD": "outer",
              "DB_LOCATION": ":memory:",
              "DEV_MODE": false,
              "DISPLAY_MAX_COLUMNS": 100,
              "DISPLAY_MAX_ROWS": 50000,
              "DISPLAY_MODE": "simple",
              "ENABLE_ASSIGNMENT": true,
              "ENABLE_DATALINK": true,
              "FLATTEN_COLUMN_VALUES": true,
              "FLATTEN_INDEX_VALUES": false,
              "GENERATE_DEX_METADATA": false,
              "HTML_TABLE_SCHEMA": false,
              "LOG_LEVEL": 30,
              "MAX_RENDER_SIZE_BYTES": 104857600,
              "MAX_STRING_LENGTH": 250,
              "NUM_PAST_SAMPLES_TRACKED": 3,
              "RANDOM_STATE": 12648430,
              "RESET_INDEX_VALUES": false,
              "ROW_SAMPLING_METHOD": "random",
              "SAMPLING_FACTOR": 0.1,
              "SAMPLING_METHOD": "random",
              "STRINGIFY_COLUMN_VALUES": true,
              "STRINGIFY_INDEX_VALUES": false
            },
            "sample_history": [],
            "sampling_time": "2023-08-10T06:46:01.199406",
            "user_variable_name": null,
            "variable_name": "unk_dataframe_2c7b6942768d402787b65282fad5bb3c"
          },
          "62821158-7ed1-44d0-9b3e-d8654d097488": {
            "applied_filters": [],
            "dataframe_info": {
              "default_index_used": true,
              "orig_num_cols": 2,
              "orig_num_rows": 5,
              "orig_size_bytes": 120,
              "truncated_num_cols": 2,
              "truncated_num_rows": 5,
              "truncated_size_bytes": 120,
              "truncated_string_columns": []
            },
            "display_id": "62821158-7ed1-44d0-9b3e-d8654d097488",
            "dx_settings": {
              "ALLOW_NOTEABLE_ATTRS": true,
              "COLUMN_SAMPLING_METHOD": "outer",
              "DB_LOCATION": ":memory:",
              "DEV_MODE": false,
              "DISPLAY_MAX_COLUMNS": 100,
              "DISPLAY_MAX_ROWS": 50000,
              "DISPLAY_MODE": "simple",
              "ENABLE_ASSIGNMENT": true,
              "ENABLE_DATALINK": true,
              "FLATTEN_COLUMN_VALUES": true,
              "FLATTEN_INDEX_VALUES": false,
              "GENERATE_DEX_METADATA": false,
              "HTML_TABLE_SCHEMA": false,
              "LOG_LEVEL": 30,
              "MAX_RENDER_SIZE_BYTES": 104857600,
              "MAX_STRING_LENGTH": 250,
              "NUM_PAST_SAMPLES_TRACKED": 3,
              "RANDOM_STATE": 12648430,
              "RESET_INDEX_VALUES": false,
              "ROW_SAMPLING_METHOD": "random",
              "SAMPLING_FACTOR": 0.1,
              "SAMPLING_METHOD": "random",
              "STRINGIFY_COLUMN_VALUES": true,
              "STRINGIFY_INDEX_VALUES": false
            },
            "sample_history": [],
            "sampling_time": "2023-08-10T12:44:16.495714",
            "user_variable_name": null,
            "variable_name": "unk_dataframe_b7b85914bc0f48dd99df33bedc6a82a8"
          }
        },
        "dx": {
          "dashboard": {
            "multiViews": []
          },
          "fieldMetadata": {},
          "updated": 1691650216906,
          "views": [
            {
              "annotationRules": [],
              "chart": {},
              "chartMode": "grid",
              "confoRules": [],
              "decoration": {
                "footer": "",
                "subtitle": "",
                "title": "Table"
              },
              "facets": [],
              "filterSettings": {
                "SHOW_FILTER_PANEL": true,
                "filters": []
              },
              "id": "first-view",
              "isDefault": true,
              "type": "public",
              "userID": ""
            },
            {
              "annotationRules": [],
              "chart": {
                "barProjection": "horizontal",
                "facets": []
              },
              "chartMode": "bar",
              "confoRules": [],
              "decoration": {
                "footer": "",
                "subtitle": "",
                "title": "Bar Chart"
              },
              "facets": [],
              "filterSettings": {
                "SHOW_FILTER_PANEL": true,
                "filters": []
              },
              "id": "first-view",
              "isDefault": true,
              "isTransitory": true,
              "type": "public",
              "userID": ""
            },
            {
              "annotationRules": [],
              "chart": {},
              "chartMode": "empty",
              "confoRules": [],
              "decoration": {
                "footer": "",
                "subtitle": "",
                "title": "New View"
              },
              "facets": [],
              "filterSettings": {
                "SHOW_FILTER_PANEL": true,
                "filters": []
              },
              "id": "aad02085-4b81-46f1-a634-01d60ec345df",
              "isDefault": false,
              "type": "public",
              "userID": ""
            }
          ]
        }
      },
      "execution_count": null,
      "source": "# Define the scoring system\nscoring_system = {'R': 2, 'I': 1, 'S': 0}\n\n# Select only the antibiotic columns\nantibiotic_columns = data.columns[5:]\n\n# Apply the scoring system to the antibiotic columns\nscored_data = data[antibiotic_columns].replace(scoring_system)\n\n# Sum the scores for each isolate\ndata['Total_Score'] = scored_data.sum(axis=1)\n\n# Rank the isolates in descending order of total score\nranked_data = data.sort_values('Total_Score', ascending=False)\nranked_data[['Strain Number', 'Total_Score']].head()",
      "outputs": []
    },
    {
      "id": "ad0ac5d7-8673-407b-b7dd-8acad9b3bcf3",
      "cell_type": "code",
      "metadata": {
        "noteable": {
          "cell_type": "code",
          "output_collection_id": "54a49d1f-4977-449f-8b0a-290db64a59b1"
        },
        "ExecuteTime": {
          "end_time": "2023-08-10T12:44:21.507716+00:00",
          "start_time": "2023-08-10T12:44:20.354365+00:00"
        }
      },
      "execution_count": null,
      "source": "import matplotlib.pyplot as plt\n\n# Create labels for the isolates\nlabels = []\nfor index, row in ranked_data.iterrows():\n    if row['Genome Sequencing'] != 'Not Sequenced':\n        labels.append('\\textit{' + row['Genome Sequencing'] + '}')\n    else:\n        labels.append(str(row['Strain Number']))\n\n# Plot the resistance scores\nplt.figure(figsize=(15, 5))\nplt.bar(labels, ranked_data['Total_Score'])\nplt.xticks(rotation=90)\nplt.xlabel('Isolates')\nplt.ylabel('Resistance Score')\nplt.title('Resistance Score of Bacterial Isolates')\nplt.tight_layout()\nplt.show()",
      "outputs": []
    },
    {
      "id": "0c820dc1-523c-45ee-a00c-bf0f8a69bad8",
      "cell_type": "code",
      "metadata": {
        "noteable": {
          "cell_type": "code",
          "output_collection_id": "8785fde6-6bf6-4889-84b9-fbc02e56328a"
        },
        "ExecuteTime": {
          "end_time": "2023-08-10T12:44:27.136545+00:00",
          "start_time": "2023-08-10T12:44:25.925131+00:00"
        }
      },
      "execution_count": null,
      "source": "# Use strain numbers as labels\nlabels = ranked_data['Strain Number'].astype(str)\n\n# Plot the resistance scores\nplt.figure(figsize=(20, 10))\nplt.bar(labels, ranked_data['Total_Score'])\nplt.xticks(rotation=90)\nplt.xlabel('Strain Number')\nplt.ylabel('Resistance Score')\n\nplt.tight_layout()\nplt.show()",
      "outputs": []
    },
    {
      "id": "924741e1-2940-4f64-98f6-72a545e86239",
      "cell_type": "code",
      "metadata": {
        "jupyter": {
          "outputs_hidden": false,
          "source_hidden": false
        },
        "noteable": {
          "cell_type": "code",
          "output_collection_id": "3841451f-3e14-4639-b283-9d563fc7a1f3"
        },
        "ExecuteTime": {
          "end_time": "2023-08-10T12:44:31.879875+00:00",
          "start_time": "2023-08-10T12:44:30.474596+00:00"
        }
      },
      "execution_count": null,
      "source": "import matplotlib.pyplot as plt\n\n# Use strain numbers as labels\nlabels = ranked_data['Strain Number'].astype(str)\n\n# Increase the space between each bar\nbar_width = 0.8  # Adjust this value as needed\nbar_positions = range(len(labels))\n\n# Plot the resistance scores\nplt.figure(figsize=(20, 10))\nplt.bar(bar_positions, ranked_data['Total_Score'], width=bar_width, tick_label=labels)\n\n# Increase the font size for the x-axis and y-axis labels and tick labels\nplt.xticks(rotation=90, fontsize=15)  # Increase the font size for x-axis tick labels\nplt.yticks(fontsize=14)  # Increase the font size for y-axis tick labels\nplt.xlabel('Strain Number', fontsize=20)  # Increase the font size for x-axis label\nplt.ylabel('Resistance Score', fontsize=20)  # Increase the font size for y-axis label\n\nplt.tight_layout()\nplt.show()\n",
      "outputs": []
    },
    {
      "id": "2d0dce8d-77e8-4c8d-9d59-aaa5c137f418",
      "cell_type": "code",
      "metadata": {
        "noteable": {
          "cell_type": "code",
          "output_collection_id": "5097db82-0188-45cb-b309-8a2ef88b1ce7"
        },
        "ExecuteTime": {
          "end_time": "2023-08-10T12:44:35.848922+00:00",
          "start_time": "2023-08-10T12:44:35.647103+00:00"
        },
        "datalink": {
          "457b8b0b-5175-47cf-ba1c-36364d30b2bd": {
            "applied_filters": [],
            "dataframe_info": {
              "default_index_used": true,
              "orig_num_cols": 2,
              "orig_num_rows": 5,
              "orig_size_bytes": 120,
              "truncated_num_cols": 2,
              "truncated_num_rows": 5,
              "truncated_size_bytes": 120,
              "truncated_string_columns": []
            },
            "display_id": "457b8b0b-5175-47cf-ba1c-36364d30b2bd",
            "dx_settings": {
              "ALLOW_NOTEABLE_ATTRS": true,
              "COLUMN_SAMPLING_METHOD": "outer",
              "DB_LOCATION": ":memory:",
              "DEV_MODE": false,
              "DISPLAY_MAX_COLUMNS": 100,
              "DISPLAY_MAX_ROWS": 50000,
              "DISPLAY_MODE": "simple",
              "ENABLE_ASSIGNMENT": true,
              "ENABLE_DATALINK": true,
              "FLATTEN_COLUMN_VALUES": true,
              "FLATTEN_INDEX_VALUES": false,
              "GENERATE_DEX_METADATA": false,
              "HTML_TABLE_SCHEMA": false,
              "LOG_LEVEL": 30,
              "MAX_RENDER_SIZE_BYTES": 104857600,
              "MAX_STRING_LENGTH": 250,
              "NUM_PAST_SAMPLES_TRACKED": 3,
              "RANDOM_STATE": 12648430,
              "RESET_INDEX_VALUES": false,
              "ROW_SAMPLING_METHOD": "random",
              "SAMPLING_FACTOR": 0.1,
              "SAMPLING_METHOD": "random",
              "STRINGIFY_COLUMN_VALUES": true,
              "STRINGIFY_INDEX_VALUES": false
            },
            "sample_history": [],
            "sampling_time": "2023-08-10T06:57:21.779453",
            "user_variable_name": null,
            "variable_name": "unk_dataframe_3bc90bac0d544da2974b24e20c942af5"
          },
          "ebb971fb-1c18-4d22-a629-a7ceec6e4c3e": {
            "applied_filters": [],
            "dataframe_info": {
              "default_index_used": true,
              "orig_num_cols": 2,
              "orig_num_rows": 5,
              "orig_size_bytes": 120,
              "truncated_num_cols": 2,
              "truncated_num_rows": 5,
              "truncated_size_bytes": 120,
              "truncated_string_columns": []
            },
            "display_id": "ebb971fb-1c18-4d22-a629-a7ceec6e4c3e",
            "dx_settings": {
              "ALLOW_NOTEABLE_ATTRS": true,
              "COLUMN_SAMPLING_METHOD": "outer",
              "DB_LOCATION": ":memory:",
              "DEV_MODE": false,
              "DISPLAY_MAX_COLUMNS": 100,
              "DISPLAY_MAX_ROWS": 50000,
              "DISPLAY_MODE": "simple",
              "ENABLE_ASSIGNMENT": true,
              "ENABLE_DATALINK": true,
              "FLATTEN_COLUMN_VALUES": true,
              "FLATTEN_INDEX_VALUES": false,
              "GENERATE_DEX_METADATA": false,
              "HTML_TABLE_SCHEMA": false,
              "LOG_LEVEL": 30,
              "MAX_RENDER_SIZE_BYTES": 104857600,
              "MAX_STRING_LENGTH": 250,
              "NUM_PAST_SAMPLES_TRACKED": 3,
              "RANDOM_STATE": 12648430,
              "RESET_INDEX_VALUES": false,
              "ROW_SAMPLING_METHOD": "random",
              "SAMPLING_FACTOR": 0.1,
              "SAMPLING_METHOD": "random",
              "STRINGIFY_COLUMN_VALUES": true,
              "STRINGIFY_INDEX_VALUES": false
            },
            "sample_history": [],
            "sampling_time": "2023-08-10T12:44:35.692894",
            "user_variable_name": null,
            "variable_name": "unk_dataframe_364645d405704de8ac892132f371d5fc"
          }
        },
        "dx": {
          "dashboard": {
            "multiViews": []
          },
          "fieldMetadata": {},
          "updated": 1691658391571,
          "views": []
        }
      },
      "execution_count": null,
      "source": "# Filter strains with genome sequencing (36-85)\ngenome_sequenced_data = ranked_data[(ranked_data['Strain Number'] >= 36) & (ranked_data['Strain Number'] <= 85)]\n\n# Group by species and calculate the average resistance score\naverage_scores = genome_sequenced_data.groupby('Genome Sequencing')['Total_Score'].mean().reset_index()\n\n# Sort by average resistance score in descending order\naverage_scores_sorted = average_scores.sort_values('Total_Score', ascending=False)\naverage_scores_sorted.head()",
      "outputs": []
    },
    {
      "id": "7a682b48-d99a-4d91-9424-c4d2817b1fee",
      "cell_type": "code",
      "metadata": {
        "jupyter": {
          "outputs_hidden": false,
          "source_hidden": false
        },
        "noteable": {
          "cell_type": "code",
          "output_collection_id": "6b55d1d6-de68-4d35-befb-5a11623bbd93"
        },
        "ExecuteTime": {
          "end_time": "2023-08-10T12:44:41.410746+00:00",
          "start_time": "2023-08-10T12:44:40.662724+00:00"
        }
      },
      "execution_count": null,
      "source": "import matplotlib.pyplot as plt\n\n# Assuming you have the necessary data and variables\n\nplt.figure(figsize=(20, 10))\nplt.bar(average_scores_sorted['Genome Sequencing'], average_scores_sorted['Total_Score'])\nplt.xticks(rotation=90, fontsize=20)  # Increase the fontsize for x-axis tick labels\nplt.yticks(fontsize=20)  # Increase the fontsize for y-axis tick labels\nplt.xlabel('Species', fontsize=25)  # Increase the fontsize for x-axis label\nplt.ylabel('Average Resistance Score', fontsize=20)  # Increase the fontsize for y-axis label\n\nplt.tight_layout()\nplt.show()\n",
      "outputs": []
    },
    {
      "id": "8df853b0-1195-4b36-abd8-bc3eac55dbfc",
      "cell_type": "code",
      "metadata": {
        "jupyter": {
          "outputs_hidden": false,
          "source_hidden": false
        },
        "noteable": {
          "cell_type": "code",
          "output_collection_id": "3a620175-98e0-41f3-b0b6-7f43e0907ce7"
        },
        "ExecuteTime": {
          "end_time": "2023-08-10T12:44:46.323737+00:00",
          "start_time": "2023-08-10T12:44:45.347891+00:00"
        }
      },
      "execution_count": null,
      "source": "import matplotlib.pyplot as plt\n\n# Assuming you have the necessary data and variables\n\nplt.figure(figsize=(20, 10))\nplt.bar(average_scores_sorted['Genome Sequencing'], average_scores_sorted['Total_Score'])\n\n# Modify x-axis tick labels to italicize species names using LaTeX formatting\nspecies_names = average_scores_sorted['Genome Sequencing']\nitalic_species_names = [f\"${species}$\" for species in species_names]\nplt.xticks(range(len(italic_species_names)), italic_species_names, rotation=90, fontsize=20)\n\nplt.yticks(fontsize=20)  # Increase the fontsize for y-axis tick labels\nplt.xlabel('Species', fontsize=25)  # Increase the fontsize for x-axis label\nplt.ylabel('Average Resistance Score', fontsize=20)  # Increase the fontsize for y-axis label\n\nplt.tight_layout()\nplt.show()\n\n",
      "outputs": []
    },
    {
      "id": "4f57c3c2-2750-45e8-b753-742f0cb62c80",
      "cell_type": "code",
      "metadata": {
        "noteable": {
          "cell_type": "code",
          "output_collection_id": "83de4f4f-32a7-4910-a9fc-ff26c2d11e48"
        },
        "ExecuteTime": {
          "end_time": "2023-08-10T12:44:49.869151+00:00",
          "start_time": "2023-08-10T12:44:49.709181+00:00"
        }
      },
      "execution_count": null,
      "source": "# Identify the exact characters in the species name 'E. roggenkampii'\nroggenkampii_name = average_scores_sorted[average_scores_sorted['Genome Sequencing'].str.contains('E. roggenkampii')]['Genome Sequencing'].iloc[0]\nroggenkampii_name",
      "outputs": []
    },
    {
      "id": "45619008-d3db-44b7-b37a-3d4f928aee66",
      "cell_type": "code",
      "metadata": {
        "noteable": {
          "cell_type": "code",
          "output_collection_id": "dfa5a3a2-8304-4a35-b79f-5ba95907d983"
        },
        "ExecuteTime": {
          "end_time": "2023-08-10T12:44:53.470039+00:00",
          "start_time": "2023-08-10T12:44:52.796529+00:00"
        }
      },
      "execution_count": null,
      "source": "# Remove the special character from the species name\naverage_scores_sorted['Genome Sequencing'] = average_scores_sorted['Genome Sequencing'].replace('E. roggenkampii\\x98', 'E. roggenkampii')\n\n# Plot the average resistance scores again\nplt.figure(figsize=(15, 5))\nplt.bar(average_scores_sorted['Genome Sequencing'], average_scores_sorted['Total_Score'])\nplt.xticks(rotation=90)\nplt.xlabel('Species')\nplt.ylabel('Average Resistance Score')\nplt.title('Average Resistance Score of Bacterial Species (Strains 36-85)')\nplt.tight_layout()\nplt.show()",
      "outputs": []
    },
    {
      "id": "dadb54be-e4b7-4890-8d86-2816ca973a57",
      "cell_type": "code",
      "metadata": {
        "noteable": {
          "cell_type": "code",
          "output_collection_id": "840f4d50-2034-4cd8-b6ca-7f4947246077"
        },
        "ExecuteTime": {
          "end_time": "2023-08-10T12:44:57.442418+00:00",
          "start_time": "2023-08-10T12:44:57.163612+00:00"
        },
        "datalink": {
          "4f808564-48ab-4445-9212-1bd8f2b2bd76": {
            "applied_filters": [],
            "dataframe_info": {
              "default_index_used": true,
              "orig_num_cols": 17,
              "orig_num_rows": 5,
              "orig_size_bytes": 720,
              "truncated_num_cols": 17,
              "truncated_num_rows": 5,
              "truncated_size_bytes": 720,
              "truncated_string_columns": []
            },
            "display_id": "4f808564-48ab-4445-9212-1bd8f2b2bd76",
            "dx_settings": {
              "ALLOW_NOTEABLE_ATTRS": true,
              "COLUMN_SAMPLING_METHOD": "outer",
              "DB_LOCATION": ":memory:",
              "DEV_MODE": false,
              "DISPLAY_MAX_COLUMNS": 100,
              "DISPLAY_MAX_ROWS": 50000,
              "DISPLAY_MODE": "simple",
              "ENABLE_ASSIGNMENT": true,
              "ENABLE_DATALINK": true,
              "FLATTEN_COLUMN_VALUES": true,
              "FLATTEN_INDEX_VALUES": false,
              "GENERATE_DEX_METADATA": false,
              "HTML_TABLE_SCHEMA": false,
              "LOG_LEVEL": 30,
              "MAX_RENDER_SIZE_BYTES": 104857600,
              "MAX_STRING_LENGTH": 250,
              "NUM_PAST_SAMPLES_TRACKED": 3,
              "RANDOM_STATE": 12648430,
              "RESET_INDEX_VALUES": false,
              "ROW_SAMPLING_METHOD": "random",
              "SAMPLING_FACTOR": 0.1,
              "SAMPLING_METHOD": "random",
              "STRINGIFY_COLUMN_VALUES": true,
              "STRINGIFY_INDEX_VALUES": false
            },
            "sample_history": [],
            "sampling_time": "2023-08-10T07:11:46.004835",
            "user_variable_name": null,
            "variable_name": "unk_dataframe_49bf3842e9544669a620604ea1f8a7f2"
          },
          "e0b7a2d8-6f2d-49e1-9c2b-58943e5449c4": {
            "applied_filters": [],
            "dataframe_info": {
              "default_index_used": true,
              "orig_num_cols": 17,
              "orig_num_rows": 5,
              "orig_size_bytes": 720,
              "truncated_num_cols": 17,
              "truncated_num_rows": 5,
              "truncated_size_bytes": 720,
              "truncated_string_columns": []
            },
            "display_id": "e0b7a2d8-6f2d-49e1-9c2b-58943e5449c4",
            "dx_settings": {
              "ALLOW_NOTEABLE_ATTRS": true,
              "COLUMN_SAMPLING_METHOD": "outer",
              "DB_LOCATION": ":memory:",
              "DEV_MODE": false,
              "DISPLAY_MAX_COLUMNS": 100,
              "DISPLAY_MAX_ROWS": 50000,
              "DISPLAY_MODE": "simple",
              "ENABLE_ASSIGNMENT": true,
              "ENABLE_DATALINK": true,
              "FLATTEN_COLUMN_VALUES": true,
              "FLATTEN_INDEX_VALUES": false,
              "GENERATE_DEX_METADATA": false,
              "HTML_TABLE_SCHEMA": false,
              "LOG_LEVEL": 30,
              "MAX_RENDER_SIZE_BYTES": 104857600,
              "MAX_STRING_LENGTH": 250,
              "NUM_PAST_SAMPLES_TRACKED": 3,
              "RANDOM_STATE": 12648430,
              "RESET_INDEX_VALUES": false,
              "ROW_SAMPLING_METHOD": "random",
              "SAMPLING_FACTOR": 0.1,
              "SAMPLING_METHOD": "random",
              "STRINGIFY_COLUMN_VALUES": true,
              "STRINGIFY_INDEX_VALUES": false
            },
            "sample_history": [],
            "sampling_time": "2023-08-10T12:44:57.282288",
            "user_variable_name": null,
            "variable_name": "unk_dataframe_dbcf284dd99a451180f704a8c3f76730"
          }
        }
      },
      "execution_count": null,
      "source": "# Load the updated CSV file\nupdated_file_path = '12 Abs SIR with metadata 1-85 updated.csv'\nupdated_data = pd.read_csv(updated_file_path, encoding='ISO-8859-1')\nupdated_data.head()",
      "outputs": []
    },
    {
      "id": "2ed657c3-1eab-4c4f-bcd0-acd00b16b965",
      "cell_type": "code",
      "metadata": {
        "noteable": {
          "cell_type": "code",
          "output_collection_id": "3d3be8cd-b526-4638-a0bd-fd55058f8291"
        },
        "ExecuteTime": {
          "end_time": "2023-08-10T12:45:01.765204+00:00",
          "start_time": "2023-08-10T12:45:01.189098+00:00"
        },
        "datalink": {
          "dec8edd6-f739-469f-9f28-460b60eadad5": {
            "applied_filters": [],
            "dataframe_info": {
              "default_index_used": true,
              "orig_num_cols": 2,
              "orig_num_rows": 11,
              "orig_size_bytes": 264,
              "truncated_num_cols": 2,
              "truncated_num_rows": 11,
              "truncated_size_bytes": 264,
              "truncated_string_columns": []
            },
            "display_id": "dec8edd6-f739-469f-9f28-460b60eadad5",
            "dx_settings": {
              "ALLOW_NOTEABLE_ATTRS": true,
              "COLUMN_SAMPLING_METHOD": "outer",
              "DB_LOCATION": ":memory:",
              "DEV_MODE": false,
              "DISPLAY_MAX_COLUMNS": 100,
              "DISPLAY_MAX_ROWS": 50000,
              "DISPLAY_MODE": "simple",
              "ENABLE_ASSIGNMENT": true,
              "ENABLE_DATALINK": true,
              "FLATTEN_COLUMN_VALUES": true,
              "FLATTEN_INDEX_VALUES": false,
              "GENERATE_DEX_METADATA": false,
              "HTML_TABLE_SCHEMA": false,
              "LOG_LEVEL": 30,
              "MAX_RENDER_SIZE_BYTES": 104857600,
              "MAX_STRING_LENGTH": 250,
              "NUM_PAST_SAMPLES_TRACKED": 3,
              "RANDOM_STATE": 12648430,
              "RESET_INDEX_VALUES": false,
              "ROW_SAMPLING_METHOD": "random",
              "SAMPLING_FACTOR": 0.1,
              "SAMPLING_METHOD": "random",
              "STRINGIFY_COLUMN_VALUES": true,
              "STRINGIFY_INDEX_VALUES": false
            },
            "sample_history": [],
            "sampling_time": "2023-08-10T07:15:47.987743",
            "user_variable_name": "p_values_df",
            "variable_name": "p_values_df"
          },
          "a74c7645-bb8d-44fd-b726-6cee7a2fb5ad": {
            "applied_filters": [],
            "dataframe_info": {
              "default_index_used": true,
              "orig_num_cols": 2,
              "orig_num_rows": 11,
              "orig_size_bytes": 264,
              "truncated_num_cols": 2,
              "truncated_num_rows": 11,
              "truncated_size_bytes": 264,
              "truncated_string_columns": []
            },
            "display_id": "a74c7645-bb8d-44fd-b726-6cee7a2fb5ad",
            "dx_settings": {
              "ALLOW_NOTEABLE_ATTRS": true,
              "COLUMN_SAMPLING_METHOD": "outer",
              "DB_LOCATION": ":memory:",
              "DEV_MODE": false,
              "DISPLAY_MAX_COLUMNS": 100,
              "DISPLAY_MAX_ROWS": 50000,
              "DISPLAY_MODE": "simple",
              "ENABLE_ASSIGNMENT": true,
              "ENABLE_DATALINK": true,
              "FLATTEN_COLUMN_VALUES": true,
              "FLATTEN_INDEX_VALUES": false,
              "GENERATE_DEX_METADATA": false,
              "HTML_TABLE_SCHEMA": false,
              "LOG_LEVEL": 30,
              "MAX_RENDER_SIZE_BYTES": 104857600,
              "MAX_STRING_LENGTH": 250,
              "NUM_PAST_SAMPLES_TRACKED": 3,
              "RANDOM_STATE": 12648430,
              "RESET_INDEX_VALUES": false,
              "ROW_SAMPLING_METHOD": "random",
              "SAMPLING_FACTOR": 0.1,
              "SAMPLING_METHOD": "random",
              "STRINGIFY_COLUMN_VALUES": true,
              "STRINGIFY_INDEX_VALUES": false
            },
            "sample_history": [],
            "sampling_time": "2023-08-10T12:45:01.608995",
            "user_variable_name": "p_values_df",
            "variable_name": "p_values_df"
          }
        }
      },
      "execution_count": null,
      "source": "from scipy.stats import chi2_contingency\n\n# Exclude the type strain\ndata_without_type_strain = updated_data[updated_data['Type of Isolate'] != 'Type Strain']\n\n# Prepare a dictionary to store p-values for each antibiotic\np_values = {}\n\n# Iterate through the antibiotic columns and perform chi-squared test\nfor antibiotic in antibiotic_columns:\n    # Create a contingency table for resistance profile and geographical location\n    contingency_table = pd.crosstab(data_without_type_strain[antibiotic], data_without_type_strain['Geographical location'])\n    # Perform chi-squared test and store the p-value\n    chi2, p, dof, expected = chi2_contingency(contingency_table)\n    p_values[antibiotic] = p\n\n# Convert p-values to a DataFrame for visualization\np_values_df = pd.DataFrame(list(p_values.items()), columns=['Antibiotic', 'P-Value'])\np_values_df",
      "outputs": []
    },
    {
      "id": "5b987baa-e7e6-4433-88ae-e20c4be2c4aa",
      "cell_type": "code",
      "metadata": {
        "noteable": {
          "cell_type": "code",
          "output_collection_id": "29a0b12b-fbb8-4212-a415-3bcb68094348"
        },
        "ExecuteTime": {
          "end_time": "2023-08-10T12:45:05.905565+00:00",
          "start_time": "2023-08-10T12:45:04.927363+00:00"
        }
      },
      "execution_count": null,
      "source": "# Plot the p-values for each antibiotic\nplt.figure(figsize=(15, 5))\nplt.bar(p_values_df['Antibiotic'], p_values_df['P-Value'], color=['red' if p < 0.05 else 'blue' for p in p_values_df['P-Value']])\nplt.axhline(y=0.05, color='gray', linestyle='--')\nplt.xticks(rotation=90)\nplt.xlabel('Antibiotic')\nplt.ylabel('P-Value')\nplt.title('P-Values for Association Between Resistance Profile and Geographical Location')\nplt.yscale('log')\nplt.tight_layout()\nplt.show()",
      "outputs": []
    },
    {
      "id": "10dad698-1845-4de3-a5b4-d867d8a528ae",
      "cell_type": "code",
      "metadata": {
        "noteable": {
          "cell_type": "code",
          "output_collection_id": "f0392e96-4da6-4dba-87d2-2e2337872743"
        },
        "ExecuteTime": {
          "end_time": "2023-08-10T12:45:09.446144+00:00",
          "start_time": "2023-08-10T12:45:09.228285+00:00"
        },
        "datalink": {
          "0355ca2e-88a9-4c43-b503-416c2d20d08e": {
            "applied_filters": [],
            "dataframe_info": {
              "default_index_used": false,
              "orig_num_cols": 2,
              "orig_num_rows": 0,
              "orig_size_bytes": 0,
              "truncated_num_cols": 2,
              "truncated_num_rows": 0,
              "truncated_size_bytes": 0,
              "truncated_string_columns": []
            },
            "display_id": "0355ca2e-88a9-4c43-b503-416c2d20d08e",
            "dx_settings": {
              "ALLOW_NOTEABLE_ATTRS": true,
              "COLUMN_SAMPLING_METHOD": "outer",
              "DB_LOCATION": ":memory:",
              "DEV_MODE": false,
              "DISPLAY_MAX_COLUMNS": 100,
              "DISPLAY_MAX_ROWS": 50000,
              "DISPLAY_MODE": "simple",
              "ENABLE_ASSIGNMENT": true,
              "ENABLE_DATALINK": true,
              "FLATTEN_COLUMN_VALUES": true,
              "FLATTEN_INDEX_VALUES": false,
              "GENERATE_DEX_METADATA": false,
              "HTML_TABLE_SCHEMA": false,
              "LOG_LEVEL": 30,
              "MAX_RENDER_SIZE_BYTES": 104857600,
              "MAX_STRING_LENGTH": 250,
              "NUM_PAST_SAMPLES_TRACKED": 3,
              "RANDOM_STATE": 12648430,
              "RESET_INDEX_VALUES": false,
              "ROW_SAMPLING_METHOD": "random",
              "SAMPLING_FACTOR": 0.1,
              "SAMPLING_METHOD": "random",
              "STRINGIFY_COLUMN_VALUES": true,
              "STRINGIFY_INDEX_VALUES": false
            },
            "sample_history": [],
            "sampling_time": "2023-08-10T07:18:56.539074",
            "user_variable_name": "independent_antibiotics_df",
            "variable_name": "independent_antibiotics_df"
          },
          "3db4e5ea-47da-4a4d-8ee7-3cc3ef3cc53e": {
            "applied_filters": [],
            "dataframe_info": {
              "default_index_used": false,
              "orig_num_cols": 2,
              "orig_num_rows": 0,
              "orig_size_bytes": 0,
              "truncated_num_cols": 2,
              "truncated_num_rows": 0,
              "truncated_size_bytes": 0,
              "truncated_string_columns": []
            },
            "display_id": "3db4e5ea-47da-4a4d-8ee7-3cc3ef3cc53e",
            "dx_settings": {
              "ALLOW_NOTEABLE_ATTRS": true,
              "COLUMN_SAMPLING_METHOD": "outer",
              "DB_LOCATION": ":memory:",
              "DEV_MODE": false,
              "DISPLAY_MAX_COLUMNS": 100,
              "DISPLAY_MAX_ROWS": 50000,
              "DISPLAY_MODE": "simple",
              "ENABLE_ASSIGNMENT": true,
              "ENABLE_DATALINK": true,
              "FLATTEN_COLUMN_VALUES": true,
              "FLATTEN_INDEX_VALUES": false,
              "GENERATE_DEX_METADATA": false,
              "HTML_TABLE_SCHEMA": false,
              "LOG_LEVEL": 30,
              "MAX_RENDER_SIZE_BYTES": 104857600,
              "MAX_STRING_LENGTH": 250,
              "NUM_PAST_SAMPLES_TRACKED": 3,
              "RANDOM_STATE": 12648430,
              "RESET_INDEX_VALUES": false,
              "ROW_SAMPLING_METHOD": "random",
              "SAMPLING_FACTOR": 0.1,
              "SAMPLING_METHOD": "random",
              "STRINGIFY_COLUMN_VALUES": true,
              "STRINGIFY_INDEX_VALUES": false
            },
            "sample_history": [],
            "sampling_time": "2023-08-10T12:45:09.289067",
            "user_variable_name": "independent_antibiotics_df",
            "variable_name": "independent_antibiotics_df"
          }
        }
      },
      "execution_count": null,
      "source": "# Identify antibiotics where all samples have the same resistance profile\nindependent_antibiotics = []\nfor antibiotic in antibiotic_columns:\n    unique_values = data_without_type_strain[antibiotic].nunique()\n    if unique_values == 1:\n        independent_antibiotics.append(antibiotic)\n\nindependent_antibiotics_df = pd.DataFrame(independent_antibiotics, columns=['Antibiotic'])\nindependent_antibiotics_df['Independence'] = 'Yes'\nindependent_antibiotics_df",
      "outputs": []
    },
    {
      "id": "51aaf250-cf90-4b51-8b6e-dd172694d32d",
      "cell_type": "code",
      "metadata": {
        "noteable": {
          "cell_type": "code",
          "output_collection_id": "0ae8acf2-09b8-4cc2-a2fc-8ebdcbb756eb"
        },
        "ExecuteTime": {
          "end_time": "2023-08-10T12:45:12.758376+00:00",
          "start_time": "2023-08-10T12:45:12.545011+00:00"
        },
        "datalink": {
          "08678f0c-2f3a-4ddf-896b-c306e2099527": {
            "applied_filters": [],
            "dataframe_info": {
              "default_index_used": false,
              "orig_num_cols": 2,
              "orig_num_rows": 0,
              "orig_size_bytes": 0,
              "truncated_num_cols": 2,
              "truncated_num_rows": 0,
              "truncated_size_bytes": 0,
              "truncated_string_columns": []
            },
            "display_id": "08678f0c-2f3a-4ddf-896b-c306e2099527",
            "dx_settings": {
              "ALLOW_NOTEABLE_ATTRS": true,
              "COLUMN_SAMPLING_METHOD": "outer",
              "DB_LOCATION": ":memory:",
              "DEV_MODE": false,
              "DISPLAY_MAX_COLUMNS": 100,
              "DISPLAY_MAX_ROWS": 50000,
              "DISPLAY_MODE": "simple",
              "ENABLE_ASSIGNMENT": true,
              "ENABLE_DATALINK": true,
              "FLATTEN_COLUMN_VALUES": true,
              "FLATTEN_INDEX_VALUES": false,
              "GENERATE_DEX_METADATA": false,
              "HTML_TABLE_SCHEMA": false,
              "LOG_LEVEL": 30,
              "MAX_RENDER_SIZE_BYTES": 104857600,
              "MAX_STRING_LENGTH": 250,
              "NUM_PAST_SAMPLES_TRACKED": 3,
              "RANDOM_STATE": 12648430,
              "RESET_INDEX_VALUES": false,
              "ROW_SAMPLING_METHOD": "random",
              "SAMPLING_FACTOR": 0.1,
              "SAMPLING_METHOD": "random",
              "STRINGIFY_COLUMN_VALUES": true,
              "STRINGIFY_INDEX_VALUES": false
            },
            "sample_history": [],
            "sampling_time": "2023-08-10T07:19:28.593920",
            "user_variable_name": "independent_antibiotics_df",
            "variable_name": "independent_antibiotics_df"
          },
          "c6a8ae4f-a6bd-42a7-a728-e1b65867d249": {
            "applied_filters": [],
            "dataframe_info": {
              "default_index_used": false,
              "orig_num_cols": 2,
              "orig_num_rows": 0,
              "orig_size_bytes": 0,
              "truncated_num_cols": 2,
              "truncated_num_rows": 0,
              "truncated_size_bytes": 0,
              "truncated_string_columns": []
            },
            "display_id": "c6a8ae4f-a6bd-42a7-a728-e1b65867d249",
            "dx_settings": {
              "ALLOW_NOTEABLE_ATTRS": true,
              "COLUMN_SAMPLING_METHOD": "outer",
              "DB_LOCATION": ":memory:",
              "DEV_MODE": false,
              "DISPLAY_MAX_COLUMNS": 100,
              "DISPLAY_MAX_ROWS": 50000,
              "DISPLAY_MODE": "simple",
              "ENABLE_ASSIGNMENT": true,
              "ENABLE_DATALINK": true,
              "FLATTEN_COLUMN_VALUES": true,
              "FLATTEN_INDEX_VALUES": false,
              "GENERATE_DEX_METADATA": false,
              "HTML_TABLE_SCHEMA": false,
              "LOG_LEVEL": 30,
              "MAX_RENDER_SIZE_BYTES": 104857600,
              "MAX_STRING_LENGTH": 250,
              "NUM_PAST_SAMPLES_TRACKED": 3,
              "RANDOM_STATE": 12648430,
              "RESET_INDEX_VALUES": false,
              "ROW_SAMPLING_METHOD": "random",
              "SAMPLING_FACTOR": 0.1,
              "SAMPLING_METHOD": "random",
              "STRINGIFY_COLUMN_VALUES": true,
              "STRINGIFY_INDEX_VALUES": false
            },
            "sample_history": [],
            "sampling_time": "2023-08-10T07:19:43.728363",
            "user_variable_name": "independent_antibiotics_df",
            "variable_name": "independent_antibiotics_df"
          },
          "a1554272-3b58-4bd7-b6fd-5ef445bddf8d": {
            "applied_filters": [],
            "dataframe_info": {
              "default_index_used": false,
              "orig_num_cols": 2,
              "orig_num_rows": 0,
              "orig_size_bytes": 0,
              "truncated_num_cols": 2,
              "truncated_num_rows": 0,
              "truncated_size_bytes": 0,
              "truncated_string_columns": []
            },
            "display_id": "a1554272-3b58-4bd7-b6fd-5ef445bddf8d",
            "dx_settings": {
              "ALLOW_NOTEABLE_ATTRS": true,
              "COLUMN_SAMPLING_METHOD": "outer",
              "DB_LOCATION": ":memory:",
              "DEV_MODE": false,
              "DISPLAY_MAX_COLUMNS": 100,
              "DISPLAY_MAX_ROWS": 50000,
              "DISPLAY_MODE": "simple",
              "ENABLE_ASSIGNMENT": true,
              "ENABLE_DATALINK": true,
              "FLATTEN_COLUMN_VALUES": true,
              "FLATTEN_INDEX_VALUES": false,
              "GENERATE_DEX_METADATA": false,
              "HTML_TABLE_SCHEMA": false,
              "LOG_LEVEL": 30,
              "MAX_RENDER_SIZE_BYTES": 104857600,
              "MAX_STRING_LENGTH": 250,
              "NUM_PAST_SAMPLES_TRACKED": 3,
              "RANDOM_STATE": 12648430,
              "RESET_INDEX_VALUES": false,
              "ROW_SAMPLING_METHOD": "random",
              "SAMPLING_FACTOR": 0.1,
              "SAMPLING_METHOD": "random",
              "STRINGIFY_COLUMN_VALUES": true,
              "STRINGIFY_INDEX_VALUES": false
            },
            "sample_history": [],
            "sampling_time": "2023-08-10T12:45:12.601161",
            "user_variable_name": "independent_antibiotics_df",
            "variable_name": "independent_antibiotics_df"
          }
        }
      },
      "execution_count": null,
      "source": "# Print the list of antibiotics where the resistance profile is independent of geographical location\nindependent_antibiotics_df",
      "outputs": []
    },
    {
      "id": "08994c89-d501-4dd7-a497-d8b1921a2e73",
      "cell_type": "code",
      "metadata": {
        "noteable": {
          "cell_type": "code",
          "output_collection_id": "8c1571dc-da48-40ab-b175-a6e92412ae2c"
        },
        "ExecuteTime": {
          "end_time": "2023-08-10T12:45:16.494300+00:00",
          "start_time": "2023-08-10T12:45:16.219269+00:00"
        },
        "datalink": {
          "bdc182cd-56e1-429c-a975-86d1bc940654": {
            "applied_filters": [],
            "dataframe_info": {
              "default_index_used": true,
              "orig_num_cols": 17,
              "orig_num_rows": 5,
              "orig_size_bytes": 720,
              "truncated_num_cols": 17,
              "truncated_num_rows": 5,
              "truncated_size_bytes": 720,
              "truncated_string_columns": []
            },
            "display_id": "bdc182cd-56e1-429c-a975-86d1bc940654",
            "dx_settings": {
              "ALLOW_NOTEABLE_ATTRS": true,
              "COLUMN_SAMPLING_METHOD": "outer",
              "DB_LOCATION": ":memory:",
              "DEV_MODE": false,
              "DISPLAY_MAX_COLUMNS": 100,
              "DISPLAY_MAX_ROWS": 50000,
              "DISPLAY_MODE": "simple",
              "ENABLE_ASSIGNMENT": true,
              "ENABLE_DATALINK": true,
              "FLATTEN_COLUMN_VALUES": true,
              "FLATTEN_INDEX_VALUES": false,
              "GENERATE_DEX_METADATA": false,
              "HTML_TABLE_SCHEMA": false,
              "LOG_LEVEL": 30,
              "MAX_RENDER_SIZE_BYTES": 104857600,
              "MAX_STRING_LENGTH": 250,
              "NUM_PAST_SAMPLES_TRACKED": 3,
              "RANDOM_STATE": 12648430,
              "RESET_INDEX_VALUES": false,
              "ROW_SAMPLING_METHOD": "random",
              "SAMPLING_FACTOR": 0.1,
              "SAMPLING_METHOD": "random",
              "STRINGIFY_COLUMN_VALUES": true,
              "STRINGIFY_INDEX_VALUES": false
            },
            "sample_history": [],
            "sampling_time": "2023-08-10T07:24:41.713513",
            "user_variable_name": null,
            "variable_name": "unk_dataframe_e85e284d70274e22ac94eccab5179d4f"
          },
          "e692707c-d339-4f5e-9bc8-b9dd6be6b49c": {
            "applied_filters": [],
            "dataframe_info": {
              "default_index_used": true,
              "orig_num_cols": 17,
              "orig_num_rows": 5,
              "orig_size_bytes": 720,
              "truncated_num_cols": 17,
              "truncated_num_rows": 5,
              "truncated_size_bytes": 720,
              "truncated_string_columns": []
            },
            "display_id": "e692707c-d339-4f5e-9bc8-b9dd6be6b49c",
            "dx_settings": {
              "ALLOW_NOTEABLE_ATTRS": true,
              "COLUMN_SAMPLING_METHOD": "outer",
              "DB_LOCATION": ":memory:",
              "DEV_MODE": false,
              "DISPLAY_MAX_COLUMNS": 100,
              "DISPLAY_MAX_ROWS": 50000,
              "DISPLAY_MODE": "simple",
              "ENABLE_ASSIGNMENT": true,
              "ENABLE_DATALINK": true,
              "FLATTEN_COLUMN_VALUES": true,
              "FLATTEN_INDEX_VALUES": false,
              "GENERATE_DEX_METADATA": false,
              "HTML_TABLE_SCHEMA": false,
              "LOG_LEVEL": 30,
              "MAX_RENDER_SIZE_BYTES": 104857600,
              "MAX_STRING_LENGTH": 250,
              "NUM_PAST_SAMPLES_TRACKED": 3,
              "RANDOM_STATE": 12648430,
              "RESET_INDEX_VALUES": false,
              "ROW_SAMPLING_METHOD": "random",
              "SAMPLING_FACTOR": 0.1,
              "SAMPLING_METHOD": "random",
              "STRINGIFY_COLUMN_VALUES": true,
              "STRINGIFY_INDEX_VALUES": false
            },
            "sample_history": [],
            "sampling_time": "2023-08-10T12:45:16.334634",
            "user_variable_name": null,
            "variable_name": "unk_dataframe_f1b68e064aef43ff9eefbfc1c3c3d909"
          }
        }
      },
      "execution_count": null,
      "source": "# Exclude the type strain\ndata_without_type_strain = updated_data[updated_data['Type of Isolate'] != 'Type Strain']\n\n# Check the first few rows to ensure the type strain has been excluded\ndata_without_type_strain.head()",
      "outputs": []
    },
    {
      "id": "6817d26e-f90f-4ff3-85ed-12608fc39c96",
      "cell_type": "code",
      "metadata": {
        "noteable": {
          "cell_type": "code",
          "output_collection_id": "6f2a8d64-33a6-40db-b28f-2f93e28daa36"
        },
        "ExecuteTime": {
          "end_time": "2023-08-10T12:45:20.996751+00:00",
          "start_time": "2023-08-10T12:45:20.773460+00:00"
        },
        "datalink": {
          "43a99b6c-18ab-4b04-9c6b-0c26ce1842ac": {
            "applied_filters": [],
            "dataframe_info": {
              "default_index_used": true,
              "orig_num_cols": 2,
              "orig_num_rows": 11,
              "orig_size_bytes": 264,
              "truncated_num_cols": 2,
              "truncated_num_rows": 11,
              "truncated_size_bytes": 264,
              "truncated_string_columns": []
            },
            "display_id": "43a99b6c-18ab-4b04-9c6b-0c26ce1842ac",
            "dx_settings": {
              "ALLOW_NOTEABLE_ATTRS": true,
              "COLUMN_SAMPLING_METHOD": "outer",
              "DB_LOCATION": ":memory:",
              "DEV_MODE": false,
              "DISPLAY_MAX_COLUMNS": 100,
              "DISPLAY_MAX_ROWS": 50000,
              "DISPLAY_MODE": "simple",
              "ENABLE_ASSIGNMENT": true,
              "ENABLE_DATALINK": true,
              "FLATTEN_COLUMN_VALUES": true,
              "FLATTEN_INDEX_VALUES": false,
              "GENERATE_DEX_METADATA": false,
              "HTML_TABLE_SCHEMA": false,
              "LOG_LEVEL": 30,
              "MAX_RENDER_SIZE_BYTES": 104857600,
              "MAX_STRING_LENGTH": 250,
              "NUM_PAST_SAMPLES_TRACKED": 3,
              "RANDOM_STATE": 12648430,
              "RESET_INDEX_VALUES": false,
              "ROW_SAMPLING_METHOD": "random",
              "SAMPLING_FACTOR": 0.1,
              "SAMPLING_METHOD": "random",
              "STRINGIFY_COLUMN_VALUES": true,
              "STRINGIFY_INDEX_VALUES": false
            },
            "sample_history": [],
            "sampling_time": "2023-08-10T07:25:25.862791",
            "user_variable_name": "independence_results_df",
            "variable_name": "independence_results_df"
          },
          "9f9ab61b-7cff-4b4e-a076-b810c4f87966": {
            "applied_filters": [],
            "dataframe_info": {
              "default_index_used": true,
              "orig_num_cols": 2,
              "orig_num_rows": 11,
              "orig_size_bytes": 264,
              "truncated_num_cols": 2,
              "truncated_num_rows": 11,
              "truncated_size_bytes": 264,
              "truncated_string_columns": []
            },
            "display_id": "9f9ab61b-7cff-4b4e-a076-b810c4f87966",
            "dx_settings": {
              "ALLOW_NOTEABLE_ATTRS": true,
              "COLUMN_SAMPLING_METHOD": "outer",
              "DB_LOCATION": ":memory:",
              "DEV_MODE": false,
              "DISPLAY_MAX_COLUMNS": 100,
              "DISPLAY_MAX_ROWS": 50000,
              "DISPLAY_MODE": "simple",
              "ENABLE_ASSIGNMENT": true,
              "ENABLE_DATALINK": true,
              "FLATTEN_COLUMN_VALUES": true,
              "FLATTEN_INDEX_VALUES": false,
              "GENERATE_DEX_METADATA": false,
              "HTML_TABLE_SCHEMA": false,
              "LOG_LEVEL": 30,
              "MAX_RENDER_SIZE_BYTES": 104857600,
              "MAX_STRING_LENGTH": 250,
              "NUM_PAST_SAMPLES_TRACKED": 3,
              "RANDOM_STATE": 12648430,
              "RESET_INDEX_VALUES": false,
              "ROW_SAMPLING_METHOD": "random",
              "SAMPLING_FACTOR": 0.1,
              "SAMPLING_METHOD": "random",
              "STRINGIFY_COLUMN_VALUES": true,
              "STRINGIFY_INDEX_VALUES": false
            },
            "sample_history": [],
            "sampling_time": "2023-08-10T12:45:20.839647",
            "user_variable_name": "independence_results_df",
            "variable_name": "independence_results_df"
          }
        }
      },
      "execution_count": null,
      "source": "# Analyze each antibiotic to determine if the resistance profile is independent of geographical location\nindependence_results = []\nfor antibiotic in antibiotic_columns:\n    # Group by geographical location and check if the resistance profile is the same across all locations\n    grouped_by_location = data_without_type_strain.groupby('Geographical location')[antibiotic].nunique()\n    is_independent = 'Yes' if grouped_by_location.nunique() == 1 else 'No'\n    independence_results.append((antibiotic, is_independent))\n\n# Convert the results to a DataFrame for easy visualization\nindependence_results_df = pd.DataFrame(independence_results, columns=['Antibiotic', 'Independence'])\nindependence_results_df",
      "outputs": []
    },
    {
      "id": "3e2646fd-719c-479c-9069-45b96e69a701",
      "cell_type": "code",
      "metadata": {
        "noteable": {
          "cell_type": "code",
          "output_collection_id": "7d7fbc06-440b-42b5-8146-f77e488d90f6"
        },
        "ExecuteTime": {
          "end_time": "2023-08-10T12:45:24.701976+00:00",
          "start_time": "2023-08-10T12:45:24.352818+00:00"
        },
        "datalink": {
          "4893d0cd-4cdb-4395-a9e6-de6aa2ff3b1a": {
            "applied_filters": [],
            "dataframe_info": {
              "default_index_used": true,
              "orig_num_cols": 2,
              "orig_num_rows": 11,
              "orig_size_bytes": 264,
              "truncated_num_cols": 2,
              "truncated_num_rows": 11,
              "truncated_size_bytes": 264,
              "truncated_string_columns": []
            },
            "display_id": "4893d0cd-4cdb-4395-a9e6-de6aa2ff3b1a",
            "dx_settings": {
              "ALLOW_NOTEABLE_ATTRS": true,
              "COLUMN_SAMPLING_METHOD": "outer",
              "DB_LOCATION": ":memory:",
              "DEV_MODE": false,
              "DISPLAY_MAX_COLUMNS": 100,
              "DISPLAY_MAX_ROWS": 50000,
              "DISPLAY_MODE": "simple",
              "ENABLE_ASSIGNMENT": true,
              "ENABLE_DATALINK": true,
              "FLATTEN_COLUMN_VALUES": true,
              "FLATTEN_INDEX_VALUES": false,
              "GENERATE_DEX_METADATA": false,
              "HTML_TABLE_SCHEMA": false,
              "LOG_LEVEL": 30,
              "MAX_RENDER_SIZE_BYTES": 104857600,
              "MAX_STRING_LENGTH": 250,
              "NUM_PAST_SAMPLES_TRACKED": 3,
              "RANDOM_STATE": 12648430,
              "RESET_INDEX_VALUES": false,
              "ROW_SAMPLING_METHOD": "random",
              "SAMPLING_FACTOR": 0.1,
              "SAMPLING_METHOD": "random",
              "STRINGIFY_COLUMN_VALUES": true,
              "STRINGIFY_INDEX_VALUES": false
            },
            "sample_history": [],
            "sampling_time": "2023-08-10T07:27:17.978734",
            "user_variable_name": "p_values_df",
            "variable_name": "p_values_df"
          },
          "124efc93-1313-4772-aedc-66a83af93b98": {
            "applied_filters": [],
            "dataframe_info": {
              "default_index_used": true,
              "orig_num_cols": 2,
              "orig_num_rows": 11,
              "orig_size_bytes": 264,
              "truncated_num_cols": 2,
              "truncated_num_rows": 11,
              "truncated_size_bytes": 264,
              "truncated_string_columns": []
            },
            "display_id": "124efc93-1313-4772-aedc-66a83af93b98",
            "dx_settings": {
              "ALLOW_NOTEABLE_ATTRS": true,
              "COLUMN_SAMPLING_METHOD": "outer",
              "DB_LOCATION": ":memory:",
              "DEV_MODE": false,
              "DISPLAY_MAX_COLUMNS": 100,
              "DISPLAY_MAX_ROWS": 50000,
              "DISPLAY_MODE": "simple",
              "ENABLE_ASSIGNMENT": true,
              "ENABLE_DATALINK": true,
              "FLATTEN_COLUMN_VALUES": true,
              "FLATTEN_INDEX_VALUES": false,
              "GENERATE_DEX_METADATA": false,
              "HTML_TABLE_SCHEMA": false,
              "LOG_LEVEL": 30,
              "MAX_RENDER_SIZE_BYTES": 104857600,
              "MAX_STRING_LENGTH": 250,
              "NUM_PAST_SAMPLES_TRACKED": 3,
              "RANDOM_STATE": 12648430,
              "RESET_INDEX_VALUES": false,
              "ROW_SAMPLING_METHOD": "random",
              "SAMPLING_FACTOR": 0.1,
              "SAMPLING_METHOD": "random",
              "STRINGIFY_COLUMN_VALUES": true,
              "STRINGIFY_INDEX_VALUES": false
            },
            "sample_history": [],
            "sampling_time": "2023-08-10T12:45:24.544983",
            "user_variable_name": "p_values_df",
            "variable_name": "p_values_df"
          }
        }
      },
      "execution_count": null,
      "source": "# Perform chi-squared test of independence for each antibiotic and summarize the p-values\np_values_results = []\nfor antibiotic in antibiotic_columns:\n    # Create a contingency table for resistance profile and geographical location\n    contingency_table = pd.crosstab(data_without_type_strain[antibiotic], data_without_type_strain['Geographical location'])\n    # Perform chi-squared test\n    chi2, p, dof, expected = chi2_contingency(contingency_table)\n    # Check if the test is applicable (i.e., there is variation in the resistance profile)\n    if contingency_table.shape[0] > 1:\n        p_values_results.append((antibiotic, p))\n    else:\n        p_values_results.append((antibiotic, 'Independent (No Variation)'))\n\n# Convert the results to a DataFrame for easy visualization\np_values_results_df = pd.DataFrame(p_values_results, columns=['Antibiotic', 'P-Value'])\np_values_results_df",
      "outputs": []
    },
    {
      "id": "ad9fc700-2fd6-4807-a532-779f80c84cf1",
      "cell_type": "code",
      "metadata": {
        "noteable": {
          "cell_type": "code",
          "output_collection_id": "35d0bcee-2f49-4329-b3d7-47890dc80cc7"
        },
        "ExecuteTime": {
          "end_time": "2023-08-10T12:45:29.234619+00:00",
          "start_time": "2023-08-10T12:45:28.433557+00:00"
        }
      },
      "execution_count": null,
      "source": "# Plot the p-values for each antibiotic\nplt.figure(figsize=(20,10))\nplt.bar(p_values_results_df['Antibiotic'], p_values_results_df['P-Value'].apply(lambda x: x if isinstance(x, float) else 1), color=['red' if p < 0.05 else 'blue' for p in p_values_results_df['P-Value'].apply(lambda x: x if isinstance(x, float) else 1)])\nplt.axhline(y=0.05, color='gray', linestyle='--')\nplt.xticks(rotation=90)\nplt.xlabel('Antibiotic')\nplt.ylabel('P-Value')\nplt.title('P-Values for Association Between Resistance Profile and Geographical Location')\n\nplt.tight_layout()\nplt.show()",
      "outputs": []
    },
    {
      "id": "d42a1ee5-dc3a-4e89-a0f0-353cacb2c546",
      "cell_type": "code",
      "metadata": {
        "noteable": {
          "cell_type": "code",
          "output_collection_id": "565e45ad-9023-4db4-8a6b-4b4f1376d662"
        },
        "ExecuteTime": {
          "end_time": "2023-08-10T12:45:34.066073+00:00",
          "start_time": "2023-08-10T12:45:33.849372+00:00"
        },
        "datalink": {
          "6acb781d-9329-4a04-b786-c2fc6f26803d": {
            "applied_filters": [],
            "dataframe_info": {
              "default_index_used": false,
              "orig_num_cols": 2,
              "orig_num_rows": 14,
              "orig_size_bytes": 336,
              "truncated_num_cols": 2,
              "truncated_num_rows": 14,
              "truncated_size_bytes": 336,
              "truncated_string_columns": []
            },
            "display_id": "6acb781d-9329-4a04-b786-c2fc6f26803d",
            "dx_settings": {
              "ALLOW_NOTEABLE_ATTRS": true,
              "COLUMN_SAMPLING_METHOD": "outer",
              "DB_LOCATION": ":memory:",
              "DEV_MODE": false,
              "DISPLAY_MAX_COLUMNS": 100,
              "DISPLAY_MAX_ROWS": 50000,
              "DISPLAY_MODE": "simple",
              "ENABLE_ASSIGNMENT": true,
              "ENABLE_DATALINK": true,
              "FLATTEN_COLUMN_VALUES": true,
              "FLATTEN_INDEX_VALUES": false,
              "GENERATE_DEX_METADATA": false,
              "HTML_TABLE_SCHEMA": false,
              "LOG_LEVEL": 30,
              "MAX_RENDER_SIZE_BYTES": 104857600,
              "MAX_STRING_LENGTH": 250,
              "NUM_PAST_SAMPLES_TRACKED": 3,
              "RANDOM_STATE": 12648430,
              "RESET_INDEX_VALUES": false,
              "ROW_SAMPLING_METHOD": "random",
              "SAMPLING_FACTOR": 0.1,
              "SAMPLING_METHOD": "random",
              "STRINGIFY_COLUMN_VALUES": true,
              "STRINGIFY_INDEX_VALUES": false
            },
            "sample_history": [],
            "sampling_time": "2023-08-10T07:30:42.107392",
            "user_variable_name": "tigecyclin_data",
            "variable_name": "tigecyclin_data"
          },
          "e73cf0f1-108f-4bd0-9073-c34f402dc355": {
            "applied_filters": [],
            "dataframe_info": {
              "default_index_used": false,
              "orig_num_cols": 2,
              "orig_num_rows": 14,
              "orig_size_bytes": 336,
              "truncated_num_cols": 2,
              "truncated_num_rows": 14,
              "truncated_size_bytes": 336,
              "truncated_string_columns": []
            },
            "display_id": "e73cf0f1-108f-4bd0-9073-c34f402dc355",
            "dx_settings": {
              "ALLOW_NOTEABLE_ATTRS": true,
              "COLUMN_SAMPLING_METHOD": "outer",
              "DB_LOCATION": ":memory:",
              "DEV_MODE": false,
              "DISPLAY_MAX_COLUMNS": 100,
              "DISPLAY_MAX_ROWS": 50000,
              "DISPLAY_MODE": "simple",
              "ENABLE_ASSIGNMENT": true,
              "ENABLE_DATALINK": true,
              "FLATTEN_COLUMN_VALUES": true,
              "FLATTEN_INDEX_VALUES": false,
              "GENERATE_DEX_METADATA": false,
              "HTML_TABLE_SCHEMA": false,
              "LOG_LEVEL": 30,
              "MAX_RENDER_SIZE_BYTES": 104857600,
              "MAX_STRING_LENGTH": 250,
              "NUM_PAST_SAMPLES_TRACKED": 3,
              "RANDOM_STATE": 12648430,
              "RESET_INDEX_VALUES": false,
              "ROW_SAMPLING_METHOD": "random",
              "SAMPLING_FACTOR": 0.1,
              "SAMPLING_METHOD": "random",
              "STRINGIFY_COLUMN_VALUES": true,
              "STRINGIFY_INDEX_VALUES": false
            },
            "sample_history": [],
            "sampling_time": "2023-08-10T12:45:33.909320",
            "user_variable_name": "tigecyclin_data",
            "variable_name": "tigecyclin_data"
          }
        }
      },
      "execution_count": null,
      "source": "# Analyze Tigecyclin 15 to understand where we see more or less resistance\ntigecyclin_data = data_without_type_strain.groupby('Geographical location')['Tigecyclin 15'].value_counts(normalize=True).unstack().fillna(0) * 100\ntigecyclin_data",
      "outputs": []
    },
    {
      "id": "a879c90c-5b9a-4ce7-8e2a-8c782275c958",
      "cell_type": "code",
      "metadata": {
        "noteable": {
          "cell_type": "code",
          "output_collection_id": "8ac2e0d3-40b4-4ac5-8b76-e9c026000f4b"
        },
        "ExecuteTime": {
          "end_time": "2023-08-10T12:45:42.140893+00:00",
          "start_time": "2023-08-10T12:45:41.966253+00:00"
        }
      },
      "execution_count": null,
      "source": "# Perform chi-squared test of independence for Tigecyclin 15\ncontingency_table_tigecyclin = pd.crosstab(data_without_type_strain['Tigecyclin 15'], data_without_type_strain['Geographical location'])\nchi2_tigecyclin, p_tigecyclin, dof_tigecyclin, expected_tigecyclin = chi2_contingency(contingency_table_tigecyclin)\np_tigecyclin",
      "outputs": []
    },
    {
      "id": "fcfd34e8-43b6-4f06-bd2b-758bd08eaeaa",
      "cell_type": "code",
      "metadata": {
        "noteable": {
          "cell_type": "code",
          "output_collection_id": "6aedefd2-3d6e-4c8b-875f-ae88d90d7669"
        },
        "ExecuteTime": {
          "end_time": "2023-08-10T07:32:26.995006+00:00",
          "start_time": "2023-08-10T07:32:26.768368+00:00"
        },
        "datalink": {
          "1783071a-e01c-4238-983d-c762daadede8": {
            "applied_filters": [],
            "dataframe_info": {
              "default_index_used": false,
              "orig_num_cols": 3,
              "orig_num_rows": 14,
              "orig_size_bytes": 448,
              "truncated_num_cols": 3,
              "truncated_num_rows": 14,
              "truncated_size_bytes": 448,
              "truncated_string_columns": []
            },
            "display_id": "1783071a-e01c-4238-983d-c762daadede8",
            "dx_settings": {
              "ALLOW_NOTEABLE_ATTRS": true,
              "COLUMN_SAMPLING_METHOD": "outer",
              "DB_LOCATION": ":memory:",
              "DEV_MODE": false,
              "DISPLAY_MAX_COLUMNS": 100,
              "DISPLAY_MAX_ROWS": 50000,
              "DISPLAY_MODE": "simple",
              "ENABLE_ASSIGNMENT": true,
              "ENABLE_DATALINK": true,
              "FLATTEN_COLUMN_VALUES": true,
              "FLATTEN_INDEX_VALUES": false,
              "GENERATE_DEX_METADATA": false,
              "HTML_TABLE_SCHEMA": false,
              "LOG_LEVEL": 30,
              "MAX_RENDER_SIZE_BYTES": 104857600,
              "MAX_STRING_LENGTH": 250,
              "NUM_PAST_SAMPLES_TRACKED": 3,
              "RANDOM_STATE": 12648430,
              "RESET_INDEX_VALUES": false,
              "ROW_SAMPLING_METHOD": "random",
              "SAMPLING_FACTOR": 0.1,
              "SAMPLING_METHOD": "random",
              "STRINGIFY_COLUMN_VALUES": true,
              "STRINGIFY_INDEX_VALUES": false
            },
            "sample_history": [],
            "sampling_time": "2023-08-10T07:32:26.837289",
            "user_variable_name": "aztreonam_data",
            "variable_name": "aztreonam_data"
          }
        }
      },
      "execution_count": null,
      "source": "# Analyze Aztreonam 30 to understand where we see more or less resistance\naztreonam_data = data_without_type_strain.groupby('Geographical location')['Aztreonam 30'].value_counts(normalize=True).unstack().fillna(0) * 100\naztreonam_data",
      "outputs": []
    },
    {
      "id": "7209d1b0-25af-4e2e-9e8d-25a5bb643638",
      "cell_type": "code",
      "metadata": {
        "noteable": {
          "cell_type": "code",
          "output_collection_id": "88e50ce3-4705-45fa-99be-25f05531f48e"
        },
        "ExecuteTime": {
          "end_time": "2023-08-10T07:33:17.323845+00:00",
          "start_time": "2023-08-10T07:33:17.145649+00:00"
        }
      },
      "execution_count": null,
      "source": "# Perform chi-squared test of independence for Aztreonam 30\ncontingency_table_aztreonam = pd.crosstab(data_without_type_strain['Aztreonam 30'], data_without_type_strain['Geographical location'])\nchi2_aztreonam, p_aztreonam, dof_aztreonam, expected_aztreonam = chi2_contingency(contingency_table_aztreonam)\np_aztreonam",
      "outputs": []
    },
    {
      "id": "3e32792e-d256-494d-ae56-e45b05e9a8a6",
      "cell_type": "code",
      "metadata": {
        "noteable": {
          "cell_type": "code",
          "output_collection_id": "2ccc3b02-8c1f-48ea-97f3-cfd3f214e764"
        },
        "ExecuteTime": {
          "end_time": "2023-08-10T12:45:47.356906+00:00",
          "start_time": "2023-08-10T12:45:47.148104+00:00"
        }
      },
      "execution_count": null,
      "source": "# Import geopy to get latitude and longitude coordinates\nfrom geopy.geocoders import Nominatim\n\n# Function to get coordinates for a location\ndef get_coordinates(location):\n    geolocator = Nominatim(user_agent=\"geoapi\")\n    location_obj = geolocator.geocode(location)\n    return location_obj.latitude, location_obj.longitude\n\n# Prepare data for Tigecyclin 15\ntigecyclin_data['Location'] = tigecyclin_data.index\ntigecyclin_data['Latitude'] = tigecyclin_data['Location'].apply(lambda x: get_coordinates(x)[0])\ntigecyclin_data['Longitude'] = tigecyclin_data['Location'].apply(lambda x: get_coordinates(x)[1])\ntigecyclin_data['Resistance Level'] = tigecyclin_data['R'].apply(lambda x: 'High' if x > 50 else 'Low')\ntigecyclin_data",
      "outputs": []
    },
    {
      "id": "77bde1e1-6fe3-44ca-b196-d16c74b7e352",
      "cell_type": "code",
      "metadata": {
        "noteable": {
          "cell_type": "code",
          "output_collection_id": "7ac657b2-82c5-41ad-a244-d89114869fbc"
        },
        "ExecuteTime": {
          "end_time": "2023-08-10T12:45:57.247710+00:00",
          "start_time": "2023-08-10T12:45:51.847746+00:00"
        }
      },
      "execution_count": null,
      "source": "# Install the geopy library to work with geographical coordinates\n!pip install -q geopy",
      "outputs": []
    },
    {
      "id": "21e3b819-3ad9-4930-b990-934e1dceebc2",
      "cell_type": "code",
      "metadata": {
        "noteable": {
          "cell_type": "code",
          "output_collection_id": "5513f4f8-2394-4719-9fea-3b191305a23e"
        },
        "ExecuteTime": {
          "end_time": "2023-08-10T12:46:00.799450+00:00",
          "start_time": "2023-08-10T12:46:00.034917+00:00"
        }
      },
      "execution_count": null,
      "source": "# Manually specify coordinates for the locations\ncoordinates = {\n    'SA Limpopo province': (-23.4013, 29.4179),\n    'Switzerland': (46.8182, 8.2275),\n    'USA (various states)': (37.0902, -95.7129)\n}\n\n# Prepare data for Tigecyclin 15 using the specified coordinates\ntigecyclin_data['Location'] = tigecyclin_data.index\ntigecyclin_data['Latitude'] = tigecyclin_data['Location'].apply(lambda x: coordinates[x][0])\ntigecyclin_data['Longitude'] = tigecyclin_data['Location'].apply(lambda x: coordinates[x][1])\ntigecyclin_data['Resistance Level'] = tigecyclin_data['R'].apply(lambda x: 'High' if x > 50 else 'Low')\ntigecyclin_data",
      "outputs": []
    },
    {
      "id": "74784019-5c31-4794-aa38-526bd39b0df0",
      "cell_type": "code",
      "metadata": {
        "noteable": {
          "cell_type": "code",
          "output_collection_id": "28c930b4-ae35-4ec6-ac3a-1678eafbb6b7"
        },
        "ExecuteTime": {
          "end_time": "2023-08-10T12:46:06.115683+00:00",
          "start_time": "2023-08-10T12:46:05.886957+00:00"
        }
      },
      "execution_count": null,
      "source": "# Trim extra spaces from location names\ntigecyclin_data.index = tigecyclin_data.index.str.strip()\n\n# Prepare data for Tigecyclin 15 using the specified coordinates\ntigecyclin_data['Location'] = tigecyclin_data.index\ntigecyclin_data['Latitude'] = tigecyclin_data['Location'].apply(lambda x: coordinates[x][0])\ntigecyclin_data['Longitude'] = tigecyclin_data['Location'].apply(lambda x: coordinates[x][1])\ntigecyclin_data['Resistance Level'] = tigecyclin_data['R'].apply(lambda x: 'High' if x > 50 else 'Low')\ntigecyclin_data",
      "outputs": []
    },
    {
      "id": "018eb588-b868-40a9-a348-5fac00f2b3cd",
      "cell_type": "code",
      "metadata": {
        "noteable": {
          "cell_type": "code",
          "output_collection_id": "087a3f74-019f-4f86-9dca-ac11376f0b58"
        },
        "ExecuteTime": {
          "end_time": "2023-08-10T12:46:09.629223+00:00",
          "start_time": "2023-08-10T12:46:09.403456+00:00"
        }
      },
      "execution_count": null,
      "source": "# Filter out the 'Type Strain' row\ntigecyclin_data_filtered = tigecyclin_data.loc[tigecyclin_data.index != 'Type Strain']\n\n# Prepare data for Tigecyclin 15 using the specified coordinates\ntigecyclin_data_filtered['Location'] = tigecyclin_data_filtered.index\ntigecyclin_data_filtered['Latitude'] = tigecyclin_data_filtered['Location'].apply(lambda x: coordinates[x])\ntigecyclin_data_filtered['Resistance Level'] = tigecyclin_data_filtered['R'].apply(lambda x: 'High' if x > 50 else 'Low')\ntigecyclin_data_filtered",
      "outputs": []
    },
    {
      "id": "3310f91f-ffab-4d7c-88a2-ad2a5c2c751b",
      "cell_type": "code",
      "metadata": {
        "noteable": {
          "cell_type": "code",
          "output_collection_id": "c93a734d-631d-4ed4-b229-7804dac403fc"
        },
        "ExecuteTime": {
          "end_time": "2023-08-10T12:46:12.865489+00:00",
          "start_time": "2023-08-10T12:46:12.637654+00:00"
        },
        "datalink": {
          "03774368-bc8a-4e01-a81e-967bd042d7c6": {
            "applied_filters": [],
            "dataframe_info": {
              "default_index_used": false,
              "orig_num_cols": 7,
              "orig_num_rows": 11,
              "orig_size_bytes": 704,
              "truncated_num_cols": 7,
              "truncated_num_rows": 11,
              "truncated_size_bytes": 704,
              "truncated_string_columns": []
            },
            "display_id": "03774368-bc8a-4e01-a81e-967bd042d7c6",
            "dx_settings": {
              "ALLOW_NOTEABLE_ATTRS": true,
              "COLUMN_SAMPLING_METHOD": "outer",
              "DB_LOCATION": ":memory:",
              "DEV_MODE": false,
              "DISPLAY_MAX_COLUMNS": 100,
              "DISPLAY_MAX_ROWS": 50000,
              "DISPLAY_MODE": "simple",
              "ENABLE_ASSIGNMENT": true,
              "ENABLE_DATALINK": true,
              "FLATTEN_COLUMN_VALUES": true,
              "FLATTEN_INDEX_VALUES": false,
              "GENERATE_DEX_METADATA": false,
              "HTML_TABLE_SCHEMA": false,
              "LOG_LEVEL": 30,
              "MAX_RENDER_SIZE_BYTES": 104857600,
              "MAX_STRING_LENGTH": 250,
              "NUM_PAST_SAMPLES_TRACKED": 3,
              "RANDOM_STATE": 12648430,
              "RESET_INDEX_VALUES": false,
              "ROW_SAMPLING_METHOD": "random",
              "SAMPLING_FACTOR": 0.1,
              "SAMPLING_METHOD": "random",
              "STRINGIFY_COLUMN_VALUES": true,
              "STRINGIFY_INDEX_VALUES": false
            },
            "sample_history": [],
            "sampling_time": "2023-08-10T07:41:25.276770",
            "user_variable_name": "usa_states_data",
            "variable_name": "usa_states_data"
          }
        }
      },
      "execution_count": null,
      "source": "# Extract state information for the USA and obtain coordinates\nusa_states_data = tigecyclin_data.loc[tigecyclin_data.index.str.contains('USA')]\nusa_states_data['State'] = usa_states_data.index.str.extract(r'\\((.*?)\\)')[0]\nusa_states_data['Latitude'] = usa_states_data['State'].apply(lambda x: get_coordinates(x)[0])\nusa_states_data['Longitude'] = usa_states_data['State'].apply(lambda x: get_coordinates(x)[1])\nusa_states_data['Resistance Level'] = usa_states_data['R'].apply(lambda x: 'High' if x > 50 else 'Low')\nusa_states_data",
      "outputs": []
    },
    {
      "id": "3aeb1a65-5ac5-4581-881c-3760146c3a3d",
      "cell_type": "code",
      "metadata": {
        "noteable": {
          "cell_type": "code",
          "output_collection_id": "eb59a9a1-7c1b-405d-83f0-52057667a7a3"
        },
        "ExecuteTime": {
          "end_time": "2023-08-10T12:46:14.786713+00:00",
          "start_time": "2023-08-10T12:46:14.546975+00:00"
        },
        "datalink": {
          "0253133f-7419-4dae-894f-065e339080b3": {
            "applied_filters": [],
            "dataframe_info": {
              "default_index_used": false,
              "orig_num_cols": 7,
              "orig_num_rows": 11,
              "orig_size_bytes": 704,
              "truncated_num_cols": 7,
              "truncated_num_rows": 11,
              "truncated_size_bytes": 704,
              "truncated_string_columns": []
            },
            "display_id": "0253133f-7419-4dae-894f-065e339080b3",
            "dx_settings": {
              "ALLOW_NOTEABLE_ATTRS": true,
              "COLUMN_SAMPLING_METHOD": "outer",
              "DB_LOCATION": ":memory:",
              "DEV_MODE": false,
              "DISPLAY_MAX_COLUMNS": 100,
              "DISPLAY_MAX_ROWS": 50000,
              "DISPLAY_MODE": "simple",
              "ENABLE_ASSIGNMENT": true,
              "ENABLE_DATALINK": true,
              "FLATTEN_COLUMN_VALUES": true,
              "FLATTEN_INDEX_VALUES": false,
              "GENERATE_DEX_METADATA": false,
              "HTML_TABLE_SCHEMA": false,
              "LOG_LEVEL": 30,
              "MAX_RENDER_SIZE_BYTES": 104857600,
              "MAX_STRING_LENGTH": 250,
              "NUM_PAST_SAMPLES_TRACKED": 3,
              "RANDOM_STATE": 12648430,
              "RESET_INDEX_VALUES": false,
              "ROW_SAMPLING_METHOD": "random",
              "SAMPLING_FACTOR": 0.1,
              "SAMPLING_METHOD": "random",
              "STRINGIFY_COLUMN_VALUES": true,
              "STRINGIFY_INDEX_VALUES": false
            },
            "sample_history": [],
            "sampling_time": "2023-08-10T07:42:31.377677",
            "user_variable_name": "usa_states_data",
            "variable_name": "usa_states_data"
          }
        }
      },
      "execution_count": null,
      "source": "# Modify state names to include 'USA' and obtain coordinates\nusa_states_data['State'] = usa_states_data['Location'].apply(lambda x: x.replace('USA ', '') + ', USA')\nusa_states_data['Latitude'] = usa_states_data['State'].apply(lambda x: get_coordinates(x)[0])\nusa_states_data['Longitude'] = usa_states_data['State'].apply(lambda x: get_coordinates(x)[1])\nusa_states_data",
      "outputs": []
    },
    {
      "id": "911bc077-1383-4797-b711-5697d298ba7e",
      "cell_type": "code",
      "metadata": {
        "noteable": {
          "cell_type": "code",
          "output_collection_id": "87bd82ed-ba73-4f5c-8c11-a1832b3b8086"
        },
        "ExecuteTime": {
          "end_time": "2023-08-10T12:46:20.889231+00:00",
          "start_time": "2023-08-10T12:46:19.948594+00:00"
        }
      },
      "execution_count": null,
      "source": "# Combine USA states data with other locations\nother_locations_data = tigecyclin_data.loc[~tigecyclin_data.index.str.contains('USA|Type Strain')]\nother_locations_data['State'] = other_locations_data.index\nother_locations_data['Latitude'] = other_locations_data['State'].apply(lambda x: coordinates[x][0])\nother_locations_data['Longitude'] = other_locations_data['State'].apply(lambda x: coordinates[x][1])\nother_locations_data['Resistance Level'] = other_locations_data['R'].apply(lambda x: 'High' if x > 50 else 'Low')\n\n# Concatenate with USA states data\nfinal_tigecyclin_data = pd.concat([usa_states_data, other_locations_data])\n\n# Plot the map\nfig = px.scatter_geo(final_tigecyclin_data, lat='Latitude', lon='Longitude',\n                     text='State', color='Resistance Level',\n                     projection='natural earth', title='Resistance Levels for Tigecyclin 15')\nfig.show()",
      "outputs": []
    },
    {
      "id": "bba0536b-deb5-4d31-960d-20a5c8bac81c",
      "cell_type": "code",
      "metadata": {
        "noteable": {
          "cell_type": "code",
          "output_collection_id": "16ffa1b6-db1b-4c86-960a-fe8206026adf"
        },
        "ExecuteTime": {
          "end_time": "2023-08-10T12:46:18.939769+00:00",
          "start_time": "2023-08-10T12:46:18.647151+00:00"
        }
      },
      "execution_count": null,
      "source": "import plotly.express as px\n\n# Plot the map\nfig = px.scatter_geo(final_tigecyclin_data, lat='Latitude', lon='Longitude',\n                     text='State', color='Resistance Level',\n                     projection='natural earth', title='Resistance Levels for Tigecyclin 15')\nfig.show()",
      "outputs": []
    },
    {
      "id": "d1adaf6a-d2e9-4f3b-8d6b-ee9cfaaabc94",
      "cell_type": "code",
      "metadata": {
        "noteable": {
          "cell_type": "code",
          "output_collection_id": "282442bc-040e-428f-869e-4c3ef9ce2dad"
        },
        "ExecuteTime": {
          "end_time": "2023-08-10T12:46:26.610961+00:00",
          "start_time": "2023-08-10T12:46:26.425610+00:00"
        }
      },
      "execution_count": null,
      "source": "# Prepare data for Tigecyclin 15 and Aztreonam 30 resistance across locations\nresistance_data = tigecyclin_data[['R']].rename(columns={'R': 'Tigecyclin 15 Resistance'})\nresistance_data['Aztreonam 30 Resistance'] = aztreonam_data['R']\nresistance_data = resistance_data.reset_index().rename(columns={'index': 'Location'})\nresistance_data = resistance_data.melt(id_vars=['Location'], value_vars=['Tigecyclin 15 Resistance', 'Aztreonam 30 Resistance'], var_name='Antibiotic', value_name='Resistance')\n\n# Plot the bar chart\nfig = px.bar(resistance_data, x='Location', y='Resistance', color='Antibiotic', barmode='group', title='Resistance Percentage for Tigecyclin 15 and Aztreonam 30 Across Locations')\nfig.show()",
      "outputs": []
    },
    {
      "id": "0e4de9ad-ef00-4827-8f89-0bfe95654ace",
      "cell_type": "code",
      "metadata": {
        "noteable": {
          "cell_type": "code",
          "output_collection_id": "42abf511-965b-44f8-91a7-23539e62cd95"
        },
        "ExecuteTime": {
          "end_time": "2023-08-10T12:46:29.825177+00:00",
          "start_time": "2023-08-10T12:46:29.635783+00:00"
        }
      },
      "execution_count": null,
      "source": "# Prepare data for Tigecyclin 15 and Aztreonam 30 resistance across locations\nresistance_data = tigecyclin_data[['R']].rename(columns={'R': 'Tigecyclin 15 Resistance'})\nresistance_data['Aztreonam 30 Resistance'] = aztreonam_data['R']\nresistance_data['Location'] = resistance_data.index\nresistance_data = resistance_data.melt(id_vars=['Location'], value_vars=['Tigecyclin 15 Resistance', 'Aztreonam 30 Resistance'], var_name='Antibiotic', value_name='Resistance')\n\n# Plot the bar chart\nfig = px.bar(resistance_data, x='Location', y='Resistance', color='Antibiotic', barmode='group', title='Resistance Percentage for Tigecyclin 15 and Aztreonam 30 Across Locations')\nfig.show()",
      "outputs": []
    },
    {
      "id": "7725871d-9df0-46bc-9ccd-7d2397a42a04",
      "cell_type": "code",
      "metadata": {
        "noteable": {
          "cell_type": "code",
          "output_collection_id": "81d2e141-b0ac-49d7-950e-25be21b02304"
        },
        "ExecuteTime": {
          "end_time": "2023-08-10T12:46:32.616951+00:00",
          "start_time": "2023-08-10T12:46:32.195784+00:00"
        }
      },
      "execution_count": null,
      "source": "# Plot the line chart for Tigecyclin 15 and Aztreonam 30 resistance trend across locations\nfig = px.line(resistance_data, x='Location', y='Resistance', color='Antibiotic', title='Resistance Trend for Tigecyclin 15 and Aztreonam 30 Across Locations')\nfig.show()",
      "outputs": []
    },
    {
      "id": "554028e0-b72f-48b7-bebd-099d7747a73d",
      "cell_type": "code",
      "metadata": {
        "noteable": {
          "cell_type": "code",
          "output_collection_id": "22d10c02-2d4d-4a87-881b-c7be7afdc009"
        },
        "ExecuteTime": {
          "end_time": "2023-08-10T12:46:35.725229+00:00",
          "start_time": "2023-08-10T12:46:35.404944+00:00"
        }
      },
      "execution_count": null,
      "source": "# Plot the grouped bar chart for Tigecyclin 15 and Aztreonam 30 resistance comparison across locations\nfig = px.bar(resistance_data, x='Location', y='Resistance', color='Antibiotic', barmode='group', title='Resistance Comparison for Tigecyclin 15 and Aztreonam 30 Across Locations')\nfig.show()",
      "outputs": []
    },
    {
      "id": "bfeab600-e3c4-47d8-abca-6b1be165dead",
      "cell_type": "code",
      "metadata": {
        "noteable": {
          "cell_type": "code",
          "output_collection_id": "8f7679cc-e7d6-4f13-bb77-d20d3661bc2d"
        },
        "ExecuteTime": {
          "end_time": "2023-08-10T12:46:38.404611+00:00",
          "start_time": "2023-08-10T12:46:38.222593+00:00"
        }
      },
      "execution_count": null,
      "source": "# Prepare data for scatter plot\nscatter_data = tigecyclin_data[['R']].rename(columns={'R': 'Tigecyclin 15 Resistance'})\nscatter_data['Aztreonam 30 Resistance'] = aztreonam_data['R']\nscatter_data.reset_index(inplace=True)\nscatter_data.rename(columns={'index': 'Location'}, inplace=True)\n\n# Plot the scatter plot with trend line\nfig = px.scatter(scatter_data, x='Tigecyclin 15 Resistance', y='Aztreonam 30 Resistance', trendline='ols', title='Correlation Between Resistance Levels for Tigecyclin 15 and Aztreonam 30')\nfig.show()",
      "outputs": []
    },
    {
      "id": "81e65276-542a-4907-8df9-d603295b1b61",
      "cell_type": "code",
      "metadata": {
        "noteable": {
          "cell_type": "code",
          "output_collection_id": "d9e1a6ad-3d07-4f81-99f3-e22a31b4de5d"
        },
        "ExecuteTime": {
          "end_time": "2023-08-10T12:46:42.032981+00:00",
          "start_time": "2023-08-10T12:46:41.850437+00:00"
        }
      },
      "execution_count": null,
      "source": "# Exclude both type strains from the dataset\nexcluded_type_strains_data_tigecyclin = tigecyclin_data[~tigecyclin_data.index.str.contains('Type Strain')]\nexcluded_type_strains_data_aztreonam = aztreonam_data[~aztreonam_data.index.str.contains('Type Strain')]\n\n# Perform Chi-square test for Tigecyclin 15\nchi2_tigecyclin, p_tigecyclin, dof_tigecyclin, expected_tigecyclin = chi2_contingency(excluded_type_strains_data_tigecyclin)\n\n# Perform Chi-square test for Aztreonam 30\nchi2_aztreonam, p_aztreonam, dof_aztreonam, expected_aztreonam = chi2_contingency(excluded_type_strains_data_aztreonam)\n\np_tigecyclin, p_aztreonam",
      "outputs": []
    },
    {
      "id": "63bafc1c-ea64-416b-ba0a-921f736f68c7",
      "cell_type": "code",
      "metadata": {
        "noteable": {
          "cell_type": "code",
          "output_collection_id": "9145d29f-9a26-445b-be5b-524cf0954797"
        },
        "ExecuteTime": {
          "end_time": "2023-08-10T12:46:44.627306+00:00",
          "start_time": "2023-08-10T12:46:44.447115+00:00"
        }
      },
      "execution_count": null,
      "source": "# Select only the resistance scores (excluding metadata columns) for the Chi-square test\nexcluded_type_strains_data_tigecyclin = excluded_type_strains_data_tigecyclin.iloc[:, 2:]\nexcluded_type_strains_data_aztreonam = excluded_type_strains_data_aztreonam.iloc[:, 2:]\n\n# Perform Chi-square test for Tigecyclin 15\nchi2_tigecyclin, p_tigecyclin, dof_tigecyclin, expected_tigecyclin = chi2_contingency(excluded_type_strains_data_tigecyclin)\n\n# Perform Chi-square test for Aztreonam 30\nchi2_aztreonam, p_aztreonam, dof_aztreonam, expected_aztreonam = chi2_contingency(excluded_type_strains_data_aztreonam)\n\np_tigecyclin, p_aztreonam",
      "outputs": []
    },
    {
      "id": "df211e0b-0bc0-431f-b1c1-8a857c8a74a3",
      "cell_type": "code",
      "metadata": {
        "noteable": {
          "cell_type": "code",
          "output_collection_id": "deab5bd1-ab0f-486e-90a6-dd866f800198"
        },
        "ExecuteTime": {
          "end_time": "2023-08-10T12:46:47.438688+00:00",
          "start_time": "2023-08-10T12:46:47.253353+00:00"
        }
      },
      "execution_count": null,
      "source": "# Display the first few rows of the data to understand the structure\ntigecyclin_data.head(), aztreonam_data.head()",
      "outputs": []
    },
    {
      "id": "c26f48a2-9514-40bb-af11-01291203c12e",
      "cell_type": "code",
      "metadata": {
        "noteable": {
          "cell_type": "code",
          "output_collection_id": "19a0e0f2-3358-457d-a7d3-ec06cfae5616"
        },
        "ExecuteTime": {
          "end_time": "2023-08-10T12:46:50.086424+00:00",
          "start_time": "2023-08-10T12:46:49.907256+00:00"
        }
      },
      "execution_count": null,
      "source": "# Exclude both type strains from the index\nexcluded_type_strains_data_tigecyclin = tigecyclin_data.drop(index='Type Strain')\nexcluded_type_strains_data_aztreonam = aztreonam_data.drop(index='Type Strain')\n\n# Perform Chi-square test for Tigecyclin 15\nchi2_tigecyclin, p_tigecyclin, dof_tigecyclin, expected_tigecyclin = chi2_contingency(excluded_type_strains_data_tigecyclin)\n\n# Perform Chi-square test for Aztreonam 30\nchi2_aztreonam, p_aztreonam, dof_aztreonam, expected_aztreonam = chi2_contingency(excluded_type_strains_data_aztreonam)\n\np_tigecyclin, p_aztreonam",
      "outputs": []
    },
    {
      "id": "99e2445e-44fb-43bd-8f0b-801c75536cf2",
      "cell_type": "code",
      "metadata": {
        "noteable": {
          "cell_type": "code",
          "output_collection_id": "1557965d-da20-44ea-b9aa-31e248bdf87e"
        },
        "ExecuteTime": {
          "end_time": "2023-08-10T12:46:54.215837+00:00",
          "start_time": "2023-08-10T12:46:52.371710+00:00"
        }
      },
      "execution_count": null,
      "source": "# Exclude strains 83 and 84 (columns 84 and 85) from the dataset\nexcluded_type_strains_data_tigecyclin = tigecyclin_data.drop(columns=[84, 85])\nexcluded_type_strains_data_aztreonam = aztreonam_data.drop(columns=[84, 85])\n\n# Perform Chi-square test for Tigecyclin 15\nchi2_tigecyclin, p_tigecyclin, dof_tigecyclin, expected_tigecyclin = chi2_contingency(excluded_type_strains_data_tigecyclin)\n\n# Perform Chi-square test for Aztreonam 30\nchi2_aztreonam, p_aztreonam, dof_aztreonam, expected_aztreonam = chi2_contingency(excluded_type_strains_data_aztreonam)\n\np_tigecyclin, p_aztreonam",
      "outputs": []
    },
    {
      "id": "6fcbdd52-4f85-4a5f-9bfe-b64cd56bb95a",
      "cell_type": "code",
      "metadata": {
        "noteable": {
          "cell_type": "code",
          "output_collection_id": "57c41ac2-b3bd-4ac6-8d73-7c74782f6160"
        },
        "ExecuteTime": {
          "end_time": "2023-08-10T12:46:57.312266+00:00",
          "start_time": "2023-08-10T12:46:57.055064+00:00"
        }
      },
      "execution_count": null,
      "source": "# Exclude strains 83 and 84 (columns 83 and 84) from the dataset\nexcluded_type_strains_data_tigecyclin = tigecyclin_data.drop(columns=[83, 84])\nexcluded_type_strains_data_aztreonam = aztreonam_data.drop(columns=[83, 84])\n\n# Perform Chi-square test for Tigecyclin 15\nchi2_tigecyclin, p_tigecyclin, dof_tigecyclin, expected_tigecyclin = chi2_contingency(excluded_type_strains_data_tigecyclin)\n\n# Perform Chi-square test for Aztreonam 30\nchi2_aztreonam, p_aztreonam, dof_aztreonam, expected_aztreonam = chi2_contingency(excluded_type_strains_data_aztreonam)\n\np_tigecyclin, p_aztreonam",
      "outputs": []
    },
    {
      "id": "15a05d83-0f44-4925-a9c7-a029cd1a7a52",
      "cell_type": "code",
      "metadata": {
        "noteable": {
          "cell_type": "code",
          "output_collection_id": "6ac206a3-7e1b-4f63-8d71-41b3561d6b8c"
        },
        "ExecuteTime": {
          "end_time": "2023-08-10T12:47:00.444082+00:00",
          "start_time": "2023-08-10T12:47:00.265209+00:00"
        }
      },
      "execution_count": null,
      "source": "# Display the first few rows of the data to understand the structure\ntigecyclin_data.head(), aztreonam_data.head()",
      "outputs": []
    },
    {
      "id": "8a87bed3-a33e-4191-ad2a-48ea33fb71ad",
      "cell_type": "code",
      "metadata": {
        "noteable": {
          "cell_type": "code",
          "output_collection_id": "660bda80-08aa-4526-83cc-2b8cb811f4dd"
        },
        "ExecuteTime": {
          "end_time": "2023-08-10T12:47:03.179993+00:00",
          "start_time": "2023-08-10T12:47:02.997121+00:00"
        }
      },
      "execution_count": null,
      "source": "# Exclude the 'Type Strain' row from the dataset\nexcluded_type_strains_data_tigecyclin = tigecyclin_data.drop(index='Type Strain')\nexcluded_type_strains_data_aztreonam = aztreonam_data.drop(index='Type Strain')\n\n# Perform Chi-square test for Tigecyclin 15\nchi2_tigecyclin, p_tigecyclin, dof_tigecyclin, expected_tigecyclin = chi2_contingency(excluded_type_strains_data_tigecyclin)\n\n# Perform Chi-square test for Aztreonam 30\nchi2_aztreonam, p_aztreonam, dof_aztreonam, expected_aztreonam = chi2_contingency(excluded_type_strains_data_aztreonam)\n\np_tigecyclin, p_aztreonam",
      "outputs": []
    },
    {
      "id": "0c4c0c3f-00dc-4c8f-94a8-59c12fce3400",
      "cell_type": "code",
      "metadata": {
        "noteable": {
          "cell_type": "code",
          "output_collection_id": "eeb1f3d6-8f98-48e4-8be2-af4cbd2b25a4"
        },
        "ExecuteTime": {
          "end_time": "2023-08-10T12:47:08.325084+00:00",
          "start_time": "2023-08-10T12:47:08.146779+00:00"
        }
      },
      "execution_count": null,
      "source": "# Exclude the 'Type Strain' row from the dataset\nexcluded_type_strains_data_tigecyclin = tigecyclin_data.drop(index='Type Strain')\nexcluded_type_strains_data_aztreonam = aztreonam_data.drop(index='Type Strain')\n\n# Display the first few rows of the excluded data to understand the structure\nexcluded_type_strains_data_tigecyclin.head(), excluded_type_strains_data_aztreonam.head()",
      "outputs": []
    },
    {
      "id": "271f0940-6861-48b2-b68b-5cfb3bfaf45b",
      "cell_type": "code",
      "metadata": {
        "noteable": {
          "cell_type": "code",
          "output_collection_id": "fd31bd67-1f05-4968-944a-fc21af63ba65"
        },
        "ExecuteTime": {
          "end_time": "2023-08-10T12:47:15.712574+00:00",
          "start_time": "2023-08-10T12:47:15.525909+00:00"
        }
      },
      "execution_count": null,
      "source": "# Create contingency table for Tigecyclin by rounding the percentages to integers\ncontingency_table_tigecyclin = excluded_type_strains_data_tigecyclin[['R', 'S']].round().astype(int)\n\n# Create contingency table for Aztreonam by rounding the percentages to integers\ncontingency_table_aztreonam = excluded_type_strains_data_aztreonam[['I', 'R', 'S']].round().astype(int)\n\n# Perform Chi-square test for Tigecyclin 15\nchi2_tigecyclin, p_tigecyclin, dof_tigecyclin, expected_tigecyclin = chi2_contingency(contingency_table_tigecyclin)\n\n# Perform Chi-square test for Aztreonam 30\nchi2_aztreonam, p_aztreonam, dof_aztreonam, expected_aztreonam = chi2_contingency(contingency_table_aztreonam)\n\np_tigecyclin, p_aztreonam",
      "outputs": []
    },
    {
      "id": "b6e80a43-8941-4b3b-b181-2c8e009ff2ca",
      "cell_type": "code",
      "metadata": {
        "noteable": {
          "cell_type": "code",
          "output_collection_id": "ede1a7c8-60af-416e-bca6-7896439cf995"
        },
        "ExecuteTime": {
          "end_time": "2023-08-10T12:47:19.846591+00:00",
          "start_time": "2023-08-10T12:47:19.653774+00:00"
        }
      },
      "execution_count": null,
      "source": "# Reproducing Figure 2 (Excluding Type Strains) for Tigecyclin\nplt.figure(figsize=(10, 6))\nsns.barplot(x=excluded_type_strains_data_tigecyclin.index, y='R', data=excluded_type_strains_data_tigecyclin, color='red')\nplt.xticks(rotation=90)\nplt.ylabel('Resistance Percentage')\nplt.title('Resistance to Tigecyclin 15 Across Different Geographical Locations (Excluding Type Strains)')\nplt.show()",
      "outputs": []
    },
    {
      "id": "8ca95590-5cd9-46ed-b2ec-2f76408af674",
      "cell_type": "code",
      "metadata": {
        "noteable": {
          "cell_type": "code",
          "output_collection_id": "572854a0-0e0a-4f2d-b8f9-17da5b90b61b"
        },
        "ExecuteTime": {
          "end_time": "2023-08-10T12:47:24.099545+00:00",
          "start_time": "2023-08-10T12:47:23.137700+00:00"
        }
      },
      "execution_count": null,
      "source": "# Plotting the bar graph for Tigecyclin resistance profile across different geographical locations\nfig, axes = plt.subplots(2, 1, figsize=(12, 12))\ncontingency_table_tigecyclin.plot(kind='bar', stacked=True, ax=axes[0], title='Tigecyclin Resistance Profile')\naxes[0].set_ylabel('Percentage')\n\n# Plotting the bar graph for Aztreonam resistance profile across different geographical locations\ncontingency_table_aztreonam.plot(kind='bar', stacked=True, ax=axes[1], title='Aztreonam Resistance Profile')\naxes[1].set_ylabel('Percentage')\n\nplt.tight_layout()",
      "outputs": []
    },
    {
      "id": "ea9b4ca8-d2c1-4d38-9f90-a44233dbd53b",
      "cell_type": "code",
      "metadata": {
        "noteable": {
          "cell_type": "code",
          "output_collection_id": "b5b3d420-ca2b-4b76-9d5f-e5115eaa8300"
        },
        "ExecuteTime": {
          "end_time": "2023-08-10T12:47:30.607744+00:00",
          "start_time": "2023-08-10T12:47:29.827821+00:00"
        }
      },
      "execution_count": null,
      "source": "# Plotting the bar graph for Tigecyclin resistance profile across different geographical locations (without title)\nfig, axes = plt.subplots(2, 1, figsize=(12, 12))\ncontingency_table_tigecyclin.plot(kind='bar', stacked=True, ax=axes[0])\naxes[0].set_ylabel('Percentage')\naxes[0].legend(loc='upper right')\n\n# Plotting the bar graph for Aztreonam resistance profile across different geographical locations (without title)\ncontingency_table_aztreonam.plot(kind='bar', stacked=True, ax=axes[1])\naxes[1].set_ylabel('Percentage')\naxes[1].legend(loc='upper right')\n\nplt.tight_layout()",
      "outputs": []
    },
    {
      "id": "cfc247e3-98a8-4ce5-82fd-0c4a754537d8",
      "cell_type": "code",
      "metadata": {
        "noteable": {
          "cell_type": "code",
          "output_collection_id": "20b66303-2ce2-488f-8223-5396567cd5ea"
        },
        "ExecuteTime": {
          "end_time": "2023-08-10T12:47:34.856733+00:00",
          "start_time": "2023-08-10T12:47:34.668997+00:00"
        }
      },
      "execution_count": null,
      "source": "# List to store p-values for each antibiotic\np_values = []\n\n# Cut-off p-value for significance\np_value_cutoff = 0.05\n\n# Iterate through the antibiotics data (excluding Amikacin and type strains)\nfor antibiotic, data in antibiotics_data.items():\n    if antibiotic != 'Amikacin 30':\n        # Exclude the 'Type Strain' row\n        data_excluded_type_strains = data.drop(index='Type Strain')\n        # Perform Chi-square test\n        chi2, p, dof, expected = chi2_contingency(data_excluded_type_strains)\n        p_values.append((antibiotic, p))\n\n# Create a DataFrame to store the p-values\np_values_df = pd.DataFrame(p_values, columns=['Antibiotic', 'P-Value'])\n\n# Plotting the p-values with the cut-off line\nplt.figure(figsize=(10, 6))\nplt.bar(p_values_df['Antibiotic'], p_values_df['P-Value'], color=['red' if p < p_value_cutoff else 'blue' for p in p_values_df['P-Value']])\nplt.axhline(y=p_value_cutoff, color='green', linestyle='--', label=f'P-Value Cut-off ({p_value_cutoff})')\nplt.ylabel('P-Value')\nplt.xticks(rotation=90)\nplt.legend()\nplt.title('P-Values for Chi-Square Test (Excluding Amikacin)')\nplt.tight_layout()",
      "outputs": []
    },
    {
      "id": "6772f0ba-f807-408e-86e6-76eb5eb17d4e",
      "cell_type": "code",
      "metadata": {
        "noteable": {
          "cell_type": "code",
          "output_collection_id": "fb8fd158-ba53-46cf-a9e7-a2d4af69c203"
        },
        "ExecuteTime": {
          "end_time": "2023-08-10T12:47:41.482464+00:00",
          "start_time": "2023-08-10T12:47:41.293829+00:00"
        }
      },
      "execution_count": null,
      "source": "# List to store p-values for each antibiotic\np_values = []\n\n# Cut-off p-value for significance\np_value_cutoff = 0.05\n\n# Iterate through the antibiotics data (excluding Amikacin and type strains)\nfor antibiotic in antibiotics_columns:\n    if antibiotic != 'Amikacin 30':\n        # Extract data for the specific antibiotic\n        data = resistance_data[[antibiotic, 'Location']].pivot_table(index='Location', columns=antibiotic, aggfunc=len, fill_value=0)\n        # Exclude the 'Type Strain' row\n        data_excluded_type_strains = data.drop(index='Type Strain')\n        # Perform Chi-square test\n        chi2, p, dof, expected = chi2_contingency(data_excluded_type_strains)\n        p_values.append((antibiotic, p))\n\n# Create a DataFrame to store the p-values\np_values_df = pd.DataFrame(p_values, columns=['Antibiotic', 'P-Value'])\n\n# Plotting the p-values with the cut-off line\nplt.figure(figsize=(10, 6))\nplt.bar(p_values_df['Antibiotic'], p_values_df['P-Value'], color=['red' if p < p_value_cutoff else 'blue' for p in p_values_df['P-Value']])\nplt.axhline(y=p_value_cutoff, color='green', linestyle='--', label=f'P-Value Cut-off ({p_value_cutoff})')\nplt.ylabel('P-Value')\nplt.xticks(rotation=90)\nplt.legend()\nplt.title('P-Values for Chi-Square Test (Excluding Amikacin)')\nplt.tight_layout()",
      "outputs": []
    },
    {
      "id": "2a57a3d6-79ab-4f9a-871d-3f66d502d1bd",
      "cell_type": "code",
      "metadata": {
        "noteable": {
          "cell_type": "code",
          "output_collection_id": "50364e44-c3d9-4222-a17e-97118b992500"
        },
        "ExecuteTime": {
          "end_time": "2023-08-10T12:47:46.287157+00:00",
          "start_time": "2023-08-10T12:47:46.093909+00:00"
        }
      },
      "execution_count": null,
      "source": "# List to store p-values for each antibiotic\np_values = []\n\n# Cut-off p-value for significance\np_value_cutoff = 0.05\n\n# Iterate through the antibiotics data (excluding Amikacin and type strains)\nfor antibiotic in antibiotics_excluding_type_strains.columns[:-1]:\n    if antibiotic != 'Amikacin 30':\n        # Extract data for the specific antibiotic\n        data = antibiotics_excluding_type_strains[[antibiotic, 'Location']].pivot_table(index='Location', columns=antibiotic, aggfunc=len, fill_value=0)\n        # Perform Chi-square test\n        chi2, p, dof, expected = chi2_contingency(data)\n        p_values.append((antibiotic, p))\n\n# Create a DataFrame to store the p-values\np_values_df = pd.DataFrame(p_values, columns=['Antibiotic', 'P-Value'])\n\n# Plotting the p-values with the cut-off line\nplt.figure(figsize=(10, 6))\nplt.bar(p_values_df['Antibiotic'], p_values_df['P-Value'], color=['red' if p < p_value_cutoff else 'blue' for p in p_values_df['P-Value']])\nplt.axhline(y=p_value_cutoff, color='green', linestyle='--', label=f'P-Value Cut-off ({p_value_cutoff})')\nplt.ylabel('P-Value')\nplt.xticks(rotation=90)\nplt.legend()\nplt.title('P-Values for Chi-Square Test (Excluding Amikacin)')\nplt.tight_layout()",
      "outputs": []
    },
    {
      "id": "d2e6ad87-d878-40fc-ab37-ed2a33c8d1d3",
      "cell_type": "code",
      "metadata": {
        "noteable": {
          "cell_type": "code",
          "output_collection_id": "42bf10bc-bee5-4cea-830e-046d6e1ebd30"
        },
        "ExecuteTime": {
          "end_time": "2023-08-10T12:47:49.737652+00:00",
          "start_time": "2023-08-10T12:47:49.548127+00:00"
        }
      },
      "execution_count": null,
      "source": "# Excluding the type strains (83 and 84) and Amikacin\ndata_for_chi_square = resistance_data_excluding_type_strains.drop(columns=['Amikacin 30'])\n\n# List to store p-values for each antibiotic\np_values = []\n\n# Cut-off p-value for significance\np_value_cutoff = 0.05\n\n# Iterate through the antibiotics data (excluding Amikacin and type strains)\nfor antibiotic in data_for_chi_square.columns[:-1]:\n    # Extract data for the specific antibiotic\n    data = data_for_chi_square[[antibiotic, 'Location']].pivot_table(index='Location', columns=antibiotic, aggfunc=len, fill_value=0)\n    # Perform Chi-square test\n    chi2, p, dof, expected = chi2_contingency(data)\n    p_values.append((antibiotic, p))\n\n# Create a DataFrame to store the p-values\np_values_df = pd.DataFrame(p_values, columns=['Antibiotic', 'P-Value'])\n\n# Plotting the p-values with the cut-off line\nplt.figure(figsize=(10, 6))\nplt.bar(p_values_df['Antibiotic'], p_values_df['P-Value'], color=['red' if p < p_value_cutoff else 'blue' for p in p_values_df['P-Value']])\nplt.axhline(y=p_value_cutoff, color='green', linestyle='--', label=f'P-Value Cut-off ({p_value_cutoff})')\nplt.ylabel('P-Value')\nplt.xticks(rotation=90)\nplt.legend()\nplt.title('P-Values for Chi-Square Test (Excluding Amikacin)')\nplt.tight_layout()",
      "outputs": []
    },
    {
      "id": "4a20cfbb-2e50-40ce-a3a0-4a0cac7d2655",
      "cell_type": "code",
      "metadata": {
        "noteable": {
          "cell_type": "code",
          "output_collection_id": "09e5fd68-993f-46cc-929d-60a80090471b"
        },
        "ExecuteTime": {
          "end_time": "2023-08-10T12:47:56.221329+00:00",
          "start_time": "2023-08-10T12:47:55.970837+00:00"
        }
      },
      "execution_count": null,
      "source": "# Excluding the type strains (83 and 84) and Amikacin\ndata_for_chi_square = resistance_data.drop(index=[83, 84], columns=['Amikacin 30'])\n\n# List to store p-values for each antibiotic\np_values = []\n\n# Cut-off p-value for significance\np_value_cutoff = 0.05\n\n# Iterate through the antibiotics data (excluding Amikacin and type strains)\nfor antibiotic in data_for_chi_square.columns[:-1]:\n    # Extract data for the specific antibiotic\n    data = data_for_chi_square[[antibiotic, 'Location']].pivot_table(index='Location', columns=antibiotic, aggfunc=len, fill_value=0)\n    # Perform Chi-square test\n    chi2, p, dof, expected = chi2_contingency(data)\n    p_values.append((antibiotic, p))\n\n# Create a DataFrame to store the p-values\np_values_df = pd.DataFrame(p_values, columns=['Antibiotic', 'P-Value'])\n\n# Plotting the p-values with the cut-off line\nplt.figure(figsize=(10, 6))\nplt.bar(p_values_df['Antibiotic'], p_values_df['P-Value'], color=['red' if p < p_value_cutoff else 'blue' for p in p_values_df['P-Value']])\nplt.axhline(y=p_value_cutoff, color='green', linestyle='--', label=f'P-Value Cut-off ({p_value_cutoff})')\nplt.ylabel('P-Value')\nplt.xticks(rotation=90)\nplt.legend()\nplt.tight_layout()",
      "outputs": []
    },
    {
      "id": "027e50a1-84ad-4965-a3e9-25c11e838ea2",
      "cell_type": "code",
      "metadata": {
        "noteable": {
          "cell_type": "code",
          "output_collection_id": "28a2db3e-ad59-4f02-8224-5d3968751b4f"
        },
        "ExecuteTime": {
          "end_time": "2023-08-10T12:47:54.328740+00:00",
          "start_time": "2023-08-10T12:47:53.947554+00:00"
        }
      },
      "execution_count": null,
      "source": "# Identifying the rows corresponding to the type strains (83 and 84)\ntype_strains_rows = resistance_data[(resistance_data['Strain'] == 83) | (resistance_data['Strain'] == 84)]\ntype_strains_rows",
      "outputs": []
    },
    {
      "id": "696d2132-ae9d-4771-812d-697d80fb4992",
      "cell_type": "code",
      "metadata": {
        "noteable": {
          "cell_type": "code",
          "output_collection_id": "90aaa7c3-6610-43be-8e55-0d14fe99d2aa"
        },
        "ExecuteTime": {
          "end_time": "2023-08-10T12:48:00.448085+00:00",
          "start_time": "2023-08-10T12:47:59.945967+00:00"
        }
      },
      "execution_count": null,
      "source": "# Identifying the rows corresponding to the type strains (83 and 84)\ntype_strains_rows = resistance_data.loc[[83, 84]]\ntype_strains_rows",
      "outputs": []
    },
    {
      "id": "632e015f-be23-45c6-bfe0-1a6ac2253411",
      "cell_type": "code",
      "metadata": {
        "noteable": {
          "cell_type": "code",
          "output_collection_id": "c433e85b-114e-474e-8e6f-d73a84b8ea22"
        },
        "ExecuteTime": {
          "end_time": "2023-08-10T12:48:04.239895+00:00",
          "start_time": "2023-08-10T12:48:03.986092+00:00"
        }
      },
      "execution_count": null,
      "source": "# Excluding the specified strains (77, 83, and 84) and Amikacin\ndata_for_chi_square = resistance_data.drop(index=[77, 83, 84], columns=['Amikacin 30'])\n\n# List to store p-values for each antibiotic\np_values = []\n\n# Cut-off p-value for significance\np_value_cutoff = 0.05\n\n# Iterate through the antibiotics data (excluding Amikacin and specified strains)\nfor antibiotic in data_for_chi_square.columns[:-1]:\n    # Extract data for the specific antibiotic\n    data = data_for_chi_square[[antibiotic, 'Location']].pivot_table(index='Location', columns=antibiotic, aggfunc=len, fill_value=0)\n    # Perform Chi-square test\n    chi2, p, dof, expected = chi2_contingency(data)\n    p_values.append((antibiotic, p))\n\n# Create a DataFrame to store the p-values\np_values_df = pd.DataFrame(p_values, columns=['Antibiotic', 'P-Value'])\n\n# Plotting the p-values with the cut-off line\nplt.figure(figsize=(10, 6))\nplt.bar(p_values_df['Antibiotic'], p_values_df['P-Value'], color=['red' if p < p_value_cutoff else 'blue' for p in p_values_df['P-Value']])\nplt.axhline(y=p_value_cutoff, color='green', linestyle='--', label=f'P-Value Cut-off ({p_value_cutoff})')\nplt.ylabel('P-Value')\nplt.xticks(rotation=90)\nplt.legend()\nplt.title('P-Values for Chi-Square Test (Excluding Amikacin)')\nplt.tight_layout()",
      "outputs": []
    },
    {
      "id": "f10bfbbc-411f-4b9f-ad9a-c22933922846",
      "cell_type": "code",
      "metadata": {
        "noteable": {
          "cell_type": "code",
          "output_collection_id": "d8dc97be-a656-4c47-abb4-0bf6275b30a7"
        },
        "ExecuteTime": {
          "end_time": "2023-08-10T12:48:08.088221+00:00",
          "start_time": "2023-08-10T12:48:07.819472+00:00"
        }
      },
      "execution_count": null,
      "source": "# Identifying the correct index values for the specified strains (77, 83, and 84)\nstrains_to_exclude = [77, 83, 84]\nindex_to_exclude = resistance_data[resistance_data['Strain'].isin(strains_to_exclude)].index\n\n# Excluding the specified strains and Amikacin\ndata_for_chi_square = resistance_data.drop(index=index_to_exclude, columns=['Amikacin 30'])\n\n# List to store p-values for each antibiotic\np_values = []\n\n# Cut-off p-value for significance\np_value_cutoff = 0.05\n\n# Iterate through the antibiotics data (excluding Amikacin and specified strains)\nfor antibiotic in data_for_chi_square.columns[:-2]:\n    # Extract data for the specific antibiotic\n    data = data_for_chi_square[[antibiotic, 'Location']].pivot_table(index='Location', columns=antibiotic, aggfunc=len, fill_value=0)\n    # Perform Chi-square test\n    chi2, p, dof, expected = chi2_contingency(data)\n    p_values.append((antibiotic, p))\n\n# Create a DataFrame to store the p-values\np_values_df = pd.DataFrame(p_values, columns=['Antibiotic', 'P-Value'])\n\n# Plotting the p-values with the cut-off line\nplt.figure(figsize=(10, 6))\nplt.bar(p_values_df['Antibiotic'], p_values_df['P-Value'], color=['red' if p < p_value_cutoff else 'blue' for p in p_values_df['P-Value']])\nplt.axhline(y=p_value_cutoff, color='green', linestyle='--', label=f'P-Value Cut-off ({p_value_cutoff})')\nplt.ylabel('P-Value')\nplt.xticks(rotation=90)\nplt.legend()\nplt.title('P-Values for Chi-Square Test (Excluding Amikacin)')\nplt.tight_layout()",
      "outputs": []
    },
    {
      "id": "05e02bc8-1df2-446d-9578-e6163ff5af49",
      "cell_type": "code",
      "metadata": {
        "noteable": {
          "cell_type": "code",
          "output_collection_id": "aa07f289-06cd-4d8e-b6f2-aa579bdd93e6"
        },
        "ExecuteTime": {
          "end_time": "2023-08-10T12:48:11.119633+00:00",
          "start_time": "2023-08-10T12:48:10.682458+00:00"
        }
      },
      "execution_count": null,
      "source": "# Loading the new dataset for Chi-square analysis\nchi_square_data_path = '/content/Enterobacter Chi-Square .csv'\nchi_square_data = pd.read_csv(chi_square_data_path)\n\n# Displaying the first few rows of the new dataset\nchi_square_data.head()",
      "outputs": []
    },
    {
      "id": "92dbc7f6-9040-4b05-a60c-fcbdf45ddc57",
      "cell_type": "code",
      "metadata": {
        "noteable": {
          "cell_type": "code",
          "output_collection_id": "843997fa-9b91-460f-91a8-d48ea61e8b15"
        },
        "ExecuteTime": {
          "end_time": "2023-08-10T12:48:14.667647+00:00",
          "start_time": "2023-08-10T12:48:14.348718+00:00"
        },
        "datalink": {
          "36e7784e-adbb-41c4-88a0-bc2f685879c2": {
            "applied_filters": [],
            "dataframe_info": {
              "default_index_used": true,
              "orig_num_cols": 15,
              "orig_num_rows": 5,
              "orig_size_bytes": 640,
              "truncated_num_cols": 15,
              "truncated_num_rows": 5,
              "truncated_size_bytes": 640,
              "truncated_string_columns": []
            },
            "display_id": "36e7784e-adbb-41c4-88a0-bc2f685879c2",
            "dx_settings": {
              "ALLOW_NOTEABLE_ATTRS": true,
              "COLUMN_SAMPLING_METHOD": "outer",
              "DB_LOCATION": ":memory:",
              "DEV_MODE": false,
              "DISPLAY_MAX_COLUMNS": 100,
              "DISPLAY_MAX_ROWS": 50000,
              "DISPLAY_MODE": "simple",
              "ENABLE_ASSIGNMENT": true,
              "ENABLE_DATALINK": true,
              "FLATTEN_COLUMN_VALUES": true,
              "FLATTEN_INDEX_VALUES": false,
              "GENERATE_DEX_METADATA": false,
              "HTML_TABLE_SCHEMA": false,
              "LOG_LEVEL": 30,
              "MAX_RENDER_SIZE_BYTES": 104857600,
              "MAX_STRING_LENGTH": 250,
              "NUM_PAST_SAMPLES_TRACKED": 3,
              "RANDOM_STATE": 12648430,
              "RESET_INDEX_VALUES": false,
              "ROW_SAMPLING_METHOD": "random",
              "SAMPLING_FACTOR": 0.1,
              "SAMPLING_METHOD": "random",
              "STRINGIFY_COLUMN_VALUES": true,
              "STRINGIFY_INDEX_VALUES": false
            },
            "sample_history": [],
            "sampling_time": "2023-08-10T08:42:55.502510",
            "user_variable_name": null,
            "variable_name": "unk_dataframe_f1f499595a5e4e0299cbbac83382b792"
          },
          "6f98a78f-21e2-45fb-9317-7f060028a7e6": {
            "applied_filters": [],
            "dataframe_info": {
              "default_index_used": true,
              "orig_num_cols": 15,
              "orig_num_rows": 5,
              "orig_size_bytes": 640,
              "truncated_num_cols": 15,
              "truncated_num_rows": 5,
              "truncated_size_bytes": 640,
              "truncated_string_columns": []
            },
            "display_id": "6f98a78f-21e2-45fb-9317-7f060028a7e6",
            "dx_settings": {
              "ALLOW_NOTEABLE_ATTRS": true,
              "COLUMN_SAMPLING_METHOD": "outer",
              "DB_LOCATION": ":memory:",
              "DEV_MODE": false,
              "DISPLAY_MAX_COLUMNS": 100,
              "DISPLAY_MAX_ROWS": 50000,
              "DISPLAY_MODE": "simple",
              "ENABLE_ASSIGNMENT": true,
              "ENABLE_DATALINK": true,
              "FLATTEN_COLUMN_VALUES": true,
              "FLATTEN_INDEX_VALUES": false,
              "GENERATE_DEX_METADATA": false,
              "HTML_TABLE_SCHEMA": false,
              "LOG_LEVEL": 30,
              "MAX_RENDER_SIZE_BYTES": 104857600,
              "MAX_STRING_LENGTH": 250,
              "NUM_PAST_SAMPLES_TRACKED": 3,
              "RANDOM_STATE": 12648430,
              "RESET_INDEX_VALUES": false,
              "ROW_SAMPLING_METHOD": "random",
              "SAMPLING_FACTOR": 0.1,
              "SAMPLING_METHOD": "random",
              "STRINGIFY_COLUMN_VALUES": true,
              "STRINGIFY_INDEX_VALUES": false
            },
            "sample_history": [],
            "sampling_time": "2023-08-10T12:48:14.508714",
            "user_variable_name": null,
            "variable_name": "unk_dataframe_7309570087804f7c8a6c030bfbb09f9e"
          }
        }
      },
      "execution_count": null,
      "source": "# Correcting the file path and loading the new dataset for Chi-square analysis\nchi_square_data_path = 'Enterobacter Chi-Square .csv'\nchi_square_data = pd.read_csv(chi_square_data_path)\n\n# Displaying the first few rows of the new dataset\nchi_square_data.head()",
      "outputs": []
    },
    {
      "id": "7aebeac7-5a58-4fd9-8f9e-89fe86c16c48",
      "cell_type": "code",
      "metadata": {
        "noteable": {
          "cell_type": "code",
          "output_collection_id": "b74277cb-36f6-402a-9d15-4d1a38d03eff"
        },
        "ExecuteTime": {
          "end_time": "2023-08-10T12:48:20.248639+00:00",
          "start_time": "2023-08-10T12:48:19.445069+00:00"
        }
      },
      "execution_count": null,
      "source": "# List to store p-values for each antibiotic\np_values_chi_square = []\n\n# Cut-off p-value for significance\np_value_cutoff_chi_square = 0.05\n\n# Iterate through the antibiotics data\nfor antibiotic in chi_square_data.columns[4:]:\n    # Extract data for the specific antibiotic\n    data = chi_square_data[[antibiotic, 'Location']].pivot_table(index='Location', columns=antibiotic, aggfunc=len, fill_value=0)\n    # Perform Chi-square test\n    chi2, p, dof, expected = chi2_contingency(data)\n    p_values_chi_square.append((antibiotic, p))\n\n# Create a DataFrame to store the p-values\np_values_chi_square_df = pd.DataFrame(p_values_chi_square, columns=['Antibiotic', 'P-Value'])\n\n# Plotting the p-values with the cut-off line\nplt.figure(figsize=(10, 6))\nplt.bar(p_values_chi_square_df['Antibiotic'], p_values_chi_square_df['P-Value'], color=['red' if p < p_value_cutoff_chi_square else 'blue' for p in p_values_chi_square_df['P-Value']])\nplt.axhline(y=p_value_cutoff_chi_square, color='green', linestyle='--', label=f'P-Value Cut-off ({p_value_cutoff_chi_square})')\nplt.ylabel('P-Value')\nplt.xticks(rotation=90)\nplt.legend(loc='upper right')\n# Adding \"Antibiotics\" text below the x-axis labels but lower\nplt.text(0.5, -0.8, \"Antibiotics\", transform=plt.gca().transAxes, ha='center')\n\n\nplt.tight_layout()",
      "outputs": []
    },
    {
      "id": "f2b4cefd-1d1d-49c4-9c27-5230bbc4ffc2",
      "cell_type": "code",
      "metadata": {
        "noteable": {
          "cell_type": "code",
          "output_collection_id": "1c0760fa-7675-4297-8ed7-a7ce71e3e993"
        },
        "ExecuteTime": {
          "end_time": "2023-08-10T12:48:25.510377+00:00",
          "start_time": "2023-08-10T12:48:24.873730+00:00"
        }
      },
      "execution_count": null,
      "source": "# Creating a contingency table for Tigecyclin resistance profile across different geographical locations\ncontingency_table_tigecyclin_new = chi_square_data.groupby('Location')['Tigecyclin 15'].value_counts(normalize=True).unstack().fillna(0) * 100\n\n# Plotting the bar graph for Tigecyclin resistance profile across different geographical locations (without title)\nplt.figure(figsize=(12, 6))\ncontingency_table_tigecyclin_new.plot(kind='bar', stacked=True)\nplt.ylabel('Percentage')\nplt.legend(loc='upper right')\nplt.title('')\nplt.tight_layout()\nplt.show()\n",
      "outputs": []
    },
    {
      "id": "24fec4f5-0fa9-4c35-94bf-9804f4c9062e",
      "cell_type": "code",
      "metadata": {
        "jupyter": {
          "outputs_hidden": false,
          "source_hidden": false
        },
        "noteable": {
          "cell_type": "code",
          "output_collection_id": "1f952e4c-2645-4114-8a93-af72f9fdb470"
        },
        "ExecuteTime": {
          "end_time": "2023-08-10T12:50:21.014426+00:00",
          "start_time": "2023-08-10T12:50:20.347443+00:00"
        }
      },
      "execution_count": null,
      "source": "import matplotlib.pyplot as plt\n\n# Creating a contingency table for Tigecyclin resistance profile across different geographical locations\ncontingency_table_tigecyclin_new = chi_square_data.groupby('Location')['Tigecyclin 15'].value_counts(normalize=True).unstack().fillna(0) * 100\n\n# Define colors for 'R' and 'S'\ncolors = {'R': 'coral', 'S': 'lightblue'}\n\n# Plotting the bar graph for Tigecyclin resistance profile across different geographical locations (without title)\nplt.figure(figsize=(12, 6))\ncontingency_table_tigecyclin_new.plot(kind='bar', stacked=True, color=[colors[column] for column in contingency_table_tigecyclin_new.columns])\nplt.ylabel('Percentage')\nplt.legend(loc='upper right')\nplt.title('')\nplt.tight_layout()\nplt.show()\n",
      "outputs": []
    },
    {
      "id": "17d235ff-aca6-4ac5-b14f-11d02623398a",
      "cell_type": "code",
      "metadata": {
        "noteable": {
          "cell_type": "code",
          "output_collection_id": "e0317675-e57e-4d1a-ac75-7796e92f6430"
        },
        "ExecuteTime": {
          "end_time": "2023-08-10T12:51:04.686097+00:00",
          "start_time": "2023-08-10T12:51:04.382352+00:00"
        },
        "datalink": {
          "37452de6-424e-40a0-b507-ef560fb2cb9b": {
            "applied_filters": [],
            "dataframe_info": {
              "default_index_used": true,
              "orig_num_cols": 17,
              "orig_num_rows": 5,
              "orig_size_bytes": 720,
              "truncated_num_cols": 17,
              "truncated_num_rows": 5,
              "truncated_size_bytes": 720,
              "truncated_string_columns": []
            },
            "display_id": "37452de6-424e-40a0-b507-ef560fb2cb9b",
            "dx_settings": {
              "ALLOW_NOTEABLE_ATTRS": true,
              "COLUMN_SAMPLING_METHOD": "outer",
              "DB_LOCATION": ":memory:",
              "DEV_MODE": false,
              "DISPLAY_MAX_COLUMNS": 100,
              "DISPLAY_MAX_ROWS": 50000,
              "DISPLAY_MODE": "simple",
              "ENABLE_ASSIGNMENT": true,
              "ENABLE_DATALINK": true,
              "FLATTEN_COLUMN_VALUES": true,
              "FLATTEN_INDEX_VALUES": false,
              "GENERATE_DEX_METADATA": false,
              "HTML_TABLE_SCHEMA": false,
              "LOG_LEVEL": 30,
              "MAX_RENDER_SIZE_BYTES": 104857600,
              "MAX_STRING_LENGTH": 250,
              "NUM_PAST_SAMPLES_TRACKED": 3,
              "RANDOM_STATE": 12648430,
              "RESET_INDEX_VALUES": false,
              "ROW_SAMPLING_METHOD": "random",
              "SAMPLING_FACTOR": 0.1,
              "SAMPLING_METHOD": "random",
              "STRINGIFY_COLUMN_VALUES": true,
              "STRINGIFY_INDEX_VALUES": false
            },
            "sample_history": [],
            "sampling_time": "2023-08-10T09:17:35.866613",
            "user_variable_name": null,
            "variable_name": "unk_dataframe_3eabac6e223c4d49b505969f6db2a967"
          },
          "2516031f-d19b-4bfd-b3ef-40d363d9534e": {
            "applied_filters": [],
            "dataframe_info": {
              "default_index_used": true,
              "orig_num_cols": 17,
              "orig_num_rows": 5,
              "orig_size_bytes": 720,
              "truncated_num_cols": 17,
              "truncated_num_rows": 5,
              "truncated_size_bytes": 720,
              "truncated_string_columns": []
            },
            "display_id": "2516031f-d19b-4bfd-b3ef-40d363d9534e",
            "dx_settings": {
              "ALLOW_NOTEABLE_ATTRS": true,
              "COLUMN_SAMPLING_METHOD": "outer",
              "DB_LOCATION": ":memory:",
              "DEV_MODE": false,
              "DISPLAY_MAX_COLUMNS": 100,
              "DISPLAY_MAX_ROWS": 50000,
              "DISPLAY_MODE": "simple",
              "ENABLE_ASSIGNMENT": true,
              "ENABLE_DATALINK": true,
              "FLATTEN_COLUMN_VALUES": true,
              "FLATTEN_INDEX_VALUES": false,
              "GENERATE_DEX_METADATA": false,
              "HTML_TABLE_SCHEMA": false,
              "LOG_LEVEL": 30,
              "MAX_RENDER_SIZE_BYTES": 104857600,
              "MAX_STRING_LENGTH": 250,
              "NUM_PAST_SAMPLES_TRACKED": 3,
              "RANDOM_STATE": 12648430,
              "RESET_INDEX_VALUES": false,
              "ROW_SAMPLING_METHOD": "random",
              "SAMPLING_FACTOR": 0.1,
              "SAMPLING_METHOD": "random",
              "STRINGIFY_COLUMN_VALUES": true,
              "STRINGIFY_INDEX_VALUES": false
            },
            "sample_history": [],
            "sampling_time": "2023-08-10T12:51:04.526605",
            "user_variable_name": null,
            "variable_name": "unk_dataframe_6f5f8351d8c84d6b90a122fdcdceaace"
          }
        }
      },
      "execution_count": null,
      "source": "# Loading the updated dataset for correlation analysis\ncorrelation_data_path = '12 Abs SIR with metadata 1-85 updated.csv'\ncorrelation_data = pd.read_csv(correlation_data_path)\n\n# Displaying the first few rows of the dataset\ncorrelation_data.head()",
      "outputs": []
    },
    {
      "id": "acfc2166-fdc8-414e-a34b-a09dd332c9a0",
      "cell_type": "code",
      "metadata": {
        "noteable": {
          "cell_type": "code",
          "output_collection_id": "6c7c93c5-0ceb-410f-add1-e09932118fab"
        },
        "ExecuteTime": {
          "end_time": "2023-08-10T12:51:08.859852+00:00",
          "start_time": "2023-08-10T12:51:08.662490+00:00"
        }
      },
      "execution_count": null,
      "source": "# Mapping resistance profile to numerical values (R=2, I=1, S=0)\nresistance_mapping = {'R': 2, 'I': 1, 'S': 0}\nantibiotics_columns = correlation_data.columns[6:]\n\n# Excluding Amikacin if all outcomes are 'S'\nif correlation_data['Amikacin 30'].nunique() == 1 and correlation_data['Amikacin 30'].iloc[0] == 'S':\n    antibiotics_columns = antibiotics_columns.drop('Amikacin 30')\n\n# Applying the mapping to the antibiotics columns\nfor col in antibiotics_columns:\n    correlation_data[col] = correlation_data[col].map(resistance_mapping)\n\n# Calculating the correlation matrix\ncorrelation_matrix = correlation_data[antibiotics_columns].corr()\n\n# Plotting the correlation heatmap\nplt.figure(figsize=(12, 10))\nsns.heatmap(correlation_matrix, annot=True, cmap='coolwarm', linewidths=.5)\nplt.title('Correlation Heatmap for Antibiotics Resistance')\nplt.show()",
      "outputs": []
    },
    {
      "id": "393e5860-2b13-482a-8123-752812e1d431",
      "cell_type": "code",
      "metadata": {
        "noteable": {
          "cell_type": "code",
          "output_collection_id": "0f2b3f73-784e-429e-8c13-3e211d2acfe9"
        },
        "ExecuteTime": {
          "end_time": "2023-08-10T12:51:14.472647+00:00",
          "start_time": "2023-08-10T12:51:14.265706+00:00"
        }
      },
      "execution_count": null,
      "source": "# Excluding Amikacin if all outcomes are 'S'\nif correlation_data['Amikacin 30'].nunique() == 1 and correlation_data['Amikacin 30'].iloc[0] == 'S':\n    antibiotics_columns = [col for col in antibiotics_columns if col != 'Amikacin 30']\n\n# Applying the mapping to the antibiotics columns\nfor col in antibiotics_columns:\n    correlation_data[col] = correlation_data[col].map(resistance_mapping)\n\n# Calculating the correlation matrix\ncorrelation_matrix = correlation_data[antibiotics_columns].corr()\n\n# Plotting the correlation heatmap\nplt.figure(figsize=(12, 10))\nsns.heatmap(correlation_matrix, annot=True, cmap='coolwarm', linewidths=.5)\nplt.title('Correlation Heatmap for Antibiotics Resistance')\nplt.show()",
      "outputs": []
    },
    {
      "id": "44321244-acaa-4bbd-ba99-bf16277134ce",
      "cell_type": "code",
      "metadata": {
        "noteable": {
          "cell_type": "code",
          "output_collection_id": "bb0417f5-9d62-48bc-a3b8-ada95ed37318"
        },
        "ExecuteTime": {
          "end_time": "2023-08-10T12:51:18.029312+00:00",
          "start_time": "2023-08-10T12:51:17.009971+00:00"
        }
      },
      "execution_count": null,
      "source": "# Importing Seaborn library\nimport seaborn as sns\n\n# Plotting the correlation heatmap\nplt.figure(figsize=(12, 10))\nsns.heatmap(correlation_matrix, annot=True, cmap='coolwarm', linewidths=.5)\nplt.title('Correlation Heatmap for Antibiotics Resistance')\nplt.show()",
      "outputs": []
    },
    {
      "id": "35faf02f-ff93-427e-abc9-62c5e2bdd64b",
      "cell_type": "code",
      "metadata": {
        "noteable": {
          "cell_type": "code",
          "output_collection_id": "0ce910f3-d060-4493-a244-f61d6fa5e27d"
        },
        "ExecuteTime": {
          "end_time": "2023-08-10T12:51:24.343524+00:00",
          "start_time": "2023-08-10T12:51:23.956843+00:00"
        }
      },
      "execution_count": null,
      "source": "from scipy.stats import pearsonr\n\n# Function to calculate p-value for each correlation\ndef calculate_pvalues(df):\n    pvalues = df.apply(lambda x: [pearsonr(x, df[col])[1] for col in df.columns])\n    return pd.DataFrame(pvalues, columns=df.columns, index=df.index)\n\n# Calculating p-values for the correlation matrix\np_values_matrix = calculate_pvalues(correlation_data[antibiotics_columns])\n\n# Significance level for highlighting\nsignificance_level = 0.05\n\n# Creating a mask for significant correlations\nsignificant_mask = p_values_matrix < significance_level\n\n# Plotting the correlation heatmap with significant correlations highlighted\nplt.figure(figsize=(12, 10))\nsns.heatmap(correlation_matrix, annot=True, cmap='coolwarm', linewidths=.5, mask=~significant_mask)\nplt.title('Correlation Heatmap for Antibiotics Resistance (Significant Correlations Highlighted)')\nplt.show()",
      "outputs": []
    },
    {
      "id": "a7a7fb41-2a16-4645-a7e0-64846fa5e49a",
      "cell_type": "code",
      "metadata": {
        "noteable": {
          "cell_type": "code",
          "output_collection_id": "102a6513-0b71-4174-b8e9-9eb64ab4308f"
        },
        "ExecuteTime": {
          "end_time": "2023-08-10T12:51:28.646736+00:00",
          "start_time": "2023-08-10T12:51:27.752279+00:00"
        }
      },
      "execution_count": null,
      "source": "# Function to calculate p-value for each correlation (ensuring alignment with correlation matrix)\ndef calculate_pvalues_aligned(df):\n    pvalues = pd.DataFrame(index=df.columns, columns=df.columns)\n    for col1 in df.columns:\n        for col2 in df.columns:\n            pvalues[col1][col2] = pearsonr(df[col1], df[col2])[1]\n    return pvalues\n\n# Calculating p-values for the correlation matrix (aligned)\np_values_matrix_aligned = calculate_pvalues_aligned(correlation_data[antibiotics_columns])\n\n# Creating a mask for significant correlations (aligned)\nsignificant_mask_aligned = p_values_matrix_aligned < significance_level\n\n# Plotting the correlation heatmap with significant correlations highlighted (aligned)\nplt.figure(figsize=(12, 10))\nsns.heatmap(correlation_matrix, annot=True, cmap='coolwarm', linewidths=.5, mask=~significant_mask_aligned)\nplt.title('Correlation Heatmap for Antibiotics Resistance (Significant Correlations Highlighted)')\nplt.show()",
      "outputs": []
    },
    {
      "id": "691bb271-fd60-4152-aea1-aa5843a9afd4",
      "cell_type": "code",
      "metadata": {
        "noteable": {
          "cell_type": "code",
          "output_collection_id": "02b0d202-bc39-4151-ab0a-e55296f87907"
        },
        "ExecuteTime": {
          "end_time": "2023-08-10T12:51:35.621055+00:00",
          "start_time": "2023-08-10T12:51:33.596070+00:00"
        }
      },
      "execution_count": null,
      "source": "from scipy.stats import chi2_contingency\nimport numpy as np\n\n# Function to calculate Cramer's V for a given contingency table\ndef cramers_v(contingency_table):\n    chi2, _, _, _ = chi2_contingency(contingency_table)\n    n = contingency_table.sum().sum()\n    phi2 = chi2 / n\n    r, k = contingency_table.shape\n    phi2_corr = max(0, phi2 - ((k - 1) * (r - 1)) / (n - 1))\n    r_corr = r - ((r - 1) ** 2) / (n - 1)\n    k_corr = k - ((k - 1) ** 2) / (n - 1)\n    return np.sqrt(phi2_corr / min((k_corr - 1), (r_corr - 1)))\n\n# Calculating Cramer's V for each pair of antibiotics\ncramers_v_matrix = pd.DataFrame(index=antibiotics_columns, columns=antibiotics_columns)\nfor col1 in antibiotics_columns:\n    for col2 in antibiotics_columns:\n        contingency_table = pd.crosstab(correlation_data[col1], correlation_data[col2])\n        cramers_v_matrix[col1][col2] = cramers_v(contingency_table)\n\n# Plotting the Cramer's V heatmap\nplt.figure(figsize=(12, 10))\nsns.heatmap(cramers_v_matrix.astype(float), annot=True, cmap='coolwarm', linewidths=.5)\nplt.title('Cramer\\'s V Heatmap for Antibiotics Resistance')\nplt.show()",
      "outputs": []
    },
    {
      "id": "32b43a68-c8c7-4d3e-bccd-06f461e4e22c",
      "cell_type": "code",
      "metadata": {
        "noteable": {
          "cell_type": "code",
          "output_collection_id": "93910eb7-53fe-4737-947f-f267088ae4f0"
        },
        "ExecuteTime": {
          "end_time": "2023-08-10T12:51:42.042815+00:00",
          "start_time": "2023-08-10T12:51:41.084876+00:00"
        }
      },
      "execution_count": null,
      "source": "# Setting the diagonal values to 1 (perfect association for the same antibiotic)\nnp.fill_diagonal(cramers_v_matrix.values, 1)\n\n# Plotting the corrected Cramer's V heatmap\nplt.figure(figsize=(12, 10))\nsns.heatmap(cramers_v_matrix.astype(float), annot=True, cmap='coolwarm', linewidths=.5)\nplt.title('Cramer\\'s V Heatmap for Antibiotics Resistance')\nplt.show()",
      "outputs": []
    },
    {
      "id": "7eebeafc-d1da-498f-94cb-df4f21a8b0b1",
      "cell_type": "code",
      "metadata": {
        "noteable": {
          "cell_type": "code",
          "output_collection_id": "71927675-f67a-4a8a-b64d-2482d4b8480a"
        },
        "ExecuteTime": {
          "end_time": "2023-08-10T12:51:54.299942+00:00",
          "start_time": "2023-08-10T12:51:52.460165+00:00"
        }
      },
      "execution_count": null,
      "source": "# Function to calculate p-values for Cramer's V (aligned with Cramer's V matrix)\ndef calculate_pvalues_cramers_v(df):\n    pvalues = pd.DataFrame(index=df.columns, columns=df.columns)\n    for col1 in df.columns:\n        for col2 in df.columns:\n            contingency_table = pd.crosstab(correlation_data[col1], correlation_data[col2])\n            pvalues[col1][col2] = chi2_contingency(contingency_table)[1]\n    return pvalues\n\n# Calculating p-values for the Cramer's V matrix (aligned)\np_values_matrix_cramers_v = calculate_pvalues_cramers_v(correlation_data[antibiotics_columns])\n\n# Creating a mask for significant correlations (aligned with Cramer's V)\nsignificant_mask_cramers_v = p_values_matrix_cramers_v < significance_level\n\n# Setting diagonal values to True (since they are always significant)\nnp.fill_diagonal(significant_mask_cramers_v.values, True)\n\n# Plotting the Cramer's V heatmap with significant correlations highlighted (aligned)\nplt.figure(figsize=(12, 10))\nsns.heatmap(cramers_v_matrix.astype(float), annot=True, cmap='coolwarm', linewidths=.5, mask=~significant_mask_cramers_v)\nplt.title('Cramer\\'s V Heatmap for Antibiotics Resistance (Significant Correlations Highlighted)')\nplt.show()",
      "outputs": []
    },
    {
      "id": "e0f9ef3d-ece8-49d2-810e-ec2e110eeaa2",
      "cell_type": "code",
      "metadata": {
        "noteable": {
          "cell_type": "code",
          "output_collection_id": "c667a346-37ae-4421-b448-19bf591c8264"
        },
        "ExecuteTime": {
          "end_time": "2023-08-10T12:52:00.058413+00:00",
          "start_time": "2023-08-10T12:51:59.328729+00:00"
        }
      },
      "execution_count": null,
      "source": "# Creating a new matrix that contains only the significant Cramer's V values (non-significant values set to NaN)\nsignificant_cramers_v_matrix = cramers_v_matrix.where(significant_mask_cramers_v)\n\n# Plotting the heatmap with only significant Cramer's V values\nplt.figure(figsize=(12, 10))\nsns.heatmap(significant_cramers_v_matrix.astype(float), annot=True, cmap='coolwarm', linewidths=.5, cbar=False)\nplt.title('Cramer\\'s V Heatmap for Antibiotics Resistance (Only Significant Correlations)')\nplt.show()",
      "outputs": []
    }
  ]
}