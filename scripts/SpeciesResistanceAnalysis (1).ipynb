{
  "nbformat": 4,
  "nbformat_minor": 5,
  "metadata": {
    "noteable-chatgpt": {
      "create_notebook": {
        "openai_conversation_id": "5344d29c-39e9-5074-8371-a6007ecf96b1",
        "openai_ephemeral_user_id": "3c4c348e-ef48-50f5-a162-61fe1bc645e6",
        "openai_subdivision1_iso_code": "ZA-GP"
      }
    },
    "kernel_info": {
      "name": "python3"
    },
    "noteable": {
      "last_transaction_id": "824682b1-af0c-42c4-abfa-550d782e8157"
    },
    "kernelspec": {
      "display_name": "Python 3.9",
      "language": "python",
      "name": "python3"
    },
    "selected_hardware_size": "small"
  },
  "cells": [
    {
      "id": "2f584f0a-bbd3-4495-a8e1-718734c0214d",
      "cell_type": "code",
      "metadata": {
        "noteable": {
          "cell_type": "code",
          "output_collection_id": "2259a10e-a9d9-4ac9-8048-d5f503c28fa8"
        },
        "ExecuteTime": {
          "end_time": "2023-07-24T12:21:24.188314+00:00",
          "start_time": "2023-07-24T12:21:23.193408+00:00"
        },
        "datalink": {
          "c638c35f-8ab2-44f0-9924-fa64c44c53e4": {
            "applied_filters": [],
            "dataframe_info": {
              "default_index_used": false,
              "orig_num_cols": 7,
              "orig_num_rows": 5,
              "orig_size_bytes": 320,
              "truncated_num_cols": 7,
              "truncated_num_rows": 5,
              "truncated_size_bytes": 320,
              "truncated_string_columns": []
            },
            "display_id": "c638c35f-8ab2-44f0-9924-fa64c44c53e4",
            "dx_settings": {
              "ALLOW_NOTEABLE_ATTRS": true,
              "COLUMN_SAMPLING_METHOD": "outer",
              "DB_LOCATION": ":memory:",
              "DEV_MODE": false,
              "DISPLAY_MAX_COLUMNS": 100,
              "DISPLAY_MAX_ROWS": 50000,
              "DISPLAY_MODE": "simple",
              "ENABLE_ASSIGNMENT": true,
              "ENABLE_DATALINK": true,
              "FLATTEN_COLUMN_VALUES": true,
              "FLATTEN_INDEX_VALUES": false,
              "GENERATE_DEX_METADATA": false,
              "HTML_TABLE_SCHEMA": false,
              "LOG_LEVEL": 30,
              "MAX_RENDER_SIZE_BYTES": 104857600,
              "MAX_STRING_LENGTH": 250,
              "NUM_PAST_SAMPLES_TRACKED": 3,
              "RANDOM_STATE": 12648430,
              "RESET_INDEX_VALUES": false,
              "ROW_SAMPLING_METHOD": "random",
              "SAMPLING_FACTOR": 0.1,
              "SAMPLING_METHOD": "random",
              "STRINGIFY_COLUMN_VALUES": true,
              "STRINGIFY_INDEX_VALUES": false
            },
            "sample_history": [],
            "sampling_time": "2023-07-24T12:21:24.029139",
            "user_variable_name": null,
            "variable_name": "unk_dataframe_749db875f4e04413869e4fc72aa99a07"
          }
        }
      },
      "execution_count": null,
      "source": "import pandas as pd\nimport numpy as np\nimport matplotlib.pyplot as plt\nimport seaborn as sns\nfrom scipy.stats import chi2_contingency\nfrom io import StringIO\n\n# Load the data\ndata = '''\nStrain Number ,,Amikacin 30,Ampicllin 10 ,Cefiderocol 30,Ciprofloxacin 5,Imipenem 10,Tigecyclin 15\n36,E. kobei,S,R,R,S,S,S\n37,Phytobacter,S,S,S,S,S,S\n38,E. kobei,S,R,S,S,S,S\n39,Kosakonia,S,S,S,S,S,S\n40,E. ludwigii,S,R,R,S,S,S\n41,E. kobei,S,R,S,S,S,S\n42,E. ludwigii,S,R,S,S,I,S\n43,E. kobei,S,R,S,S,R,S\n44,Kosakonia,S,R,S,S,I,S\n45,E. ludwigii,S,R,R,S,I,S\n46,E. ludwigii,S,R,R,S,R,S\n47,E. ludwigii,S,R,R,S,S,S\n48,E. mori,S,S,S,S,I,S\n49,E. mori,S,S,R,S,I,S\n50,E. ludwigii,S,R,R,S,S,S\n51,E. mori,S,R,S,S,S,S\n52,E. hormaechei subsp. steigerwaltii,S,R,S,S,S,S\n53,E. bugandensis,S,R,R,S,I,S\n54,E. hormaechei subsp. steigerwaltii,S,R,S,S,S,S\n55,E. bugandensis,S,S,S,S,S,S\n56,E. ludwigii,S,R,S,S,S,S\n57,E. ludwigii,S,R,S,S,S,S\n58,E. ludwigii,S,R,R,S,S,S\n59,E. roggenkampiiÿ,S,R,S,S,I,S\n60,E. roggenkampiiÿ,S,R,S,S,I,S\n61,E. ludwigii,S,R,S,S,I,S\n62,E. asburiae,S,R,S,S,R,S\n63,E. ludwigii,S,R,S,S,S,S\n64,E. ludwigii,S,R,R,S,I,S\n65,E. mori,S,R,R,S,R,S\n66,E. wuhouensis,S,R,S,S,I,S\n67,E. asburiae,S,R,S,S,I,S\n68,E. roggenkampiiÿ,S,R,S,S,S,S\n69,E. ludwigii,S,R,R,S,I,S\n70,E. mori,S,S,R,S,I,S\n71,E. ludwigii,S,R,R,S,S,S\n72,E. mori,S,S,S,S,R,S\n73,E. ludwigii,S,R,R,S,R,R\n74,E. ludwigii,S,R,R,S,R,S\n75,E. ludwigii,S,R,R,S,S,S\n76,E. ludwigii,S,R,R,S,R,S\n77,E. ludwigii,S,R,R,S,R,S\n78,E. kobei,S,R,R,S,I,S\n79,E. bugandensis,S,R,R,I,S,R\n80,E. asburiae,S,R,R,S,R,S\n81,E. ludwigii,S,R,R,S,I,S\n82,E. ludwigii,S,R,R,S,R,R\n83,E. cloacae,S,R,R,S,R,R\n84,E. cancerogenus,S,S,S,S,I,S\n85,E. hormaechei,S,R,S,S,I,R\n'''\n\n# Read the data into a pandas DataFrame\ndata = StringIO(data)\ndf = pd.read_csv(data, index_col=0)\n\n# Display the first few rows of the DataFrame\ndf.head()",
      "outputs": []
    },
    {
      "id": "9a826bd7-e7bd-49ac-90d6-d85f5b8a7bce",
      "cell_type": "code",
      "metadata": {
        "noteable": {
          "cell_type": "code",
          "output_collection_id": "d1e0add1-e7eb-4653-a292-cf041009d075"
        },
        "ExecuteTime": {
          "end_time": "2023-07-24T12:21:45.964622+00:00",
          "start_time": "2023-07-24T12:21:45.740619+00:00"
        },
        "datalink": {
          "fb5ae347-9f7e-4390-923b-c368196e7dc0": {
            "applied_filters": [],
            "dataframe_info": {
              "default_index_used": false,
              "orig_num_cols": 7,
              "orig_num_rows": 5,
              "orig_size_bytes": 320,
              "truncated_num_cols": 7,
              "truncated_num_rows": 5,
              "truncated_size_bytes": 320,
              "truncated_string_columns": []
            },
            "display_id": "fb5ae347-9f7e-4390-923b-c368196e7dc0",
            "dx_settings": {
              "ALLOW_NOTEABLE_ATTRS": true,
              "COLUMN_SAMPLING_METHOD": "outer",
              "DB_LOCATION": ":memory:",
              "DEV_MODE": false,
              "DISPLAY_MAX_COLUMNS": 100,
              "DISPLAY_MAX_ROWS": 50000,
              "DISPLAY_MODE": "simple",
              "ENABLE_ASSIGNMENT": true,
              "ENABLE_DATALINK": true,
              "FLATTEN_COLUMN_VALUES": true,
              "FLATTEN_INDEX_VALUES": false,
              "GENERATE_DEX_METADATA": false,
              "HTML_TABLE_SCHEMA": false,
              "LOG_LEVEL": 30,
              "MAX_RENDER_SIZE_BYTES": 104857600,
              "MAX_STRING_LENGTH": 250,
              "NUM_PAST_SAMPLES_TRACKED": 3,
              "RANDOM_STATE": 12648430,
              "RESET_INDEX_VALUES": false,
              "ROW_SAMPLING_METHOD": "random",
              "SAMPLING_FACTOR": 0.1,
              "SAMPLING_METHOD": "random",
              "STRINGIFY_COLUMN_VALUES": true,
              "STRINGIFY_INDEX_VALUES": false
            },
            "sample_history": [],
            "sampling_time": "2023-07-24T12:21:45.805579",
            "user_variable_name": null,
            "variable_name": "unk_dataframe_d678feab069b4a678af3223727e2d431"
          }
        }
      },
      "execution_count": null,
      "source": "# Rename the columns for clarity\ndf.columns = ['Species', 'Amikacin', 'Ampicillin', 'Cefiderocol', 'Ciprofloxacin', 'Imipenem', 'Tigecycline']\n\n# Convert the resistance profiles to numerical values for easier analysis\nresistance_mapping = {'S': 0, 'I': 1, 'R': 2}\nfor col in ['Amikacin', 'Ampicillin', 'Cefiderocol', 'Ciprofloxacin', 'Imipenem', 'Tigecycline']:\n    df[col] = df[col].map(resistance_mapping)\n\n# Display the updated DataFrame\ndf.head()",
      "outputs": []
    },
    {
      "id": "a371b2a0-7dd1-49a1-bb20-60aa1316af0c",
      "cell_type": "code",
      "metadata": {
        "noteable": {
          "cell_type": "code",
          "output_collection_id": "c77dfbf1-bb6f-4890-ac4e-77fa0a899a33"
        },
        "ExecuteTime": {
          "end_time": "2023-07-24T12:22:15.814639+00:00",
          "start_time": "2023-07-24T12:22:13.179298+00:00"
        }
      },
      "execution_count": null,
      "source": "# Let's visualize the distribution of resistance profiles for each antibiotic\nfig, axs = plt.subplots(2, 3, figsize=(15, 10))\n\nantibiotics = ['Amikacin', 'Ampicillin', 'Cefiderocol', 'Ciprofloxacin', 'Imipenem', 'Tigecycline']\nfor ax, antibiotic in zip(axs.flatten(), antibiotics):\n    sns.countplot(x=antibiotic, data=df, ax=ax)\n    ax.set_title(f'Resistance profile for {antibiotic}')\n    ax.set_xticklabels(['Susceptible', 'Intermediate', 'Resistant'])\n\nplt.tight_layout()\nplt.show()",
      "outputs": []
    },
    {
      "id": "e47f674e-d299-4e37-8730-f4a88d9c0a84",
      "cell_type": "code",
      "metadata": {
        "noteable": {
          "cell_type": "code",
          "output_collection_id": "177a51c5-01c1-43f6-aac8-3d85f2aa81df"
        },
        "ExecuteTime": {
          "end_time": "2023-07-24T12:22:54.363331+00:00",
          "start_time": "2023-07-24T12:22:53.043550+00:00"
        }
      },
      "execution_count": null,
      "source": "# Let's visualize the distribution of resistance profiles for each antibiotic\nfig, axs = plt.subplots(2, 3, figsize=(15, 10))\n\nantibiotics = ['Amikacin', 'Ampicillin', 'Cefiderocol', 'Ciprofloxacin', 'Imipenem', 'Tigecycline']\nfor ax, antibiotic in zip(axs.flatten(), antibiotics):\n    sns.countplot(x=antibiotic, data=df, ax=ax)\n    ax.set_title(f'Resistance profile for {antibiotic}')\n    if len(df[antibiotic].unique()) == 3:\n        ax.set_xticklabels(['Susceptible', 'Intermediate', 'Resistant'])\n    else:\n        ax.set_xticklabels(['Susceptible', 'Resistant'])\n\nplt.tight_layout()\nplt.show()",
      "outputs": []
    },
    {
      "id": "9f3e4eca-5c2c-4874-854b-f8b582ca9d57",
      "cell_type": "code",
      "metadata": {
        "noteable": {
          "cell_type": "code",
          "output_collection_id": "63d7ea66-e9df-4c95-b545-107bd11c22b3"
        },
        "ExecuteTime": {
          "end_time": "2023-07-24T12:23:26.443348+00:00",
          "start_time": "2023-07-24T12:23:24.989625+00:00"
        }
      },
      "execution_count": null,
      "source": "# Let's visualize the distribution of resistance profiles for each antibiotic\nfig, axs = plt.subplots(2, 3, figsize=(15, 10))\n\nantibiotics = ['Amikacin', 'Ampicillin', 'Cefiderocol', 'Ciprofloxacin', 'Imipenem', 'Tigecycline']\nfor ax, antibiotic in zip(axs.flatten(), antibiotics):\n    sns.countplot(x=antibiotic, data=df, ax=ax)\n    ax.set_title(f'Resistance profile for {antibiotic}')\n    if len(df[antibiotic].unique()) == 3:\n        ax.set_xticklabels(['Susceptible', 'Intermediate', 'Resistant'])\n    elif len(df[antibiotic].unique()) == 2:\n        ax.set_xticklabels(['Susceptible', 'Resistant'])\n    else:\n        ax.set_xticklabels(['Susceptible'])\n\nplt.tight_layout()\nplt.show()",
      "outputs": []
    },
    {
      "id": "de8961a1-a436-46ef-95e0-9d49bd5b22cb",
      "cell_type": "code",
      "metadata": {
        "noteable": {
          "cell_type": "code",
          "output_collection_id": "197b96e3-40af-4c84-837a-20b844591066"
        },
        "ExecuteTime": {
          "end_time": "2023-07-24T12:24:10.197937+00:00",
          "start_time": "2023-07-24T12:24:09.981644+00:00"
        }
      },
      "execution_count": null,
      "source": "# Perform a Chi-square test of independence for each antibiotic\nresults = {}\nfor antibiotic in antibiotics:\n    contingency_table = pd.crosstab(df['Species'], df[antibiotic])\n    chi2, p, dof, expected = chi2_contingency(contingency_table)\n    results[antibiotic] = p\n\nresults",
      "outputs": []
    },
    {
      "id": "04ebd4e3-6231-492e-b831-54b2a52f0105",
      "cell_type": "code",
      "metadata": {
        "noteable": {
          "cell_type": "code",
          "output_collection_id": "3b3d7cfe-abe1-49d3-bd96-1bf7375101c3"
        },
        "ExecuteTime": {
          "end_time": "2023-07-24T12:24:54.839193+00:00",
          "start_time": "2023-07-24T12:24:53.538099+00:00"
        }
      },
      "execution_count": null,
      "source": "# Visualize the contingency tables for Ampicillin and Tigecycline\nfor antibiotic in ['Ampicillin', 'Tigecycline']:\n    contingency_table = pd.crosstab(df['Species'], df[antibiotic])\n    plt.figure(figsize=(10, 8))\n    sns.heatmap(contingency_table, annot=True, cmap='YlGnBu', fmt='d')\n    plt.title(f'Contingency table for {antibiotic}')\n    plt.xlabel('Resistance Profile')\n    plt.ylabel('Species')\n    plt.show()",
      "outputs": []
    },
    {
      "id": "8d2a6132-0013-47c1-aec1-2f6bb96c10bc",
      "cell_type": "code",
      "metadata": {
        "noteable": {
          "cell_type": "code",
          "output_collection_id": "f435ff0a-a05d-4a1c-9df6-2cf560122576"
        },
        "ExecuteTime": {
          "end_time": "2023-07-28T11:16:29.127931+00:00",
          "start_time": "2023-07-28T11:16:28.563686+00:00"
        }
      },
      "execution_count": null,
      "source": "# Let's visualize the p-values\nfig, ax = plt.subplots(figsize=(10, 5))\n\n# Convert the results to a DataFrame for easier plotting\nresults_df = pd.DataFrame(list(results.items()), columns=['Antibiotic', 'p-value'])\n\n# Plot the p-values\nsns.barplot(x='Antibiotic', y='p-value', data=results_df, ax=ax)\nax.axhline(0.05, ls='--', color='blue')  # significance level\nax.set_title('P-values from Chi-square tests of independence')\nplt.show()",
      "outputs": []
    },
    {
      "id": "f53891b8-d27b-4c5e-a140-aa96d097c84a",
      "cell_type": "code",
      "metadata": {
        "noteable": {
          "cell_type": "code",
          "output_collection_id": "78d41c76-ac51-456a-b24d-a3858cefa4e9"
        },
        "ExecuteTime": {
          "end_time": "2023-07-24T12:31:55.325278+00:00",
          "start_time": "2023-07-24T12:31:55.095659+00:00"
        },
        "datalink": {
          "6be10cc6-4b20-4958-b8f1-6178b21b5806": {
            "applied_filters": [],
            "dataframe_info": {
              "default_index_used": false,
              "orig_num_cols": 7,
              "orig_num_rows": 13,
              "orig_size_bytes": 832,
              "truncated_num_cols": 7,
              "truncated_num_rows": 13,
              "truncated_size_bytes": 832,
              "truncated_string_columns": []
            },
            "display_id": "6be10cc6-4b20-4958-b8f1-6178b21b5806",
            "dx_settings": {
              "ALLOW_NOTEABLE_ATTRS": true,
              "COLUMN_SAMPLING_METHOD": "outer",
              "DB_LOCATION": ":memory:",
              "DEV_MODE": false,
              "DISPLAY_MAX_COLUMNS": 100,
              "DISPLAY_MAX_ROWS": 50000,
              "DISPLAY_MODE": "simple",
              "ENABLE_ASSIGNMENT": true,
              "ENABLE_DATALINK": true,
              "FLATTEN_COLUMN_VALUES": true,
              "FLATTEN_INDEX_VALUES": false,
              "GENERATE_DEX_METADATA": false,
              "HTML_TABLE_SCHEMA": false,
              "LOG_LEVEL": 30,
              "MAX_RENDER_SIZE_BYTES": 104857600,
              "MAX_STRING_LENGTH": 250,
              "NUM_PAST_SAMPLES_TRACKED": 3,
              "RANDOM_STATE": 12648430,
              "RESET_INDEX_VALUES": false,
              "ROW_SAMPLING_METHOD": "random",
              "SAMPLING_FACTOR": 0.1,
              "SAMPLING_METHOD": "random",
              "STRINGIFY_COLUMN_VALUES": true,
              "STRINGIFY_INDEX_VALUES": false
            },
            "sample_history": [],
            "sampling_time": "2023-07-24T12:31:55.166083",
            "user_variable_name": "resistance_incidence",
            "variable_name": "resistance_incidence"
          }
        }
      },
      "execution_count": null,
      "source": "# Calculate the incidence of resistance for each species\nresistance_incidence = df.groupby('Species').sum() / df.groupby('Species').count()\n\n# Calculate the average resistance incidence across all antibiotics for each species\nresistance_incidence['Average'] = resistance_incidence.mean(axis=1)\n\n# Sort the species by the average resistance incidence\nresistance_incidence = resistance_incidence.sort_values('Average', ascending=False)\n\n# Display the resistance incidence DataFrame\nresistance_incidence",
      "outputs": []
    },
    {
      "id": "d3035ed7-e3a6-4f68-8e4d-cf6c9ee24f2b",
      "cell_type": "code",
      "metadata": {
        "noteable": {
          "cell_type": "code",
          "output_collection_id": "1e0a0eb4-6d01-4e97-825b-38b46cb08225"
        },
        "ExecuteTime": {
          "end_time": "2023-07-24T12:32:14.969869+00:00",
          "start_time": "2023-07-24T12:32:14.392147+00:00"
        }
      },
      "execution_count": null,
      "source": "# Visualize the average resistance incidence for each species\nfig, ax = plt.subplots(figsize=(10, 5))\n\n# Plot the average resistance incidence\nsns.barplot(x='Average', y=resistance_incidence.index, data=resistance_incidence, ax=ax)\nax.set_title('Average Resistance Incidence for Each Species')\nplt.show()",
      "outputs": []
    },
    {
      "id": "2933076f-09a8-4977-a8c0-dae4213187f1",
      "cell_type": "code",
      "metadata": {
        "noteable": {
          "cell_type": "code",
          "output_collection_id": "ead3286c-9fc0-4136-a1d9-cd7bce03c290"
        },
        "ExecuteTime": {
          "end_time": "2023-07-24T12:32:50.455474+00:00",
          "start_time": "2023-07-24T12:32:49.994593+00:00"
        }
      },
      "execution_count": null,
      "source": "# Perform a Chi-square test of independence for each species\nresults_species = {}\nfor species in df['Species'].unique():\n    df_species = df[df['Species'] == species]\n    contingency_table = pd.crosstab(df_species['Species'], df_species.drop('Species', axis=1).apply(lambda x: ''.join(x.astype(str)), axis=1))\n    chi2, p, dof, expected = chi2_contingency(contingency_table)\n    results_species[species] = p\n\nresults_species",
      "outputs": []
    },
    {
      "id": "5272007a-9790-44b4-a06d-a450411da829",
      "cell_type": "code",
      "metadata": {
        "noteable": {
          "cell_type": "code",
          "output_collection_id": "3cd81ed0-abd3-417e-91e1-057073d413b7"
        },
        "ExecuteTime": {
          "end_time": "2023-07-24T12:33:35.530332+00:00",
          "start_time": "2023-07-24T12:33:34.941911+00:00"
        }
      },
      "execution_count": null,
      "source": "# Let's visualize the p-values\nfig, ax = plt.subplots(figsize=(10, 5))\n\n# Convert the results to a DataFrame for easier plotting\nresults_species_df = pd.DataFrame(list(results_species.items()), columns=['Species', 'p-value'])\n\n# Plot the p-values\nsns.barplot(x='p-value', y='Species', data=results_species_df, ax=ax)\nax.set_title('P-values from Chi-square tests of independence for each species')\nplt.show()",
      "outputs": []
    },
    {
      "id": "e6823a31-0de8-43ad-9f2b-e7d1ce8911bb",
      "cell_type": "code",
      "metadata": {
        "noteable": {
          "cell_type": "code",
          "output_collection_id": "0a3d6272-f410-4652-86e8-c0b6dceb5f9b"
        },
        "ExecuteTime": {
          "end_time": "2023-07-24T12:37:28.410470+00:00",
          "start_time": "2023-07-24T12:37:28.187288+00:00"
        },
        "datalink": {
          "d89cd63f-8af9-43a0-a87a-3670f269c4c3": {
            "applied_filters": [],
            "dataframe_info": {
              "default_index_used": false,
              "orig_num_cols": 7,
              "orig_num_rows": 13,
              "orig_size_bytes": 832,
              "truncated_num_cols": 7,
              "truncated_num_rows": 13,
              "truncated_size_bytes": 832,
              "truncated_string_columns": []
            },
            "display_id": "d89cd63f-8af9-43a0-a87a-3670f269c4c3",
            "dx_settings": {
              "ALLOW_NOTEABLE_ATTRS": true,
              "COLUMN_SAMPLING_METHOD": "outer",
              "DB_LOCATION": ":memory:",
              "DEV_MODE": false,
              "DISPLAY_MAX_COLUMNS": 100,
              "DISPLAY_MAX_ROWS": 50000,
              "DISPLAY_MODE": "simple",
              "ENABLE_ASSIGNMENT": true,
              "ENABLE_DATALINK": true,
              "FLATTEN_COLUMN_VALUES": true,
              "FLATTEN_INDEX_VALUES": false,
              "GENERATE_DEX_METADATA": false,
              "HTML_TABLE_SCHEMA": false,
              "LOG_LEVEL": 30,
              "MAX_RENDER_SIZE_BYTES": 104857600,
              "MAX_STRING_LENGTH": 250,
              "NUM_PAST_SAMPLES_TRACKED": 3,
              "RANDOM_STATE": 12648430,
              "RESET_INDEX_VALUES": false,
              "ROW_SAMPLING_METHOD": "random",
              "SAMPLING_FACTOR": 0.1,
              "SAMPLING_METHOD": "random",
              "STRINGIFY_COLUMN_VALUES": true,
              "STRINGIFY_INDEX_VALUES": false
            },
            "sample_history": [],
            "sampling_time": "2023-07-24T12:37:28.251206",
            "user_variable_name": "resistance_incidence",
            "variable_name": "resistance_incidence"
          }
        },
        "dx": {
          "dashboard": {
            "multiViews": []
          },
          "fieldMetadata": {},
          "updated": 1690364515102,
          "views": [
            {
              "annotationRules": [],
              "chart": {},
              "chartMode": "grid",
              "confoRules": [],
              "decoration": {
                "footer": "",
                "subtitle": "",
                "title": "Table"
              },
              "facets": [],
              "filterSettings": {
                "SHOW_FILTER_PANEL": true,
                "filters": []
              },
              "id": "first-view",
              "isDefault": true,
              "type": "public",
              "userID": ""
            },
            {
              "annotationRules": [],
              "chart": {
                "barProjection": "horizontal",
                "facets": [],
                "lineType": "line"
              },
              "chartMode": "bar",
              "confoRules": [],
              "decoration": {
                "footer": "",
                "subtitle": "",
                "title": "Bar Chart"
              },
              "facets": [],
              "filterSettings": {
                "SHOW_FILTER_PANEL": true,
                "filters": []
              },
              "id": "first-view",
              "isDefault": true,
              "isTransitory": true,
              "type": "public",
              "userID": ""
            }
          ]
        }
      },
      "execution_count": null,
      "source": "# Calculate the incidence of resistance for each species\nresistance_incidence = df.groupby('Species').sum() / df.groupby('Species').count()\n\n# Calculate the average resistance incidence across all antibiotics for each species\nresistance_incidence['Average'] = resistance_incidence.mean(axis=1)\n\n# Sort the species by the average resistance incidence\nresistance_incidence = resistance_incidence.sort_values('Average', ascending=False)\n\n# Display the resistance incidence DataFrame\nresistance_incidence",
      "outputs": []
    },
    {
      "id": "12cfe52a-8b45-4aa0-b682-abe00c41789c",
      "cell_type": "code",
      "metadata": {
        "noteable": {
          "cell_type": "code",
          "output_collection_id": "dde910de-7efc-41ce-a2da-d06349317439"
        },
        "ExecuteTime": {
          "end_time": "2023-07-24T12:37:46.147387+00:00",
          "start_time": "2023-07-24T12:37:45.584874+00:00"
        }
      },
      "execution_count": null,
      "source": "# Visualize the average resistance incidence for each species\nfig, ax = plt.subplots(figsize=(10, 5))\n\n# Plot the average resistance incidence\nsns.barplot(x='Average', y=resistance_incidence.index, data=resistance_incidence, ax=ax, palette='Greys')\nax.set_title('Average Resistance Incidence for Each Species')\nplt.show()",
      "outputs": []
    },
    {
      "id": "7d5142b6-97bd-4ad4-a897-396e7dcc876f",
      "cell_type": "code",
      "metadata": {
        "noteable": {
          "cell_type": "code",
          "output_collection_id": "90cfad8d-85ba-442e-8343-831c2b64e872"
        },
        "ExecuteTime": {
          "end_time": "2023-07-24T12:38:35.442079+00:00",
          "start_time": "2023-07-24T12:38:35.151860+00:00"
        }
      },
      "execution_count": null,
      "source": "# Perform a Chi-square test of independence for each species\nresults_species = {}\nfor species in df['Species'].unique():\n    df_species = df[df['Species'] == species]\n    contingency_table = pd.crosstab(df_species['Species'], df_species.drop('Species', axis=1).apply(lambda x: ''.join(x.astype(str)), axis=1))\n    chi2, p, dof, expected = chi2_contingency(contingency_table)\n    results_species[species] = p\n\nresults_species",
      "outputs": []
    },
    {
      "id": "aa3fe740-0dcb-4817-ab92-3b97fb91c463",
      "cell_type": "code",
      "metadata": {
        "noteable": {
          "cell_type": "code",
          "output_collection_id": "0e3e6d10-8ed8-4c73-9f34-0f81b38a502a"
        },
        "ExecuteTime": {
          "end_time": "2023-07-24T12:43:08.137410+00:00",
          "start_time": "2023-07-24T12:43:07.591888+00:00"
        }
      },
      "execution_count": null,
      "source": "# Let's visualize the p-values\nfig, ax = plt.subplots(figsize=(10, 5))\n\n# Convert the results to a DataFrame for easier plotting\nresults_species_df = pd.DataFrame(list(results_species.items()), columns=['Species', 'p-value'])\n\n# Plot the p-values\nsns.barplot(x='p-value', y='Species', data=results_species_df, ax=ax, palette='Blues')\nax.set_title('P-values from Chi-square tests of independence for each species')\nplt.show()",
      "outputs": []
    },
    {
      "id": "c63b023d-78eb-45e8-9726-aa4a47b10f73",
      "cell_type": "code",
      "metadata": {
        "noteable": {
          "cell_type": "code",
          "output_collection_id": "f9a173f1-9d1d-4d34-9677-5eefb5c2aec0"
        },
        "ExecuteTime": {
          "end_time": "2023-07-24T12:44:52.058430+00:00",
          "start_time": "2023-07-24T12:44:51.485553+00:00"
        }
      },
      "execution_count": null,
      "source": "# Visualize the average resistance incidence for each species\nfig, ax = plt.subplots(figsize=(10, 5))\n\n# Plot the average resistance incidence\nsns.barplot(x='Average', y=resistance_incidence.index, data=resistance_incidence, ax=ax, color='Blue')\nax.set_title('Average Resistance Incidence for Each Species')\nplt.show()",
      "outputs": []
    },
    {
      "id": "2124658d-bf5d-4c8a-8987-a020e6532e7f",
      "cell_type": "code",
      "metadata": {
        "noteable": {
          "cell_type": "code",
          "output_collection_id": "91b7f418-5ba6-4de5-a200-3c58f9c95b00"
        },
        "ExecuteTime": {
          "end_time": "2023-07-24T12:49:23.025762+00:00",
          "start_time": "2023-07-24T12:49:22.791834+00:00"
        },
        "datalink": {
          "77b294ad-1480-4a5d-b505-a91af5f258ca": {
            "applied_filters": [],
            "dataframe_info": {
              "default_index_used": false,
              "orig_num_cols": 7,
              "orig_num_rows": 13,
              "orig_size_bytes": 832,
              "truncated_num_cols": 7,
              "truncated_num_rows": 13,
              "truncated_size_bytes": 832,
              "truncated_string_columns": []
            },
            "display_id": "77b294ad-1480-4a5d-b505-a91af5f258ca",
            "dx_settings": {
              "ALLOW_NOTEABLE_ATTRS": true,
              "COLUMN_SAMPLING_METHOD": "outer",
              "DB_LOCATION": ":memory:",
              "DEV_MODE": false,
              "DISPLAY_MAX_COLUMNS": 100,
              "DISPLAY_MAX_ROWS": 50000,
              "DISPLAY_MODE": "simple",
              "ENABLE_ASSIGNMENT": true,
              "ENABLE_DATALINK": true,
              "FLATTEN_COLUMN_VALUES": true,
              "FLATTEN_INDEX_VALUES": false,
              "GENERATE_DEX_METADATA": false,
              "HTML_TABLE_SCHEMA": false,
              "LOG_LEVEL": 30,
              "MAX_RENDER_SIZE_BYTES": 104857600,
              "MAX_STRING_LENGTH": 250,
              "NUM_PAST_SAMPLES_TRACKED": 3,
              "RANDOM_STATE": 12648430,
              "RESET_INDEX_VALUES": false,
              "ROW_SAMPLING_METHOD": "random",
              "SAMPLING_FACTOR": 0.1,
              "SAMPLING_METHOD": "random",
              "STRINGIFY_COLUMN_VALUES": true,
              "STRINGIFY_INDEX_VALUES": false
            },
            "sample_history": [],
            "sampling_time": "2023-07-24T12:49:22.867946",
            "user_variable_name": "resistance_incidence",
            "variable_name": "resistance_incidence"
          }
        },
        "scrolled": false,
        "dx": {
          "dashboard": {
            "multiViews": []
          },
          "fieldMetadata": {},
          "updated": 1690365180611,
          "views": [
            {
              "annotationRules": [],
              "chart": {
                "facets": [],
                "textDataFormat": "token",
                "tokenMetric": "Average",
                "wordColor": "random",
                "wordData": "index",
                "wordRotate": "none"
              },
              "chartMode": "empty",
              "confoRules": [],
              "decoration": {
                "footer": "",
                "subtitle": "",
                "title": "New View"
              },
              "facets": [],
              "filterSettings": {
                "SHOW_FILTER_PANEL": true,
                "filters": []
              },
              "id": "cfce8892-caaa-49c5-8497-c2baf1f1a84d",
              "isDefault": false,
              "type": "public",
              "userID": ""
            },
            {
              "annotationRules": [],
              "chart": {
                "barProjection": "radial",
                "columnLine": false,
                "facets": [],
                "textDataFormat": "token",
                "tokenMetric": "Average",
                "wordColor": "random",
                "wordData": "index",
                "wordRotate": "none"
              },
              "chartMode": "dotplot",
              "confoRules": [],
              "decoration": {
                "footer": "",
                "subtitle": "",
                "title": "Radar Plot"
              },
              "facets": [],
              "filterSettings": {
                "SHOW_FILTER_PANEL": true,
                "filters": []
              },
              "id": "bfa40a37-1426-49f2-8a86-d27786236a43",
              "isComment": false,
              "isDefault": false,
              "isTransitory": false,
              "size": {
                "height": 391,
                "width": 391
              },
              "type": "public",
              "userID": ""
            },
            {
              "annotationRules": [],
              "chart": {
                "facets": [],
                "textDataFormat": "token",
                "tokenMetric": "Average",
                "wordColor": "random",
                "wordData": "index",
                "wordRotate": "none"
              },
              "chartMode": "empty",
              "confoRules": [],
              "decoration": {
                "footer": "",
                "subtitle": "",
                "title": "New View"
              },
              "facets": [],
              "filterSettings": {
                "SHOW_FILTER_PANEL": true,
                "filters": []
              },
              "id": "be59b38a-0229-412f-a1df-6e93110fa7a4",
              "isDefault": false,
              "type": "public",
              "userID": ""
            },
            {
              "annotationRules": [],
              "chart": {
                "facets": [],
                "textDataFormat": "token",
                "tokenMetric": "Average",
                "wordColor": "random",
                "wordData": "index",
                "wordRotate": "none"
              },
              "chartMode": "empty",
              "confoRules": [],
              "decoration": {
                "footer": "",
                "subtitle": "",
                "title": "New View"
              },
              "facets": [],
              "filterSettings": {
                "SHOW_FILTER_PANEL": true,
                "filters": []
              },
              "id": "f53e10c8-7980-4815-b9db-48a2485df291",
              "isDefault": false,
              "type": "public",
              "userID": ""
            },
            {
              "annotationRules": [],
              "chart": {
                "facets": [],
                "textDataFormat": "token",
                "tokenMetric": "Average",
                "wordColor": "random",
                "wordData": "index",
                "wordRotate": "none"
              },
              "chartMode": "empty",
              "confoRules": [],
              "decoration": {
                "footer": "",
                "subtitle": "",
                "title": "New View"
              },
              "facets": [],
              "filterSettings": {
                "SHOW_FILTER_PANEL": true,
                "filters": []
              },
              "id": "70718c46-8826-40b0-b763-ed4d9506a1e9",
              "isDefault": false,
              "type": "public",
              "userID": ""
            },
            {
              "annotationRules": [],
              "chart": {
                "facets": [],
                "textDataFormat": "token",
                "tokenMetric": "Average",
                "wordColor": "random",
                "wordData": "index",
                "wordRotate": "none"
              },
              "chartMode": "empty",
              "confoRules": [],
              "decoration": {
                "footer": "",
                "subtitle": "",
                "title": "New View"
              },
              "facets": [],
              "filterSettings": {
                "SHOW_FILTER_PANEL": true,
                "filters": []
              },
              "id": "e5a9ed63-35cc-4197-88f6-76d29f92d0e9",
              "isDefault": false,
              "type": "public",
              "userID": ""
            },
            {
              "annotationRules": [],
              "chart": {
                "facets": [],
                "textDataFormat": "token",
                "tokenMetric": "Average",
                "wordColor": "random",
                "wordData": "index",
                "wordRotate": "none"
              },
              "chartMode": "wordcloud",
              "confoRules": [
                {
                  "colorOpts": {
                    "color": null,
                    "colorsHash": {
                      "E. asburiae": "#b86117",
                      "E. bugandensis": "#27552d",
                      "E. cancerogenus": "#f62150",
                      "E. cloacae": "#122753",
                      "E. hormaechei": "#b3331d",
                      "E. hormaechei subsp. steigerwaltii": "#159eb7",
                      "E. kobei": "#e46538",
                      "E. ludwigii": "#b6a756",
                      "E. mori": "#e5e36e",
                      "E. roggenkampiiÿ": "#e6a19f",
                      "E. wuhouensis": "#96bb77",
                      "Kosakonia": "#827abf",
                      "Phytobacter": "#6f89b6"
                    },
                    "cond": null,
                    "gradient": null,
                    "max": "",
                    "min": "",
                    "mode": "categorical",
                    "scale": null,
                    "thresholdColors": null,
                    "thresholdValues": null
                  },
                  "columnType": "Dimension",
                  "fieldName": "index",
                  "id": "data-prism",
                  "index": 0,
                  "name": ""
                }
              ],
              "decoration": {
                "footer": "",
                "subtitle": "",
                "title": "Table"
              },
              "facets": [],
              "filterSettings": {
                "SHOW_FILTER_PANEL": true,
                "filters": []
              },
              "id": "first-view",
              "isComment": false,
              "isDefault": true,
              "isTransitory": false,
              "size": {
                "height": 410,
                "width": 410
              },
              "type": "public",
              "userID": ""
            },
            {
              "annotationRules": [],
              "chart": {
                "facets": [],
                "textDataFormat": "token",
                "tokenMetric": "Average",
                "wordColor": "random",
                "wordData": "index",
                "wordRotate": "none"
              },
              "chartMode": "empty",
              "confoRules": [],
              "decoration": {
                "footer": "",
                "subtitle": "",
                "title": "New View"
              },
              "facets": [],
              "filterSettings": {
                "SHOW_FILTER_PANEL": true,
                "filters": []
              },
              "id": "fd91c111-b3c1-4f9c-9a12-34ce1b5a05a8",
              "isDefault": false,
              "type": "public",
              "userID": ""
            }
          ]
        }
      },
      "execution_count": null,
      "source": "# Calculate the number of strains for each species\nstrain_count = df['Species'].value_counts()\n\n# Calculate the incidence of resistance for each species, corrected for strain number\nresistance_incidence_corrected = df.groupby('Species').sum().div(strain_count, axis=0)\n\n# Calculate the average resistance incidence across all antibiotics for each species\nresistance_incidence_corrected['Average'] = resistance_incidence_corrected.mean(axis=1)\n\n# Sort the species by the average resistance incidence\nresistance_incidence_corrected = resistance_incidence_corrected.sort_values('Average', ascending=False)\n\n# Display the corrected resistance incidence DataFrame\nresistance_incidence_corrected",
      "outputs": []
    },
    {
      "id": "f4168875-e0ac-4c0b-a96e-783b4af898d8",
      "cell_type": "code",
      "metadata": {
        "noteable": {
          "cell_type": "code",
          "output_collection_id": "1dd1284c-f129-4b50-b9a1-6d8b875a4989"
        },
        "ExecuteTime": {
          "end_time": "2023-07-24T12:49:44.629376+00:00",
          "start_time": "2023-07-24T12:49:44.042161+00:00"
        }
      },
      "execution_count": null,
      "source": "# Visualize the corrected average resistance incidence for each species\nfig, ax = plt.subplots(figsize=(10, 5))\n\n# Plot the corrected average resistance incidence\nsns.barplot(x='Average', y=resistance_incidence_corrected.index, data=resistance_incidence_corrected, ax=ax, color='grey')\nax.set_title('Corrected Average Resistance Incidence for Each Species')\nplt.show()",
      "outputs": []
    },
    {
      "id": "e956e6a6-9f9e-40a2-9674-bdce1a00f7a7",
      "cell_type": "code",
      "metadata": {
        "noteable": {
          "cell_type": "code",
          "output_collection_id": "31a17838-2252-4764-999c-608a14b03d0e"
        },
        "ExecuteTime": {
          "end_time": "2023-07-24T12:52:36.023333+00:00",
          "start_time": "2023-07-24T12:52:35.842697+00:00"
        }
      },
      "execution_count": null,
      "source": "# Perform a Chi-square test of independence for all species together\ncontingency_table_all = pd.crosstab(df['Species'], df.drop('Species', axis=1).apply(lambda x: ''.join(x.astype(str)), axis=1))\nchi2_all, p_all, dof_all, expected_all = chi2_contingency(contingency_table_all)\n\np_all",
      "outputs": []
    },
    {
      "id": "2c82523a-d20d-4340-893f-f696d35f305c",
      "cell_type": "code",
      "metadata": {
        "noteable": {
          "cell_type": "code",
          "output_collection_id": "1665707a-4a8a-40da-a38d-a5e158dcf3c0"
        },
        "ExecuteTime": {
          "end_time": "2023-07-24T12:54:20.120911+00:00",
          "start_time": "2023-07-24T12:54:19.488409+00:00"
        }
      },
      "execution_count": null,
      "source": "# Visualize the expected distribution of resistance profiles if they were independent of the species\nexpected_df = pd.DataFrame(expected_all, index=contingency_table_all.index, columns=contingency_table_all.columns)\nexpected_df['Average'] = expected_df.mean(axis=1)\nexpected_df = expected_df.sort_values('Average', ascending=False)\n\nfig, ax = plt.subplots(figsize=(10, 5))\nsns.barplot(x='Average', y=expected_df.index, data=expected_df, ax=ax, color='blue')\nax.set_title('Expected Average Resistance Incidence for Each Species')\nplt.show()",
      "outputs": []
    },
    {
      "id": "bd9f6f52-4038-413b-bae9-77f2efa1a4e0",
      "cell_type": "code",
      "metadata": {
        "noteable": {
          "cell_type": "code",
          "output_collection_id": "5267a065-6200-4ae3-a580-96515c661b28"
        },
        "ExecuteTime": {
          "end_time": "2023-07-24T12:57:11.762389+00:00",
          "start_time": "2023-07-24T12:57:11.204486+00:00"
        }
      },
      "execution_count": null,
      "source": "# Visualize the corrected average resistance incidence for each species with the p-value\nfig, ax = plt.subplots(figsize=(10, 5))\n\n# Plot the corrected average resistance incidence\nsns.barplot(x='Average', y=resistance_incidence_corrected.index, data=resistance_incidence_corrected, ax=ax, color='blue')\nax.set_title('Average Resistance Incidence for Each Species (p-value = {:.2e})'.format(p_all))\nplt.show()",
      "outputs": []
    }
  ]
}